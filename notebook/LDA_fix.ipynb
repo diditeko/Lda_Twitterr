{
  "cells": [
    {
      "cell_type": "markdown",
      "metadata": {
        "id": "XlUQaagOWjLz"
      },
      "source": [
        "#Library"
      ]
    },
    {
      "cell_type": "code",
      "execution_count": 1,
      "metadata": {
        "colab": {
          "base_uri": "https://localhost:8080/"
        },
        "id": "kMS9_tMQWI6F",
        "outputId": "1bf6ffd5-98b7-4050-821e-46d8e26d6b2a"
      },
      "outputs": [
        {
          "output_type": "stream",
          "name": "stdout",
          "text": [
            "Requirement already satisfied: gensim in /usr/local/lib/python3.10/dist-packages (4.3.2)\n",
            "Requirement already satisfied: numpy>=1.18.5 in /usr/local/lib/python3.10/dist-packages (from gensim) (1.23.5)\n",
            "Requirement already satisfied: scipy>=1.7.0 in /usr/local/lib/python3.10/dist-packages (from gensim) (1.11.3)\n",
            "Requirement already satisfied: smart-open>=1.8.1 in /usr/local/lib/python3.10/dist-packages (from gensim) (6.4.0)\n"
          ]
        }
      ],
      "source": [
        "pip install --upgrade gensim"
      ]
    },
    {
      "cell_type": "code",
      "execution_count": 2,
      "metadata": {
        "colab": {
          "base_uri": "https://localhost:8080/"
        },
        "id": "Pde_4h_vWNK7",
        "outputId": "578a28f9-bc92-498a-82d2-bf29abc4c17d"
      },
      "outputs": [
        {
          "output_type": "stream",
          "name": "stdout",
          "text": [
            "Collecting pyldavis==3.2.1\n",
            "  Downloading pyLDAvis-3.2.1.tar.gz (1.7 MB)\n",
            "\u001b[2K     \u001b[90m━━━━━━━━━━━━━━━━━━━━━━━━━━━━━━━━━━━━━━━━\u001b[0m \u001b[32m1.7/1.7 MB\u001b[0m \u001b[31m17.1 MB/s\u001b[0m eta \u001b[36m0:00:00\u001b[0m\n",
            "\u001b[?25h  Preparing metadata (setup.py) ... \u001b[?25l\u001b[?25hdone\n",
            "Requirement already satisfied: wheel>=0.23.0 in /usr/local/lib/python3.10/dist-packages (from pyldavis==3.2.1) (0.41.3)\n",
            "Requirement already satisfied: numpy>=1.9.2 in /usr/local/lib/python3.10/dist-packages (from pyldavis==3.2.1) (1.23.5)\n",
            "Requirement already satisfied: scipy>=0.18.0 in /usr/local/lib/python3.10/dist-packages (from pyldavis==3.2.1) (1.11.3)\n",
            "Requirement already satisfied: joblib>=0.8.4 in /usr/local/lib/python3.10/dist-packages (from pyldavis==3.2.1) (1.3.2)\n",
            "Requirement already satisfied: jinja2>=2.7.2 in /usr/local/lib/python3.10/dist-packages (from pyldavis==3.2.1) (3.1.2)\n",
            "Requirement already satisfied: numexpr in /usr/local/lib/python3.10/dist-packages (from pyldavis==3.2.1) (2.8.7)\n",
            "Requirement already satisfied: future in /usr/local/lib/python3.10/dist-packages (from pyldavis==3.2.1) (0.18.3)\n",
            "Collecting funcy (from pyldavis==3.2.1)\n",
            "  Downloading funcy-2.0-py2.py3-none-any.whl (30 kB)\n",
            "Requirement already satisfied: pandas>=0.17.0 in /usr/local/lib/python3.10/dist-packages (from pyldavis==3.2.1) (1.5.3)\n",
            "Requirement already satisfied: MarkupSafe>=2.0 in /usr/local/lib/python3.10/dist-packages (from jinja2>=2.7.2->pyldavis==3.2.1) (2.1.3)\n",
            "Requirement already satisfied: python-dateutil>=2.8.1 in /usr/local/lib/python3.10/dist-packages (from pandas>=0.17.0->pyldavis==3.2.1) (2.8.2)\n",
            "Requirement already satisfied: pytz>=2020.1 in /usr/local/lib/python3.10/dist-packages (from pandas>=0.17.0->pyldavis==3.2.1) (2023.3.post1)\n",
            "Requirement already satisfied: six>=1.5 in /usr/local/lib/python3.10/dist-packages (from python-dateutil>=2.8.1->pandas>=0.17.0->pyldavis==3.2.1) (1.16.0)\n",
            "Building wheels for collected packages: pyldavis\n",
            "  Building wheel for pyldavis (setup.py) ... \u001b[?25l\u001b[?25hdone\n",
            "  Created wheel for pyldavis: filename=pyLDAvis-3.2.1-py2.py3-none-any.whl size=136162 sha256=8491fd4f97ea94d66440037148d2376c52a436b102478c63f68251638f7c5f25\n",
            "  Stored in directory: /root/.cache/pip/wheels/d3/35/9c/c084bb1c3a4b8a7feb32d57c88f572dcf5c3accc949478893f\n",
            "Successfully built pyldavis\n",
            "Installing collected packages: funcy, pyldavis\n",
            "Successfully installed funcy-2.0 pyldavis-3.2.1\n"
          ]
        }
      ],
      "source": [
        "pip install pyldavis==3.2.1"
      ]
    },
    {
      "cell_type": "code",
      "execution_count": 3,
      "metadata": {
        "colab": {
          "base_uri": "https://localhost:8080/"
        },
        "id": "m5yf3WuwWRtJ",
        "outputId": "ba7b1e7a-b4fa-4635-c065-4e21ab602fd8"
      },
      "outputs": [
        {
          "output_type": "stream",
          "name": "stdout",
          "text": [
            "Collecting Sastrawi\n",
            "  Downloading Sastrawi-1.0.1-py2.py3-none-any.whl (209 kB)\n",
            "\u001b[?25l     \u001b[90m━━━━━━━━━━━━━━━━━━━━━━━━━━━━━━━━━━━━━━━━\u001b[0m \u001b[32m0.0/209.7 kB\u001b[0m \u001b[31m?\u001b[0m eta \u001b[36m-:--:--\u001b[0m\r\u001b[2K     \u001b[91m━━━━━━━━━━━\u001b[0m\u001b[91m╸\u001b[0m\u001b[90m━━━━━━━━━━━━━━━━━━━━━━━━━━━━\u001b[0m \u001b[32m61.4/209.7 kB\u001b[0m \u001b[31m1.6 MB/s\u001b[0m eta \u001b[36m0:00:01\u001b[0m\r\u001b[2K     \u001b[90m━━━━━━━━━━━━━━━━━━━━━━━━━━━━━━━━━━━━━━━━\u001b[0m \u001b[32m209.7/209.7 kB\u001b[0m \u001b[31m3.5 MB/s\u001b[0m eta \u001b[36m0:00:00\u001b[0m\n",
            "\u001b[?25hInstalling collected packages: Sastrawi\n",
            "Successfully installed Sastrawi-1.0.1\n"
          ]
        }
      ],
      "source": [
        "pip install Sastrawi"
      ]
    },
    {
      "cell_type": "code",
      "execution_count": 4,
      "metadata": {
        "colab": {
          "base_uri": "https://localhost:8080/"
        },
        "id": "kEueE_9hWVy7",
        "outputId": "0027bf6f-4037-4ad3-ef5c-e9ed062da1ca"
      },
      "outputs": [
        {
          "output_type": "stream",
          "name": "stdout",
          "text": [
            "Collecting swifter\n",
            "  Downloading swifter-1.4.0.tar.gz (1.2 MB)\n",
            "\u001b[2K     \u001b[90m━━━━━━━━━━━━━━━━━━━━━━━━━━━━━━━━━━━━━━━━\u001b[0m \u001b[32m1.2/1.2 MB\u001b[0m \u001b[31m12.3 MB/s\u001b[0m eta \u001b[36m0:00:00\u001b[0m\n",
            "\u001b[?25h  Preparing metadata (setup.py) ... \u001b[?25l\u001b[?25hdone\n",
            "Requirement already satisfied: pandas>=1.0.0 in /usr/local/lib/python3.10/dist-packages (from swifter) (1.5.3)\n",
            "Requirement already satisfied: psutil>=5.6.6 in /usr/local/lib/python3.10/dist-packages (from swifter) (5.9.5)\n",
            "Requirement already satisfied: dask[dataframe]>=2.10.0 in /usr/local/lib/python3.10/dist-packages (from swifter) (2023.8.1)\n",
            "Requirement already satisfied: tqdm>=4.33.0 in /usr/local/lib/python3.10/dist-packages (from swifter) (4.66.1)\n",
            "Requirement already satisfied: click>=8.0 in /usr/local/lib/python3.10/dist-packages (from dask[dataframe]>=2.10.0->swifter) (8.1.7)\n",
            "Requirement already satisfied: cloudpickle>=1.5.0 in /usr/local/lib/python3.10/dist-packages (from dask[dataframe]>=2.10.0->swifter) (2.2.1)\n",
            "Requirement already satisfied: fsspec>=2021.09.0 in /usr/local/lib/python3.10/dist-packages (from dask[dataframe]>=2.10.0->swifter) (2023.6.0)\n",
            "Requirement already satisfied: packaging>=20.0 in /usr/local/lib/python3.10/dist-packages (from dask[dataframe]>=2.10.0->swifter) (23.2)\n",
            "Requirement already satisfied: partd>=1.2.0 in /usr/local/lib/python3.10/dist-packages (from dask[dataframe]>=2.10.0->swifter) (1.4.1)\n",
            "Requirement already satisfied: pyyaml>=5.3.1 in /usr/local/lib/python3.10/dist-packages (from dask[dataframe]>=2.10.0->swifter) (6.0.1)\n",
            "Requirement already satisfied: toolz>=0.10.0 in /usr/local/lib/python3.10/dist-packages (from dask[dataframe]>=2.10.0->swifter) (0.12.0)\n",
            "Requirement already satisfied: importlib-metadata>=4.13.0 in /usr/local/lib/python3.10/dist-packages (from dask[dataframe]>=2.10.0->swifter) (6.8.0)\n",
            "Requirement already satisfied: python-dateutil>=2.8.1 in /usr/local/lib/python3.10/dist-packages (from pandas>=1.0.0->swifter) (2.8.2)\n",
            "Requirement already satisfied: pytz>=2020.1 in /usr/local/lib/python3.10/dist-packages (from pandas>=1.0.0->swifter) (2023.3.post1)\n",
            "Requirement already satisfied: numpy>=1.21.0 in /usr/local/lib/python3.10/dist-packages (from pandas>=1.0.0->swifter) (1.23.5)\n",
            "Requirement already satisfied: zipp>=0.5 in /usr/local/lib/python3.10/dist-packages (from importlib-metadata>=4.13.0->dask[dataframe]>=2.10.0->swifter) (3.17.0)\n",
            "Requirement already satisfied: locket in /usr/local/lib/python3.10/dist-packages (from partd>=1.2.0->dask[dataframe]>=2.10.0->swifter) (1.0.0)\n",
            "Requirement already satisfied: six>=1.5 in /usr/local/lib/python3.10/dist-packages (from python-dateutil>=2.8.1->pandas>=1.0.0->swifter) (1.16.0)\n",
            "Building wheels for collected packages: swifter\n",
            "  Building wheel for swifter (setup.py) ... \u001b[?25l\u001b[?25hdone\n",
            "  Created wheel for swifter: filename=swifter-1.4.0-py3-none-any.whl size=16505 sha256=8418648948f1bf08c18f81ae11b8da95ff3edcb4607427f7e105bd563588ac6c\n",
            "  Stored in directory: /root/.cache/pip/wheels/e4/cf/51/0904952972ee2c7aa3709437065278dc534ec1b8d2ad41b443\n",
            "Successfully built swifter\n",
            "Installing collected packages: swifter\n",
            "Successfully installed swifter-1.4.0\n"
          ]
        }
      ],
      "source": [
        "pip install swifter"
      ]
    },
    {
      "cell_type": "markdown",
      "metadata": {
        "id": "oKU9VMtFWg01"
      },
      "source": [
        "#Data"
      ]
    },
    {
      "cell_type": "code",
      "execution_count": 5,
      "metadata": {
        "id": "Ruusq8TVWaW6"
      },
      "outputs": [],
      "source": [
        "import pandas as pd\n",
        "import numpy as np\n",
        "import nltk\n",
        "\n",
        "import string\n",
        "import re #regex library\n",
        "\n",
        "# import word_tokenize & FreqDist from NLTK\n",
        "from nltk.tokenize import word_tokenize\n",
        "from nltk.probability import FreqDist\n",
        "\n",
        "from nltk.corpus import stopwords\n",
        "from Sastrawi.Stemmer.StemmerFactory import StemmerFactory"
      ]
    },
    {
      "cell_type": "code",
      "execution_count": 6,
      "metadata": {
        "colab": {
          "base_uri": "https://localhost:8080/",
          "height": 424
        },
        "id": "7DEhOSKgWogt",
        "outputId": "6ad13f23-0a80-4fc2-8f2f-e350ef4eab78"
      },
      "outputs": [
        {
          "output_type": "execute_result",
          "data": {
            "text/plain": [
              "                                                 twitter\n",
              "0       @prabowo sedang menjemput takdirnya - @AHMADD...\n",
              "1       \\n5️⃣ tanda Kehormatan yang dimiliki Ganjar P...\n",
              "2       \\n5️⃣ tanda Kehormatan yang dimiliki Ganjar P...\n",
              "3       \\n5️⃣ tanda Kehormatan yang dimiliki Ganjar P...\n",
              "4       \\nDedikasi turunkan angka kematian Ibu dan ba...\n",
              "...                                                  ...\n",
              "45388  🤣🤣🤣🤣🤣\\nEmang bener unfaedah ladenin Akun Lu\\n\\...\n",
              "45389  🤩📺 #LALIGAEASPORTS as you've never seen it bef...\n",
              "45390  🤭\\n.\\n.\\n.\\n.\\n.\\nTakut amir sama @ganjarprano...\n",
              "45391  🤭🤭\\n\\n“Dan dengan mendukung Ganjar Pranowo ses...\n",
              "45392  🥰 memaknai simbol jempol telunjuk Pak Jokowi y...\n",
              "\n",
              "[45393 rows x 1 columns]"
            ],
            "text/html": [
              "\n",
              "  <div id=\"df-b92d7a16-5630-40e1-91df-cb073d8daf8d\" class=\"colab-df-container\">\n",
              "    <div>\n",
              "<style scoped>\n",
              "    .dataframe tbody tr th:only-of-type {\n",
              "        vertical-align: middle;\n",
              "    }\n",
              "\n",
              "    .dataframe tbody tr th {\n",
              "        vertical-align: top;\n",
              "    }\n",
              "\n",
              "    .dataframe thead th {\n",
              "        text-align: right;\n",
              "    }\n",
              "</style>\n",
              "<table border=\"1\" class=\"dataframe\">\n",
              "  <thead>\n",
              "    <tr style=\"text-align: right;\">\n",
              "      <th></th>\n",
              "      <th>twitter</th>\n",
              "    </tr>\n",
              "  </thead>\n",
              "  <tbody>\n",
              "    <tr>\n",
              "      <th>0</th>\n",
              "      <td>@prabowo sedang menjemput takdirnya - @AHMADD...</td>\n",
              "    </tr>\n",
              "    <tr>\n",
              "      <th>1</th>\n",
              "      <td>\\n5️⃣ tanda Kehormatan yang dimiliki Ganjar P...</td>\n",
              "    </tr>\n",
              "    <tr>\n",
              "      <th>2</th>\n",
              "      <td>\\n5️⃣ tanda Kehormatan yang dimiliki Ganjar P...</td>\n",
              "    </tr>\n",
              "    <tr>\n",
              "      <th>3</th>\n",
              "      <td>\\n5️⃣ tanda Kehormatan yang dimiliki Ganjar P...</td>\n",
              "    </tr>\n",
              "    <tr>\n",
              "      <th>4</th>\n",
              "      <td>\\nDedikasi turunkan angka kematian Ibu dan ba...</td>\n",
              "    </tr>\n",
              "    <tr>\n",
              "      <th>...</th>\n",
              "      <td>...</td>\n",
              "    </tr>\n",
              "    <tr>\n",
              "      <th>45388</th>\n",
              "      <td>🤣🤣🤣🤣🤣\\nEmang bener unfaedah ladenin Akun Lu\\n\\...</td>\n",
              "    </tr>\n",
              "    <tr>\n",
              "      <th>45389</th>\n",
              "      <td>🤩📺 #LALIGAEASPORTS as you've never seen it bef...</td>\n",
              "    </tr>\n",
              "    <tr>\n",
              "      <th>45390</th>\n",
              "      <td>🤭\\n.\\n.\\n.\\n.\\n.\\nTakut amir sama @ganjarprano...</td>\n",
              "    </tr>\n",
              "    <tr>\n",
              "      <th>45391</th>\n",
              "      <td>🤭🤭\\n\\n“Dan dengan mendukung Ganjar Pranowo ses...</td>\n",
              "    </tr>\n",
              "    <tr>\n",
              "      <th>45392</th>\n",
              "      <td>🥰 memaknai simbol jempol telunjuk Pak Jokowi y...</td>\n",
              "    </tr>\n",
              "  </tbody>\n",
              "</table>\n",
              "<p>45393 rows × 1 columns</p>\n",
              "</div>\n",
              "    <div class=\"colab-df-buttons\">\n",
              "\n",
              "  <div class=\"colab-df-container\">\n",
              "    <button class=\"colab-df-convert\" onclick=\"convertToInteractive('df-b92d7a16-5630-40e1-91df-cb073d8daf8d')\"\n",
              "            title=\"Convert this dataframe to an interactive table.\"\n",
              "            style=\"display:none;\">\n",
              "\n",
              "  <svg xmlns=\"http://www.w3.org/2000/svg\" height=\"24px\" viewBox=\"0 -960 960 960\">\n",
              "    <path d=\"M120-120v-720h720v720H120Zm60-500h600v-160H180v160Zm220 220h160v-160H400v160Zm0 220h160v-160H400v160ZM180-400h160v-160H180v160Zm440 0h160v-160H620v160ZM180-180h160v-160H180v160Zm440 0h160v-160H620v160Z\"/>\n",
              "  </svg>\n",
              "    </button>\n",
              "\n",
              "  <style>\n",
              "    .colab-df-container {\n",
              "      display:flex;\n",
              "      gap: 12px;\n",
              "    }\n",
              "\n",
              "    .colab-df-convert {\n",
              "      background-color: #E8F0FE;\n",
              "      border: none;\n",
              "      border-radius: 50%;\n",
              "      cursor: pointer;\n",
              "      display: none;\n",
              "      fill: #1967D2;\n",
              "      height: 32px;\n",
              "      padding: 0 0 0 0;\n",
              "      width: 32px;\n",
              "    }\n",
              "\n",
              "    .colab-df-convert:hover {\n",
              "      background-color: #E2EBFA;\n",
              "      box-shadow: 0px 1px 2px rgba(60, 64, 67, 0.3), 0px 1px 3px 1px rgba(60, 64, 67, 0.15);\n",
              "      fill: #174EA6;\n",
              "    }\n",
              "\n",
              "    .colab-df-buttons div {\n",
              "      margin-bottom: 4px;\n",
              "    }\n",
              "\n",
              "    [theme=dark] .colab-df-convert {\n",
              "      background-color: #3B4455;\n",
              "      fill: #D2E3FC;\n",
              "    }\n",
              "\n",
              "    [theme=dark] .colab-df-convert:hover {\n",
              "      background-color: #434B5C;\n",
              "      box-shadow: 0px 1px 3px 1px rgba(0, 0, 0, 0.15);\n",
              "      filter: drop-shadow(0px 1px 2px rgba(0, 0, 0, 0.3));\n",
              "      fill: #FFFFFF;\n",
              "    }\n",
              "  </style>\n",
              "\n",
              "    <script>\n",
              "      const buttonEl =\n",
              "        document.querySelector('#df-b92d7a16-5630-40e1-91df-cb073d8daf8d button.colab-df-convert');\n",
              "      buttonEl.style.display =\n",
              "        google.colab.kernel.accessAllowed ? 'block' : 'none';\n",
              "\n",
              "      async function convertToInteractive(key) {\n",
              "        const element = document.querySelector('#df-b92d7a16-5630-40e1-91df-cb073d8daf8d');\n",
              "        const dataTable =\n",
              "          await google.colab.kernel.invokeFunction('convertToInteractive',\n",
              "                                                    [key], {});\n",
              "        if (!dataTable) return;\n",
              "\n",
              "        const docLinkHtml = 'Like what you see? Visit the ' +\n",
              "          '<a target=\"_blank\" href=https://colab.research.google.com/notebooks/data_table.ipynb>data table notebook</a>'\n",
              "          + ' to learn more about interactive tables.';\n",
              "        element.innerHTML = '';\n",
              "        dataTable['output_type'] = 'display_data';\n",
              "        await google.colab.output.renderOutput(dataTable, element);\n",
              "        const docLink = document.createElement('div');\n",
              "        docLink.innerHTML = docLinkHtml;\n",
              "        element.appendChild(docLink);\n",
              "      }\n",
              "    </script>\n",
              "  </div>\n",
              "\n",
              "\n",
              "<div id=\"df-bf0fd344-91bd-4996-95f4-3e58357a5d03\">\n",
              "  <button class=\"colab-df-quickchart\" onclick=\"quickchart('df-bf0fd344-91bd-4996-95f4-3e58357a5d03')\"\n",
              "            title=\"Suggest charts\"\n",
              "            style=\"display:none;\">\n",
              "\n",
              "<svg xmlns=\"http://www.w3.org/2000/svg\" height=\"24px\"viewBox=\"0 0 24 24\"\n",
              "     width=\"24px\">\n",
              "    <g>\n",
              "        <path d=\"M19 3H5c-1.1 0-2 .9-2 2v14c0 1.1.9 2 2 2h14c1.1 0 2-.9 2-2V5c0-1.1-.9-2-2-2zM9 17H7v-7h2v7zm4 0h-2V7h2v10zm4 0h-2v-4h2v4z\"/>\n",
              "    </g>\n",
              "</svg>\n",
              "  </button>\n",
              "\n",
              "<style>\n",
              "  .colab-df-quickchart {\n",
              "      --bg-color: #E8F0FE;\n",
              "      --fill-color: #1967D2;\n",
              "      --hover-bg-color: #E2EBFA;\n",
              "      --hover-fill-color: #174EA6;\n",
              "      --disabled-fill-color: #AAA;\n",
              "      --disabled-bg-color: #DDD;\n",
              "  }\n",
              "\n",
              "  [theme=dark] .colab-df-quickchart {\n",
              "      --bg-color: #3B4455;\n",
              "      --fill-color: #D2E3FC;\n",
              "      --hover-bg-color: #434B5C;\n",
              "      --hover-fill-color: #FFFFFF;\n",
              "      --disabled-bg-color: #3B4455;\n",
              "      --disabled-fill-color: #666;\n",
              "  }\n",
              "\n",
              "  .colab-df-quickchart {\n",
              "    background-color: var(--bg-color);\n",
              "    border: none;\n",
              "    border-radius: 50%;\n",
              "    cursor: pointer;\n",
              "    display: none;\n",
              "    fill: var(--fill-color);\n",
              "    height: 32px;\n",
              "    padding: 0;\n",
              "    width: 32px;\n",
              "  }\n",
              "\n",
              "  .colab-df-quickchart:hover {\n",
              "    background-color: var(--hover-bg-color);\n",
              "    box-shadow: 0 1px 2px rgba(60, 64, 67, 0.3), 0 1px 3px 1px rgba(60, 64, 67, 0.15);\n",
              "    fill: var(--button-hover-fill-color);\n",
              "  }\n",
              "\n",
              "  .colab-df-quickchart-complete:disabled,\n",
              "  .colab-df-quickchart-complete:disabled:hover {\n",
              "    background-color: var(--disabled-bg-color);\n",
              "    fill: var(--disabled-fill-color);\n",
              "    box-shadow: none;\n",
              "  }\n",
              "\n",
              "  .colab-df-spinner {\n",
              "    border: 2px solid var(--fill-color);\n",
              "    border-color: transparent;\n",
              "    border-bottom-color: var(--fill-color);\n",
              "    animation:\n",
              "      spin 1s steps(1) infinite;\n",
              "  }\n",
              "\n",
              "  @keyframes spin {\n",
              "    0% {\n",
              "      border-color: transparent;\n",
              "      border-bottom-color: var(--fill-color);\n",
              "      border-left-color: var(--fill-color);\n",
              "    }\n",
              "    20% {\n",
              "      border-color: transparent;\n",
              "      border-left-color: var(--fill-color);\n",
              "      border-top-color: var(--fill-color);\n",
              "    }\n",
              "    30% {\n",
              "      border-color: transparent;\n",
              "      border-left-color: var(--fill-color);\n",
              "      border-top-color: var(--fill-color);\n",
              "      border-right-color: var(--fill-color);\n",
              "    }\n",
              "    40% {\n",
              "      border-color: transparent;\n",
              "      border-right-color: var(--fill-color);\n",
              "      border-top-color: var(--fill-color);\n",
              "    }\n",
              "    60% {\n",
              "      border-color: transparent;\n",
              "      border-right-color: var(--fill-color);\n",
              "    }\n",
              "    80% {\n",
              "      border-color: transparent;\n",
              "      border-right-color: var(--fill-color);\n",
              "      border-bottom-color: var(--fill-color);\n",
              "    }\n",
              "    90% {\n",
              "      border-color: transparent;\n",
              "      border-bottom-color: var(--fill-color);\n",
              "    }\n",
              "  }\n",
              "</style>\n",
              "\n",
              "  <script>\n",
              "    async function quickchart(key) {\n",
              "      const quickchartButtonEl =\n",
              "        document.querySelector('#' + key + ' button');\n",
              "      quickchartButtonEl.disabled = true;  // To prevent multiple clicks.\n",
              "      quickchartButtonEl.classList.add('colab-df-spinner');\n",
              "      try {\n",
              "        const charts = await google.colab.kernel.invokeFunction(\n",
              "            'suggestCharts', [key], {});\n",
              "      } catch (error) {\n",
              "        console.error('Error during call to suggestCharts:', error);\n",
              "      }\n",
              "      quickchartButtonEl.classList.remove('colab-df-spinner');\n",
              "      quickchartButtonEl.classList.add('colab-df-quickchart-complete');\n",
              "    }\n",
              "    (() => {\n",
              "      let quickchartButtonEl =\n",
              "        document.querySelector('#df-bf0fd344-91bd-4996-95f4-3e58357a5d03 button');\n",
              "      quickchartButtonEl.style.display =\n",
              "        google.colab.kernel.accessAllowed ? 'block' : 'none';\n",
              "    })();\n",
              "  </script>\n",
              "</div>\n",
              "    </div>\n",
              "  </div>\n"
            ]
          },
          "metadata": {},
          "execution_count": 6
        }
      ],
      "source": [
        "df = pd.read_excel('/content/topic_modelling.xlsx')\n",
        "df"
      ]
    },
    {
      "cell_type": "code",
      "execution_count": 7,
      "metadata": {
        "colab": {
          "base_uri": "https://localhost:8080/"
        },
        "id": "9tjhRfTMshT_",
        "outputId": "6de7be57-082d-4a1c-e88f-59379efb8dcd"
      },
      "outputs": [
        {
          "output_type": "execute_result",
          "data": {
            "text/plain": [
              "twitter    0\n",
              "dtype: int64"
            ]
          },
          "metadata": {},
          "execution_count": 7
        }
      ],
      "source": [
        "df.isnull().sum()"
      ]
    },
    {
      "cell_type": "markdown",
      "metadata": {
        "id": "woR3J28HXP1I"
      },
      "source": [
        "#Preproccess"
      ]
    },
    {
      "cell_type": "code",
      "execution_count": 8,
      "metadata": {
        "colab": {
          "base_uri": "https://localhost:8080/"
        },
        "id": "ZJn6LTRgXjau",
        "outputId": "059e8b5a-2e89-4e46-cbb5-bd7f08512b75"
      },
      "outputs": [
        {
          "output_type": "stream",
          "name": "stderr",
          "text": [
            "[nltk_data] Downloading package stopwords to /root/nltk_data...\n",
            "[nltk_data]   Unzipping corpora/stopwords.zip.\n",
            "[nltk_data] Downloading package punkt to /root/nltk_data...\n",
            "[nltk_data]   Unzipping tokenizers/punkt.zip.\n"
          ]
        },
        {
          "output_type": "execute_result",
          "data": {
            "text/plain": [
              "True"
            ]
          },
          "metadata": {},
          "execution_count": 8
        }
      ],
      "source": [
        "nltk.download('stopwords')\n",
        "nltk.download('punkt')"
      ]
    },
    {
      "cell_type": "code",
      "execution_count": 9,
      "metadata": {
        "colab": {
          "base_uri": "https://localhost:8080/"
        },
        "id": "0UT0puhnW7I1",
        "outputId": "6e8e8dd5-db5c-4177-974a-caa6675da531"
      },
      "outputs": [
        {
          "output_type": "stream",
          "name": "stdout",
          "text": [
            "Preprocessing Result:\n",
            "\n",
            "0    [sedang, menjemput, takdirnya, katanya, perpol...\n",
            "1    [tanda, kehormatan, yang, dimiliki, ganjar, pr...\n",
            "2    [tanda, kehormatan, yang, dimiliki, ganjar, pr...\n",
            "3    [tanda, kehormatan, yang, dimiliki, ganjar, pr...\n",
            "4    [dedikasi, turunkan, angka, kematian, ibu, dan...\n",
            "Name: tweet_preprocess, dtype: object\n"
          ]
        }
      ],
      "source": [
        "def preprocess_text(text):\n",
        "    # Convert text to lowercase\n",
        "    text = text.lower()\n",
        "    # Remove tab, new line, and backslash\n",
        "    text = text.replace('\\\\t', ' ').replace('\\\\n', ' ').replace('\\\\u', '').replace('\\\\', '')\n",
        "    # Remove non ASCII characters\n",
        "    text = text.encode('ascii', 'replace').decode('ascii')\n",
        "    # Remove mention, link, hashtag\n",
        "    text = ' '.join(re.sub(\"([@#][A-Za-z0-9]+)|(\\w+:\\/\\/\\S+)\", \" \", text).split())\n",
        "    # Remove incomplete URL\n",
        "    text = text.replace(\"http://\", \" \").replace(\"https://\", \" \")\n",
        "    # Remove numbers\n",
        "    text = re.sub(r\"\\d+\", \"\", text)\n",
        "    # Remove punctuation\n",
        "    text = text.translate(str.maketrans(\"\", \"\", string.punctuation))\n",
        "    # Remove leading and trailing whitespace\n",
        "    text = text.strip()\n",
        "    # Remove multiple whitespace into single whitespace\n",
        "    text = re.sub('\\s+', ' ', text)\n",
        "    # Remove single characters\n",
        "    text = re.sub(r\"\\b[a-zA-Z]\\b\", \"\", text)\n",
        "    # NLTK word tokenize\n",
        "    tokens = word_tokenize(text)\n",
        "    return tokens\n",
        "\n",
        "df['tweet_preprocess'] = df['twitter'].apply(preprocess_text)\n",
        "\n",
        "print('Preprocessing Result:\\n')\n",
        "print(df['tweet_preprocess'].head())"
      ]
    },
    {
      "cell_type": "code",
      "execution_count": 10,
      "metadata": {
        "colab": {
          "base_uri": "https://localhost:8080/",
          "height": 424
        },
        "id": "SO6Z49dUYhPV",
        "outputId": "ce997081-357f-41df-bb39-5966a2109ac4"
      },
      "outputs": [
        {
          "output_type": "execute_result",
          "data": {
            "text/plain": [
              "                                                 twitter  \\\n",
              "0       @prabowo sedang menjemput takdirnya - @AHMADD...   \n",
              "1       \\n5️⃣ tanda Kehormatan yang dimiliki Ganjar P...   \n",
              "2       \\n5️⃣ tanda Kehormatan yang dimiliki Ganjar P...   \n",
              "3       \\n5️⃣ tanda Kehormatan yang dimiliki Ganjar P...   \n",
              "4       \\nDedikasi turunkan angka kematian Ibu dan ba...   \n",
              "...                                                  ...   \n",
              "45388  🤣🤣🤣🤣🤣\\nEmang bener unfaedah ladenin Akun Lu\\n\\...   \n",
              "45389  🤩📺 #LALIGAEASPORTS as you've never seen it bef...   \n",
              "45390  🤭\\n.\\n.\\n.\\n.\\n.\\nTakut amir sama @ganjarprano...   \n",
              "45391  🤭🤭\\n\\n“Dan dengan mendukung Ganjar Pranowo ses...   \n",
              "45392  🥰 memaknai simbol jempol telunjuk Pak Jokowi y...   \n",
              "\n",
              "                                        tweet_preprocess  \n",
              "0      [sedang, menjemput, takdirnya, katanya, perpol...  \n",
              "1      [tanda, kehormatan, yang, dimiliki, ganjar, pr...  \n",
              "2      [tanda, kehormatan, yang, dimiliki, ganjar, pr...  \n",
              "3      [tanda, kehormatan, yang, dimiliki, ganjar, pr...  \n",
              "4      [dedikasi, turunkan, angka, kematian, ibu, dan...  \n",
              "...                                                  ...  \n",
              "45388  [emang, bener, unfaedah, ladenin, akun, lu, aw...  \n",
              "45389  [as, youve, never, seen, it, before, this, is,...  \n",
              "45390  [takut, amir, sama, ganjar, tidak, ingin, meng...  \n",
              "45391  [dan, dengan, mendukung, ganjar, pranowo, sesu...  \n",
              "45392  [memaknai, simbol, jempol, telunjuk, pak, joko...  \n",
              "\n",
              "[45393 rows x 2 columns]"
            ],
            "text/html": [
              "\n",
              "  <div id=\"df-ab7b82d4-7d1d-4589-9bd8-cea5ef50dfe6\" class=\"colab-df-container\">\n",
              "    <div>\n",
              "<style scoped>\n",
              "    .dataframe tbody tr th:only-of-type {\n",
              "        vertical-align: middle;\n",
              "    }\n",
              "\n",
              "    .dataframe tbody tr th {\n",
              "        vertical-align: top;\n",
              "    }\n",
              "\n",
              "    .dataframe thead th {\n",
              "        text-align: right;\n",
              "    }\n",
              "</style>\n",
              "<table border=\"1\" class=\"dataframe\">\n",
              "  <thead>\n",
              "    <tr style=\"text-align: right;\">\n",
              "      <th></th>\n",
              "      <th>twitter</th>\n",
              "      <th>tweet_preprocess</th>\n",
              "    </tr>\n",
              "  </thead>\n",
              "  <tbody>\n",
              "    <tr>\n",
              "      <th>0</th>\n",
              "      <td>@prabowo sedang menjemput takdirnya - @AHMADD...</td>\n",
              "      <td>[sedang, menjemput, takdirnya, katanya, perpol...</td>\n",
              "    </tr>\n",
              "    <tr>\n",
              "      <th>1</th>\n",
              "      <td>\\n5️⃣ tanda Kehormatan yang dimiliki Ganjar P...</td>\n",
              "      <td>[tanda, kehormatan, yang, dimiliki, ganjar, pr...</td>\n",
              "    </tr>\n",
              "    <tr>\n",
              "      <th>2</th>\n",
              "      <td>\\n5️⃣ tanda Kehormatan yang dimiliki Ganjar P...</td>\n",
              "      <td>[tanda, kehormatan, yang, dimiliki, ganjar, pr...</td>\n",
              "    </tr>\n",
              "    <tr>\n",
              "      <th>3</th>\n",
              "      <td>\\n5️⃣ tanda Kehormatan yang dimiliki Ganjar P...</td>\n",
              "      <td>[tanda, kehormatan, yang, dimiliki, ganjar, pr...</td>\n",
              "    </tr>\n",
              "    <tr>\n",
              "      <th>4</th>\n",
              "      <td>\\nDedikasi turunkan angka kematian Ibu dan ba...</td>\n",
              "      <td>[dedikasi, turunkan, angka, kematian, ibu, dan...</td>\n",
              "    </tr>\n",
              "    <tr>\n",
              "      <th>...</th>\n",
              "      <td>...</td>\n",
              "      <td>...</td>\n",
              "    </tr>\n",
              "    <tr>\n",
              "      <th>45388</th>\n",
              "      <td>🤣🤣🤣🤣🤣\\nEmang bener unfaedah ladenin Akun Lu\\n\\...</td>\n",
              "      <td>[emang, bener, unfaedah, ladenin, akun, lu, aw...</td>\n",
              "    </tr>\n",
              "    <tr>\n",
              "      <th>45389</th>\n",
              "      <td>🤩📺 #LALIGAEASPORTS as you've never seen it bef...</td>\n",
              "      <td>[as, youve, never, seen, it, before, this, is,...</td>\n",
              "    </tr>\n",
              "    <tr>\n",
              "      <th>45390</th>\n",
              "      <td>🤭\\n.\\n.\\n.\\n.\\n.\\nTakut amir sama @ganjarprano...</td>\n",
              "      <td>[takut, amir, sama, ganjar, tidak, ingin, meng...</td>\n",
              "    </tr>\n",
              "    <tr>\n",
              "      <th>45391</th>\n",
              "      <td>🤭🤭\\n\\n“Dan dengan mendukung Ganjar Pranowo ses...</td>\n",
              "      <td>[dan, dengan, mendukung, ganjar, pranowo, sesu...</td>\n",
              "    </tr>\n",
              "    <tr>\n",
              "      <th>45392</th>\n",
              "      <td>🥰 memaknai simbol jempol telunjuk Pak Jokowi y...</td>\n",
              "      <td>[memaknai, simbol, jempol, telunjuk, pak, joko...</td>\n",
              "    </tr>\n",
              "  </tbody>\n",
              "</table>\n",
              "<p>45393 rows × 2 columns</p>\n",
              "</div>\n",
              "    <div class=\"colab-df-buttons\">\n",
              "\n",
              "  <div class=\"colab-df-container\">\n",
              "    <button class=\"colab-df-convert\" onclick=\"convertToInteractive('df-ab7b82d4-7d1d-4589-9bd8-cea5ef50dfe6')\"\n",
              "            title=\"Convert this dataframe to an interactive table.\"\n",
              "            style=\"display:none;\">\n",
              "\n",
              "  <svg xmlns=\"http://www.w3.org/2000/svg\" height=\"24px\" viewBox=\"0 -960 960 960\">\n",
              "    <path d=\"M120-120v-720h720v720H120Zm60-500h600v-160H180v160Zm220 220h160v-160H400v160Zm0 220h160v-160H400v160ZM180-400h160v-160H180v160Zm440 0h160v-160H620v160ZM180-180h160v-160H180v160Zm440 0h160v-160H620v160Z\"/>\n",
              "  </svg>\n",
              "    </button>\n",
              "\n",
              "  <style>\n",
              "    .colab-df-container {\n",
              "      display:flex;\n",
              "      gap: 12px;\n",
              "    }\n",
              "\n",
              "    .colab-df-convert {\n",
              "      background-color: #E8F0FE;\n",
              "      border: none;\n",
              "      border-radius: 50%;\n",
              "      cursor: pointer;\n",
              "      display: none;\n",
              "      fill: #1967D2;\n",
              "      height: 32px;\n",
              "      padding: 0 0 0 0;\n",
              "      width: 32px;\n",
              "    }\n",
              "\n",
              "    .colab-df-convert:hover {\n",
              "      background-color: #E2EBFA;\n",
              "      box-shadow: 0px 1px 2px rgba(60, 64, 67, 0.3), 0px 1px 3px 1px rgba(60, 64, 67, 0.15);\n",
              "      fill: #174EA6;\n",
              "    }\n",
              "\n",
              "    .colab-df-buttons div {\n",
              "      margin-bottom: 4px;\n",
              "    }\n",
              "\n",
              "    [theme=dark] .colab-df-convert {\n",
              "      background-color: #3B4455;\n",
              "      fill: #D2E3FC;\n",
              "    }\n",
              "\n",
              "    [theme=dark] .colab-df-convert:hover {\n",
              "      background-color: #434B5C;\n",
              "      box-shadow: 0px 1px 3px 1px rgba(0, 0, 0, 0.15);\n",
              "      filter: drop-shadow(0px 1px 2px rgba(0, 0, 0, 0.3));\n",
              "      fill: #FFFFFF;\n",
              "    }\n",
              "  </style>\n",
              "\n",
              "    <script>\n",
              "      const buttonEl =\n",
              "        document.querySelector('#df-ab7b82d4-7d1d-4589-9bd8-cea5ef50dfe6 button.colab-df-convert');\n",
              "      buttonEl.style.display =\n",
              "        google.colab.kernel.accessAllowed ? 'block' : 'none';\n",
              "\n",
              "      async function convertToInteractive(key) {\n",
              "        const element = document.querySelector('#df-ab7b82d4-7d1d-4589-9bd8-cea5ef50dfe6');\n",
              "        const dataTable =\n",
              "          await google.colab.kernel.invokeFunction('convertToInteractive',\n",
              "                                                    [key], {});\n",
              "        if (!dataTable) return;\n",
              "\n",
              "        const docLinkHtml = 'Like what you see? Visit the ' +\n",
              "          '<a target=\"_blank\" href=https://colab.research.google.com/notebooks/data_table.ipynb>data table notebook</a>'\n",
              "          + ' to learn more about interactive tables.';\n",
              "        element.innerHTML = '';\n",
              "        dataTable['output_type'] = 'display_data';\n",
              "        await google.colab.output.renderOutput(dataTable, element);\n",
              "        const docLink = document.createElement('div');\n",
              "        docLink.innerHTML = docLinkHtml;\n",
              "        element.appendChild(docLink);\n",
              "      }\n",
              "    </script>\n",
              "  </div>\n",
              "\n",
              "\n",
              "<div id=\"df-d92a7e1d-2669-4f1f-babc-cad7dd3e4b1c\">\n",
              "  <button class=\"colab-df-quickchart\" onclick=\"quickchart('df-d92a7e1d-2669-4f1f-babc-cad7dd3e4b1c')\"\n",
              "            title=\"Suggest charts\"\n",
              "            style=\"display:none;\">\n",
              "\n",
              "<svg xmlns=\"http://www.w3.org/2000/svg\" height=\"24px\"viewBox=\"0 0 24 24\"\n",
              "     width=\"24px\">\n",
              "    <g>\n",
              "        <path d=\"M19 3H5c-1.1 0-2 .9-2 2v14c0 1.1.9 2 2 2h14c1.1 0 2-.9 2-2V5c0-1.1-.9-2-2-2zM9 17H7v-7h2v7zm4 0h-2V7h2v10zm4 0h-2v-4h2v4z\"/>\n",
              "    </g>\n",
              "</svg>\n",
              "  </button>\n",
              "\n",
              "<style>\n",
              "  .colab-df-quickchart {\n",
              "      --bg-color: #E8F0FE;\n",
              "      --fill-color: #1967D2;\n",
              "      --hover-bg-color: #E2EBFA;\n",
              "      --hover-fill-color: #174EA6;\n",
              "      --disabled-fill-color: #AAA;\n",
              "      --disabled-bg-color: #DDD;\n",
              "  }\n",
              "\n",
              "  [theme=dark] .colab-df-quickchart {\n",
              "      --bg-color: #3B4455;\n",
              "      --fill-color: #D2E3FC;\n",
              "      --hover-bg-color: #434B5C;\n",
              "      --hover-fill-color: #FFFFFF;\n",
              "      --disabled-bg-color: #3B4455;\n",
              "      --disabled-fill-color: #666;\n",
              "  }\n",
              "\n",
              "  .colab-df-quickchart {\n",
              "    background-color: var(--bg-color);\n",
              "    border: none;\n",
              "    border-radius: 50%;\n",
              "    cursor: pointer;\n",
              "    display: none;\n",
              "    fill: var(--fill-color);\n",
              "    height: 32px;\n",
              "    padding: 0;\n",
              "    width: 32px;\n",
              "  }\n",
              "\n",
              "  .colab-df-quickchart:hover {\n",
              "    background-color: var(--hover-bg-color);\n",
              "    box-shadow: 0 1px 2px rgba(60, 64, 67, 0.3), 0 1px 3px 1px rgba(60, 64, 67, 0.15);\n",
              "    fill: var(--button-hover-fill-color);\n",
              "  }\n",
              "\n",
              "  .colab-df-quickchart-complete:disabled,\n",
              "  .colab-df-quickchart-complete:disabled:hover {\n",
              "    background-color: var(--disabled-bg-color);\n",
              "    fill: var(--disabled-fill-color);\n",
              "    box-shadow: none;\n",
              "  }\n",
              "\n",
              "  .colab-df-spinner {\n",
              "    border: 2px solid var(--fill-color);\n",
              "    border-color: transparent;\n",
              "    border-bottom-color: var(--fill-color);\n",
              "    animation:\n",
              "      spin 1s steps(1) infinite;\n",
              "  }\n",
              "\n",
              "  @keyframes spin {\n",
              "    0% {\n",
              "      border-color: transparent;\n",
              "      border-bottom-color: var(--fill-color);\n",
              "      border-left-color: var(--fill-color);\n",
              "    }\n",
              "    20% {\n",
              "      border-color: transparent;\n",
              "      border-left-color: var(--fill-color);\n",
              "      border-top-color: var(--fill-color);\n",
              "    }\n",
              "    30% {\n",
              "      border-color: transparent;\n",
              "      border-left-color: var(--fill-color);\n",
              "      border-top-color: var(--fill-color);\n",
              "      border-right-color: var(--fill-color);\n",
              "    }\n",
              "    40% {\n",
              "      border-color: transparent;\n",
              "      border-right-color: var(--fill-color);\n",
              "      border-top-color: var(--fill-color);\n",
              "    }\n",
              "    60% {\n",
              "      border-color: transparent;\n",
              "      border-right-color: var(--fill-color);\n",
              "    }\n",
              "    80% {\n",
              "      border-color: transparent;\n",
              "      border-right-color: var(--fill-color);\n",
              "      border-bottom-color: var(--fill-color);\n",
              "    }\n",
              "    90% {\n",
              "      border-color: transparent;\n",
              "      border-bottom-color: var(--fill-color);\n",
              "    }\n",
              "  }\n",
              "</style>\n",
              "\n",
              "  <script>\n",
              "    async function quickchart(key) {\n",
              "      const quickchartButtonEl =\n",
              "        document.querySelector('#' + key + ' button');\n",
              "      quickchartButtonEl.disabled = true;  // To prevent multiple clicks.\n",
              "      quickchartButtonEl.classList.add('colab-df-spinner');\n",
              "      try {\n",
              "        const charts = await google.colab.kernel.invokeFunction(\n",
              "            'suggestCharts', [key], {});\n",
              "      } catch (error) {\n",
              "        console.error('Error during call to suggestCharts:', error);\n",
              "      }\n",
              "      quickchartButtonEl.classList.remove('colab-df-spinner');\n",
              "      quickchartButtonEl.classList.add('colab-df-quickchart-complete');\n",
              "    }\n",
              "    (() => {\n",
              "      let quickchartButtonEl =\n",
              "        document.querySelector('#df-d92a7e1d-2669-4f1f-babc-cad7dd3e4b1c button');\n",
              "      quickchartButtonEl.style.display =\n",
              "        google.colab.kernel.accessAllowed ? 'block' : 'none';\n",
              "    })();\n",
              "  </script>\n",
              "</div>\n",
              "    </div>\n",
              "  </div>\n"
            ]
          },
          "metadata": {},
          "execution_count": 10
        }
      ],
      "source": [
        "df"
      ]
    },
    {
      "cell_type": "code",
      "execution_count": 11,
      "metadata": {
        "id": "PrZArHk-YG6m"
      },
      "outputs": [],
      "source": [
        "# Get stopwords from NLTK for Indonesian\n",
        "list_stopwords = stopwords.words('indonesian')\n",
        "english = stopwords.words('english')\n",
        "# Additional stopwords to append\n",
        "additional_stopwords = pd.read_csv(\"/content/stopwords_idnoise.txt\", sep=\" \")\n",
        "\n",
        "# Extend the list of stopwords\n",
        "list_stopwords.extend(additional_stopwords)\n",
        "list_stopwords.extend(english)\n",
        "\n",
        "# Convert the list of stopwords to a set for faster lookup\n",
        "stopwords_set = list(set(list_stopwords))\n",
        "# Create Sastrawi stemmer\n",
        "factory = StemmerFactory()\n",
        "stemmer = factory.create_stemmer()"
      ]
    },
    {
      "cell_type": "code",
      "execution_count": 12,
      "metadata": {
        "id": "vwXloicFXcqB"
      },
      "outputs": [],
      "source": [
        "def stopword(text):\n",
        "  #remove stopword\n",
        "  tokens_without_stopwords = [word for word in text if word not in stopwords_set]\n",
        "  #sastrawi\n",
        "  # tweet_stem = stemmer.stem(tokens_without_stopwords)\n",
        "  tweet_stem = [stemmer.stem(token) for token in tokens_without_stopwords]\n",
        "  return tweet_stem\n",
        "\n",
        "df['textdata_stemm'] = df['tweet_preprocess'].apply(stopword)"
      ]
    },
    {
      "cell_type": "code",
      "execution_count": 15,
      "metadata": {
        "colab": {
          "base_uri": "https://localhost:8080/",
          "height": 424
        },
        "id": "5GEgEPVlHxxB",
        "outputId": "fa0d691f-7705-4ebc-b395-e519cddeabfb"
      },
      "outputs": [
        {
          "output_type": "execute_result",
          "data": {
            "text/plain": [
              "                                                 twitter  \\\n",
              "0       @prabowo sedang menjemput takdirnya - @AHMADD...   \n",
              "1       \\n5️⃣ tanda Kehormatan yang dimiliki Ganjar P...   \n",
              "2       \\n5️⃣ tanda Kehormatan yang dimiliki Ganjar P...   \n",
              "3       \\n5️⃣ tanda Kehormatan yang dimiliki Ganjar P...   \n",
              "4       \\nDedikasi turunkan angka kematian Ibu dan ba...   \n",
              "...                                                  ...   \n",
              "45388  🤣🤣🤣🤣🤣\\nEmang bener unfaedah ladenin Akun Lu\\n\\...   \n",
              "45389  🤩📺 #LALIGAEASPORTS as you've never seen it bef...   \n",
              "45390  🤭\\n.\\n.\\n.\\n.\\n.\\nTakut amir sama @ganjarprano...   \n",
              "45391  🤭🤭\\n\\n“Dan dengan mendukung Ganjar Pranowo ses...   \n",
              "45392  🥰 memaknai simbol jempol telunjuk Pak Jokowi y...   \n",
              "\n",
              "                                        tweet_preprocess  \\\n",
              "0      [sedang, menjemput, takdirnya, katanya, perpol...   \n",
              "1      [tanda, kehormatan, yang, dimiliki, ganjar, pr...   \n",
              "2      [tanda, kehormatan, yang, dimiliki, ganjar, pr...   \n",
              "3      [tanda, kehormatan, yang, dimiliki, ganjar, pr...   \n",
              "4      [dedikasi, turunkan, angka, kematian, ibu, dan...   \n",
              "...                                                  ...   \n",
              "45388  [emang, bener, unfaedah, ladenin, akun, lu, aw...   \n",
              "45389  [as, youve, never, seen, it, before, this, is,...   \n",
              "45390  [takut, amir, sama, ganjar, tidak, ingin, meng...   \n",
              "45391  [dan, dengan, mendukung, ganjar, pranowo, sesu...   \n",
              "45392  [memaknai, simbol, jempol, telunjuk, pak, joko...   \n",
              "\n",
              "                                          textdata_stemm  \n",
              "0      [jemput, takdir, politik, indon, semangkin, bi...  \n",
              "1                [tanda, hormat, milik, ganjar, pranowo]  \n",
              "2                [tanda, hormat, milik, ganjar, pranowo]  \n",
              "3                [tanda, hormat, milik, ganjar, pranowo]  \n",
              "4      [dedikasi, turun, angka, mati, bayi, ganjar, p...  \n",
              "...                                                  ...  \n",
              "45388  [emang, bener, unfaedah, ladenin, akun, lu, lu...  \n",
              "45389                         [youve, never, seen, real]  \n",
              "45390       [takut, amir, ganjar, kuasa, layan, perguso]  \n",
              "45391  [dukung, ganjar, pranowo, sungguh, pkb, efek, ...  \n",
              "45392  [makna, simbol, jempol, telunjuk, jokowi, arah...  \n",
              "\n",
              "[45393 rows x 3 columns]"
            ],
            "text/html": [
              "\n",
              "  <div id=\"df-18224dad-8618-4d79-a6a5-200a6a0de0ba\" class=\"colab-df-container\">\n",
              "    <div>\n",
              "<style scoped>\n",
              "    .dataframe tbody tr th:only-of-type {\n",
              "        vertical-align: middle;\n",
              "    }\n",
              "\n",
              "    .dataframe tbody tr th {\n",
              "        vertical-align: top;\n",
              "    }\n",
              "\n",
              "    .dataframe thead th {\n",
              "        text-align: right;\n",
              "    }\n",
              "</style>\n",
              "<table border=\"1\" class=\"dataframe\">\n",
              "  <thead>\n",
              "    <tr style=\"text-align: right;\">\n",
              "      <th></th>\n",
              "      <th>twitter</th>\n",
              "      <th>tweet_preprocess</th>\n",
              "      <th>textdata_stemm</th>\n",
              "    </tr>\n",
              "  </thead>\n",
              "  <tbody>\n",
              "    <tr>\n",
              "      <th>0</th>\n",
              "      <td>@prabowo sedang menjemput takdirnya - @AHMADD...</td>\n",
              "      <td>[sedang, menjemput, takdirnya, katanya, perpol...</td>\n",
              "      <td>[jemput, takdir, politik, indon, semangkin, bi...</td>\n",
              "    </tr>\n",
              "    <tr>\n",
              "      <th>1</th>\n",
              "      <td>\\n5️⃣ tanda Kehormatan yang dimiliki Ganjar P...</td>\n",
              "      <td>[tanda, kehormatan, yang, dimiliki, ganjar, pr...</td>\n",
              "      <td>[tanda, hormat, milik, ganjar, pranowo]</td>\n",
              "    </tr>\n",
              "    <tr>\n",
              "      <th>2</th>\n",
              "      <td>\\n5️⃣ tanda Kehormatan yang dimiliki Ganjar P...</td>\n",
              "      <td>[tanda, kehormatan, yang, dimiliki, ganjar, pr...</td>\n",
              "      <td>[tanda, hormat, milik, ganjar, pranowo]</td>\n",
              "    </tr>\n",
              "    <tr>\n",
              "      <th>3</th>\n",
              "      <td>\\n5️⃣ tanda Kehormatan yang dimiliki Ganjar P...</td>\n",
              "      <td>[tanda, kehormatan, yang, dimiliki, ganjar, pr...</td>\n",
              "      <td>[tanda, hormat, milik, ganjar, pranowo]</td>\n",
              "    </tr>\n",
              "    <tr>\n",
              "      <th>4</th>\n",
              "      <td>\\nDedikasi turunkan angka kematian Ibu dan ba...</td>\n",
              "      <td>[dedikasi, turunkan, angka, kematian, ibu, dan...</td>\n",
              "      <td>[dedikasi, turun, angka, mati, bayi, ganjar, p...</td>\n",
              "    </tr>\n",
              "    <tr>\n",
              "      <th>...</th>\n",
              "      <td>...</td>\n",
              "      <td>...</td>\n",
              "      <td>...</td>\n",
              "    </tr>\n",
              "    <tr>\n",
              "      <th>45388</th>\n",
              "      <td>🤣🤣🤣🤣🤣\\nEmang bener unfaedah ladenin Akun Lu\\n\\...</td>\n",
              "      <td>[emang, bener, unfaedah, ladenin, akun, lu, aw...</td>\n",
              "      <td>[emang, bener, unfaedah, ladenin, akun, lu, lu...</td>\n",
              "    </tr>\n",
              "    <tr>\n",
              "      <th>45389</th>\n",
              "      <td>🤩📺 #LALIGAEASPORTS as you've never seen it bef...</td>\n",
              "      <td>[as, youve, never, seen, it, before, this, is,...</td>\n",
              "      <td>[youve, never, seen, real]</td>\n",
              "    </tr>\n",
              "    <tr>\n",
              "      <th>45390</th>\n",
              "      <td>🤭\\n.\\n.\\n.\\n.\\n.\\nTakut amir sama @ganjarprano...</td>\n",
              "      <td>[takut, amir, sama, ganjar, tidak, ingin, meng...</td>\n",
              "      <td>[takut, amir, ganjar, kuasa, layan, perguso]</td>\n",
              "    </tr>\n",
              "    <tr>\n",
              "      <th>45391</th>\n",
              "      <td>🤭🤭\\n\\n“Dan dengan mendukung Ganjar Pranowo ses...</td>\n",
              "      <td>[dan, dengan, mendukung, ganjar, pranowo, sesu...</td>\n",
              "      <td>[dukung, ganjar, pranowo, sungguh, pkb, efek, ...</td>\n",
              "    </tr>\n",
              "    <tr>\n",
              "      <th>45392</th>\n",
              "      <td>🥰 memaknai simbol jempol telunjuk Pak Jokowi y...</td>\n",
              "      <td>[memaknai, simbol, jempol, telunjuk, pak, joko...</td>\n",
              "      <td>[makna, simbol, jempol, telunjuk, jokowi, arah...</td>\n",
              "    </tr>\n",
              "  </tbody>\n",
              "</table>\n",
              "<p>45393 rows × 3 columns</p>\n",
              "</div>\n",
              "    <div class=\"colab-df-buttons\">\n",
              "\n",
              "  <div class=\"colab-df-container\">\n",
              "    <button class=\"colab-df-convert\" onclick=\"convertToInteractive('df-18224dad-8618-4d79-a6a5-200a6a0de0ba')\"\n",
              "            title=\"Convert this dataframe to an interactive table.\"\n",
              "            style=\"display:none;\">\n",
              "\n",
              "  <svg xmlns=\"http://www.w3.org/2000/svg\" height=\"24px\" viewBox=\"0 -960 960 960\">\n",
              "    <path d=\"M120-120v-720h720v720H120Zm60-500h600v-160H180v160Zm220 220h160v-160H400v160Zm0 220h160v-160H400v160ZM180-400h160v-160H180v160Zm440 0h160v-160H620v160ZM180-180h160v-160H180v160Zm440 0h160v-160H620v160Z\"/>\n",
              "  </svg>\n",
              "    </button>\n",
              "\n",
              "  <style>\n",
              "    .colab-df-container {\n",
              "      display:flex;\n",
              "      gap: 12px;\n",
              "    }\n",
              "\n",
              "    .colab-df-convert {\n",
              "      background-color: #E8F0FE;\n",
              "      border: none;\n",
              "      border-radius: 50%;\n",
              "      cursor: pointer;\n",
              "      display: none;\n",
              "      fill: #1967D2;\n",
              "      height: 32px;\n",
              "      padding: 0 0 0 0;\n",
              "      width: 32px;\n",
              "    }\n",
              "\n",
              "    .colab-df-convert:hover {\n",
              "      background-color: #E2EBFA;\n",
              "      box-shadow: 0px 1px 2px rgba(60, 64, 67, 0.3), 0px 1px 3px 1px rgba(60, 64, 67, 0.15);\n",
              "      fill: #174EA6;\n",
              "    }\n",
              "\n",
              "    .colab-df-buttons div {\n",
              "      margin-bottom: 4px;\n",
              "    }\n",
              "\n",
              "    [theme=dark] .colab-df-convert {\n",
              "      background-color: #3B4455;\n",
              "      fill: #D2E3FC;\n",
              "    }\n",
              "\n",
              "    [theme=dark] .colab-df-convert:hover {\n",
              "      background-color: #434B5C;\n",
              "      box-shadow: 0px 1px 3px 1px rgba(0, 0, 0, 0.15);\n",
              "      filter: drop-shadow(0px 1px 2px rgba(0, 0, 0, 0.3));\n",
              "      fill: #FFFFFF;\n",
              "    }\n",
              "  </style>\n",
              "\n",
              "    <script>\n",
              "      const buttonEl =\n",
              "        document.querySelector('#df-18224dad-8618-4d79-a6a5-200a6a0de0ba button.colab-df-convert');\n",
              "      buttonEl.style.display =\n",
              "        google.colab.kernel.accessAllowed ? 'block' : 'none';\n",
              "\n",
              "      async function convertToInteractive(key) {\n",
              "        const element = document.querySelector('#df-18224dad-8618-4d79-a6a5-200a6a0de0ba');\n",
              "        const dataTable =\n",
              "          await google.colab.kernel.invokeFunction('convertToInteractive',\n",
              "                                                    [key], {});\n",
              "        if (!dataTable) return;\n",
              "\n",
              "        const docLinkHtml = 'Like what you see? Visit the ' +\n",
              "          '<a target=\"_blank\" href=https://colab.research.google.com/notebooks/data_table.ipynb>data table notebook</a>'\n",
              "          + ' to learn more about interactive tables.';\n",
              "        element.innerHTML = '';\n",
              "        dataTable['output_type'] = 'display_data';\n",
              "        await google.colab.output.renderOutput(dataTable, element);\n",
              "        const docLink = document.createElement('div');\n",
              "        docLink.innerHTML = docLinkHtml;\n",
              "        element.appendChild(docLink);\n",
              "      }\n",
              "    </script>\n",
              "  </div>\n",
              "\n",
              "\n",
              "<div id=\"df-35279cb4-9d32-4d0c-8ca6-b5a23b6f417d\">\n",
              "  <button class=\"colab-df-quickchart\" onclick=\"quickchart('df-35279cb4-9d32-4d0c-8ca6-b5a23b6f417d')\"\n",
              "            title=\"Suggest charts\"\n",
              "            style=\"display:none;\">\n",
              "\n",
              "<svg xmlns=\"http://www.w3.org/2000/svg\" height=\"24px\"viewBox=\"0 0 24 24\"\n",
              "     width=\"24px\">\n",
              "    <g>\n",
              "        <path d=\"M19 3H5c-1.1 0-2 .9-2 2v14c0 1.1.9 2 2 2h14c1.1 0 2-.9 2-2V5c0-1.1-.9-2-2-2zM9 17H7v-7h2v7zm4 0h-2V7h2v10zm4 0h-2v-4h2v4z\"/>\n",
              "    </g>\n",
              "</svg>\n",
              "  </button>\n",
              "\n",
              "<style>\n",
              "  .colab-df-quickchart {\n",
              "      --bg-color: #E8F0FE;\n",
              "      --fill-color: #1967D2;\n",
              "      --hover-bg-color: #E2EBFA;\n",
              "      --hover-fill-color: #174EA6;\n",
              "      --disabled-fill-color: #AAA;\n",
              "      --disabled-bg-color: #DDD;\n",
              "  }\n",
              "\n",
              "  [theme=dark] .colab-df-quickchart {\n",
              "      --bg-color: #3B4455;\n",
              "      --fill-color: #D2E3FC;\n",
              "      --hover-bg-color: #434B5C;\n",
              "      --hover-fill-color: #FFFFFF;\n",
              "      --disabled-bg-color: #3B4455;\n",
              "      --disabled-fill-color: #666;\n",
              "  }\n",
              "\n",
              "  .colab-df-quickchart {\n",
              "    background-color: var(--bg-color);\n",
              "    border: none;\n",
              "    border-radius: 50%;\n",
              "    cursor: pointer;\n",
              "    display: none;\n",
              "    fill: var(--fill-color);\n",
              "    height: 32px;\n",
              "    padding: 0;\n",
              "    width: 32px;\n",
              "  }\n",
              "\n",
              "  .colab-df-quickchart:hover {\n",
              "    background-color: var(--hover-bg-color);\n",
              "    box-shadow: 0 1px 2px rgba(60, 64, 67, 0.3), 0 1px 3px 1px rgba(60, 64, 67, 0.15);\n",
              "    fill: var(--button-hover-fill-color);\n",
              "  }\n",
              "\n",
              "  .colab-df-quickchart-complete:disabled,\n",
              "  .colab-df-quickchart-complete:disabled:hover {\n",
              "    background-color: var(--disabled-bg-color);\n",
              "    fill: var(--disabled-fill-color);\n",
              "    box-shadow: none;\n",
              "  }\n",
              "\n",
              "  .colab-df-spinner {\n",
              "    border: 2px solid var(--fill-color);\n",
              "    border-color: transparent;\n",
              "    border-bottom-color: var(--fill-color);\n",
              "    animation:\n",
              "      spin 1s steps(1) infinite;\n",
              "  }\n",
              "\n",
              "  @keyframes spin {\n",
              "    0% {\n",
              "      border-color: transparent;\n",
              "      border-bottom-color: var(--fill-color);\n",
              "      border-left-color: var(--fill-color);\n",
              "    }\n",
              "    20% {\n",
              "      border-color: transparent;\n",
              "      border-left-color: var(--fill-color);\n",
              "      border-top-color: var(--fill-color);\n",
              "    }\n",
              "    30% {\n",
              "      border-color: transparent;\n",
              "      border-left-color: var(--fill-color);\n",
              "      border-top-color: var(--fill-color);\n",
              "      border-right-color: var(--fill-color);\n",
              "    }\n",
              "    40% {\n",
              "      border-color: transparent;\n",
              "      border-right-color: var(--fill-color);\n",
              "      border-top-color: var(--fill-color);\n",
              "    }\n",
              "    60% {\n",
              "      border-color: transparent;\n",
              "      border-right-color: var(--fill-color);\n",
              "    }\n",
              "    80% {\n",
              "      border-color: transparent;\n",
              "      border-right-color: var(--fill-color);\n",
              "      border-bottom-color: var(--fill-color);\n",
              "    }\n",
              "    90% {\n",
              "      border-color: transparent;\n",
              "      border-bottom-color: var(--fill-color);\n",
              "    }\n",
              "  }\n",
              "</style>\n",
              "\n",
              "  <script>\n",
              "    async function quickchart(key) {\n",
              "      const quickchartButtonEl =\n",
              "        document.querySelector('#' + key + ' button');\n",
              "      quickchartButtonEl.disabled = true;  // To prevent multiple clicks.\n",
              "      quickchartButtonEl.classList.add('colab-df-spinner');\n",
              "      try {\n",
              "        const charts = await google.colab.kernel.invokeFunction(\n",
              "            'suggestCharts', [key], {});\n",
              "      } catch (error) {\n",
              "        console.error('Error during call to suggestCharts:', error);\n",
              "      }\n",
              "      quickchartButtonEl.classList.remove('colab-df-spinner');\n",
              "      quickchartButtonEl.classList.add('colab-df-quickchart-complete');\n",
              "    }\n",
              "    (() => {\n",
              "      let quickchartButtonEl =\n",
              "        document.querySelector('#df-35279cb4-9d32-4d0c-8ca6-b5a23b6f417d button');\n",
              "      quickchartButtonEl.style.display =\n",
              "        google.colab.kernel.accessAllowed ? 'block' : 'none';\n",
              "    })();\n",
              "  </script>\n",
              "</div>\n",
              "    </div>\n",
              "  </div>\n"
            ]
          },
          "metadata": {},
          "execution_count": 15
        }
      ],
      "source": [
        "  df"
      ]
    },
    {
      "cell_type": "code",
      "execution_count": 16,
      "metadata": {
        "colab": {
          "base_uri": "https://localhost:8080/"
        },
        "id": "BlLLRatyrzmK",
        "outputId": "a3f7162e-1f92-4f82-8fa5-2563d5157ce4"
      },
      "outputs": [
        {
          "output_type": "execute_result",
          "data": {
            "text/plain": [
              "0        [jemput, takdir, politik, indon, semangkin, bi...\n",
              "1                  [tanda, hormat, milik, ganjar, pranowo]\n",
              "2                  [tanda, hormat, milik, ganjar, pranowo]\n",
              "3                  [tanda, hormat, milik, ganjar, pranowo]\n",
              "4        [dedikasi, turun, angka, mati, bayi, ganjar, p...\n",
              "                               ...                        \n",
              "45388    [emang, bener, unfaedah, ladenin, akun, lu, lu...\n",
              "45389                           [youve, never, seen, real]\n",
              "45390         [takut, amir, ganjar, kuasa, layan, perguso]\n",
              "45391    [dukung, ganjar, pranowo, sungguh, pkb, efek, ...\n",
              "45392    [makna, simbol, jempol, telunjuk, jokowi, arah...\n",
              "Name: textdata_stemm, Length: 45393, dtype: object"
            ]
          },
          "metadata": {},
          "execution_count": 16
        }
      ],
      "source": [
        "doc_clean = df['textdata_stemm']\n",
        "doc_clean"
      ]
    },
    {
      "cell_type": "markdown",
      "metadata": {
        "id": "bBIiTPYLfIrN"
      },
      "source": [
        "#Lda model"
      ]
    },
    {
      "cell_type": "code",
      "execution_count": 17,
      "metadata": {
        "id": "0ECz608kZEdT"
      },
      "outputs": [],
      "source": [
        "import gensim\n",
        "import matplotlib.pyplot as plt\n",
        "from gensim import corpora\n",
        "from gensim.models.coherencemodel import CoherenceModel\n",
        "from gensim.models.ldamodel import LdaModel\n",
        "from gensim.corpora.dictionary import Dictionary\n",
        "from numpy import array"
      ]
    },
    {
      "cell_type": "code",
      "execution_count": 18,
      "metadata": {
        "colab": {
          "base_uri": "https://localhost:8080/"
        },
        "id": "qsdkrr9Rhrms",
        "outputId": "c7cc1dd2-f0af-4bd5-a481-d08b9acb9a2e"
      },
      "outputs": [
        {
          "output_type": "stream",
          "name": "stdout",
          "text": [
            "Dictionary<25769 unique tokens: ['bingung', 'indon', 'jemput', 'koq', 'lawan']...>\n"
          ]
        },
        {
          "output_type": "stream",
          "name": "stderr",
          "text": [
            "IOPub data rate exceeded.\n",
            "The notebook server will temporarily stop sending output\n",
            "to the client in order to avoid crashing it.\n",
            "To change this limit, set the config variable\n",
            "`--NotebookApp.iopub_data_rate_limit`.\n",
            "\n",
            "Current values:\n",
            "NotebookApp.iopub_data_rate_limit=1000000.0 (bytes/sec)\n",
            "NotebookApp.rate_limit_window=3.0 (secs)\n",
            "\n"
          ]
        }
      ],
      "source": [
        "#dictionary membuat kamus dari daftar dokumen yang sudah diproses.\n",
        "dictionary = corpora.Dictionary(doc_clean)\n",
        "print(dictionary)\n",
        "#membuat matriks dokumen-istilah, yang merepresentasikan frekuensi kata-kata dalam setiap dokumen\n",
        "doc_term_matrix = [dictionary.doc2bow(doc) for doc in doc_clean]\n",
        "print(doc_term_matrix)"
      ]
    },
    {
      "cell_type": "code",
      "execution_count": 19,
      "metadata": {
        "id": "oGIuIz0z08zs"
      },
      "outputs": [],
      "source": [
        "# Specify the filename for saving the dictionary\n",
        "dictionary_filename = \"lda_twitter.dict\"\n",
        "\n",
        "# Save the dictionary to the specified file\n",
        "dictionary.save(dictionary_filename)"
      ]
    },
    {
      "cell_type": "code",
      "execution_count": 20,
      "metadata": {
        "id": "c89xnPElK4Ru"
      },
      "outputs": [],
      "source": [
        "#menyimpan corpus\n",
        "from gensim import corpora\n",
        "\n",
        "# Simpan doc_term_matrix dalam format Matrix Market (MM)\n",
        "corpora.MmCorpus.serialize('doc_term_matrix.mm', doc_term_matrix)"
      ]
    },
    {
      "cell_type": "code",
      "execution_count": 21,
      "metadata": {
        "colab": {
          "base_uri": "https://localhost:8080/"
        },
        "id": "DyiPnIr4PnQm",
        "outputId": "49139df4-782c-4299-b4c4-f98cf516df94"
      },
      "outputs": [
        {
          "output_type": "stream",
          "name": "stdout",
          "text": [
            "Dictionary<25769 unique tokens: ['bingung', 'indon', 'jemput', 'koq', 'lawan']...>\n"
          ]
        }
      ],
      "source": [
        "from gensim import corpora\n",
        "\n",
        "def create_lda_inputs(doc_clean):\n",
        "    # Create a Gensim dictionary\n",
        "    dictionary = corpora.Dictionary(doc_clean)\n",
        "    print(dictionary)\n",
        "\n",
        "    # Generate the document-term matrix\n",
        "    doc_term_matrix = [dictionary.doc2bow(doc) for doc in doc_clean]\n",
        "\n",
        "    return dictionary, doc_term_matrix\n",
        "\n",
        "# Assuming you have your doc_clean (preprocessed documents) defined\n",
        "dictionary, doc_term_matrix = create_lda_inputs(doc_clean)"
      ]
    },
    {
      "cell_type": "code",
      "execution_count": 22,
      "metadata": {
        "id": "uR4A1hF8hxob"
      },
      "outputs": [],
      "source": [
        "#kalo make coherence untuk mencari num_topics\n",
        "#function to compute coherence values\n",
        "def compute_coherence_values(dictionary, corpus, texts, limit, start, step):\n",
        "    coherence_values = []\n",
        "    model_list = []\n",
        "    for num_topics in range(start, limit, step):\n",
        "        model = LdaModel(corpus=corpus, id2word=dictionary, num_topics=num_topics, iterations=100)\n",
        "        model_list.append(model)\n",
        "        coherencemodel = CoherenceModel(model=model, texts=texts, dictionary=dictionary, coherence='c_v')\n",
        "        coherence_values.append(coherencemodel.get_coherence())\n",
        "\n",
        "    return model_list, coherence_values"
      ]
    },
    {
      "cell_type": "code",
      "execution_count": 23,
      "metadata": {
        "colab": {
          "base_uri": "https://localhost:8080/",
          "height": 449
        },
        "id": "2SeQhzPWh8Oy",
        "outputId": "a454839d-9f0c-453d-a169-2f94ee83fa5e"
      },
      "outputs": [
        {
          "output_type": "display_data",
          "data": {
            "text/plain": [
              "<Figure size 640x480 with 1 Axes>"
            ],
            "image/png": "[encoded data removed]"
          },
          "metadata": {}
        }
      ],
      "source": [
        "start=1\n",
        "limit=25\n",
        "step=1\n",
        "model_list, coherence_values = compute_coherence_values(dictionary, corpus=doc_term_matrix,\n",
        "                                                        texts=doc_clean, start=start, limit=limit, step=step)\n",
        "#show graphs\n",
        "x = range(start, limit, step)\n",
        "plt.plot(x, coherence_values)\n",
        "plt.xlabel(\"Num Topics\")\n",
        "plt.ylabel(\"Coherence score\")\n",
        "plt.legend((\"coherence_values\"), loc='best')\n",
        "plt.show()"
      ]
    },
    {
      "cell_type": "code",
      "execution_count": 24,
      "metadata": {
        "colab": {
          "base_uri": "https://localhost:8080/"
        },
        "id": "HggIO3r9iF3_",
        "outputId": "0913aab4-f6f4-486d-b936-fd0965a5efcf"
      },
      "outputs": [
        {
          "output_type": "stream",
          "name": "stdout",
          "text": [
            "Num Topics = 1  has Coherence Value of 0.26612\n",
            "Num Topics = 2  has Coherence Value of 0.330614\n",
            "Num Topics = 3  has Coherence Value of 0.30622\n",
            "Num Topics = 4  has Coherence Value of 0.40062\n",
            "Num Topics = 5  has Coherence Value of 0.454928\n",
            "Num Topics = 6  has Coherence Value of 0.502527\n",
            "Num Topics = 7  has Coherence Value of 0.510823\n",
            "Num Topics = 8  has Coherence Value of 0.427786\n",
            "Num Topics = 9  has Coherence Value of 0.456434\n",
            "Num Topics = 10  has Coherence Value of 0.498864\n",
            "Num Topics = 11  has Coherence Value of 0.417868\n",
            "Num Topics = 12  has Coherence Value of 0.467025\n",
            "Num Topics = 13  has Coherence Value of 0.503672\n",
            "Num Topics = 14  has Coherence Value of 0.471123\n",
            "Num Topics = 15  has Coherence Value of 0.443439\n",
            "Num Topics = 16  has Coherence Value of 0.442027\n",
            "Num Topics = 17  has Coherence Value of 0.494528\n",
            "Num Topics = 18  has Coherence Value of 0.50324\n",
            "Num Topics = 19  has Coherence Value of 0.407822\n",
            "Num Topics = 20  has Coherence Value of 0.418869\n",
            "Num Topics = 21  has Coherence Value of 0.443493\n",
            "Num Topics = 22  has Coherence Value of 0.444013\n",
            "Num Topics = 23  has Coherence Value of 0.402666\n",
            "Num Topics = 24  has Coherence Value of 0.441715\n"
          ]
        }
      ],
      "source": [
        "# Print the coherence scores\n",
        "for m, cv in zip(x, coherence_values):\n",
        "    print(\"Num Topics =\", m, \" has Coherence Value of\", round(cv, 6))"
      ]
    },
    {
      "cell_type": "code",
      "execution_count": 25,
      "metadata": {
        "id": "JSnOtczuiLf9"
      },
      "outputs": [],
      "source": [
        "# Creating the object for LDA model using gensim library\n",
        "Lda = gensim.models.ldamodel.LdaModel\n",
        "total_topics = 5 # jumlah topik yang akan di extract\n",
        "number_words = 5 # jumlah kata per topik"
      ]
    },
    {
      "cell_type": "code",
      "execution_count": 26,
      "metadata": {
        "colab": {
          "base_uri": "https://localhost:8080/"
        },
        "id": "YA7TS32piOtJ",
        "outputId": "891ee421-a47d-4828-c08d-66df7ebba1ec"
      },
      "outputs": [
        {
          "output_type": "execute_result",
          "data": {
            "text/plain": [
              "[(0,\n",
              "  [('prabowo', 0.024848726),\n",
              "   ('koalisi', 0.022663096),\n",
              "   ('yg', 0.022616208),\n",
              "   ('ganjar', 0.019811738),\n",
              "   ('anies', 0.018127812)]),\n",
              " (1,\n",
              "  [('prabowo', 0.083572306),\n",
              "   ('subianto', 0.049414206),\n",
              "   ('ganjar', 0.02944496),\n",
              "   ('indonesia', 0.01663108),\n",
              "   ('tni', 0.012032268)]),\n",
              " (2,\n",
              "  [('prabowo', 0.08532738),\n",
              "   ('pilpres', 0.0533729),\n",
              "   ('dekade', 0.047996446),\n",
              "   ('mendingprabowo', 0.047981404),\n",
              "   ('terusmajubersamaprabowo', 0.047981404)]),\n",
              " (3,\n",
              "  [('negeri', 0.014769954),\n",
              "   ('subscription', 0.013964755),\n",
              "   ('deposits', 0.013964755),\n",
              "   ('losses', 0.013964755),\n",
              "   ('exceed', 0.013964755)]),\n",
              " (4,\n",
              "  [('prabowo', 0.042253733),\n",
              "   ('ganjar', 0.03947304),\n",
              "   ('imin', 0.021847367),\n",
              "   ('anies', 0.020426255),\n",
              "   ('dukung', 0.019735182)])]"
            ]
          },
          "metadata": {},
          "execution_count": 26
        }
      ],
      "source": [
        "# Running and Trainign LDA model on the document term matrix.\n",
        "Lda = gensim.models.ldamodel.LdaModel\n",
        "lda_model = Lda(corpus = doc_term_matrix, num_topics=total_topics, id2word = dictionary, minimum_probability=0, random_state= 21,alpha= 'symmetric', eta='symmetric')\n",
        "\n",
        "lda_model.show_topics(num_topics=total_topics, num_words=number_words, formatted= False)"
      ]
    },
    {
      "cell_type": "code",
      "source": [
        "other = [\n",
        "['presiden', 'joko', 'widodo', 'pimpin', 'indonesia', 'beliau', 'jabat', 'presiden'],\n",
        "['pimpin', 'populer', 'inisiatif', 'maju', 'negara', 'bangun', 'infrastruktur', 'program', 'sejahtera', 'sosial', 'reformasi', 'birokrasi'],\n",
        "['beliau', 'milik', 'visi', 'dorong', 'tumbuh', 'ekonomi', 'atas', 'tantang', 'indonesia'], ['presiden', 'jokowi', 'bicara', 'didik', 'daya', 'masyarakat'],\n",
        "['indonesia', 'negara', 'pulau', 'besar', 'dunia', 'kaya', 'budaya', 'alam']\n",
        "          ]"
      ],
      "metadata": {
        "id": "SyQZHRR7v3v6"
      },
      "execution_count": 27,
      "outputs": []
    },
    {
      "cell_type": "code",
      "source": [
        "corpus_new = [dictionary.doc2bow(doc) for doc in other]\n",
        "unsenn = corpus_new[0]\n",
        "vector = lda_model[unsenn]"
      ],
      "metadata": {
        "id": "R8lr_VYAwF28"
      },
      "execution_count": 28,
      "outputs": []
    },
    {
      "cell_type": "code",
      "source": [
        "lda_model.update(corpus_new)\n",
        "vector1 = lda_model[unsenn]\n",
        "print(vector1)"
      ],
      "metadata": {
        "colab": {
          "base_uri": "https://localhost:8080/"
        },
        "id": "ufpUpEQlwQSJ",
        "outputId": "4afe7f15-951d-49dc-fe4f-d3b536160eff"
      },
      "execution_count": 29,
      "outputs": [
        {
          "output_type": "stream",
          "name": "stderr",
          "text": [
            "WARNING:gensim.models.ldamodel:too few updates, training might not converge; consider increasing the number of passes or iterations to improve accuracy\n"
          ]
        },
        {
          "output_type": "stream",
          "name": "stdout",
          "text": [
            "[(0, 0.14071822), (1, 0.79143476), (2, 0.023175519), (3, 0.02224817), (4, 0.022423366)]\n"
          ]
        },
        {
          "output_type": "stream",
          "name": "stderr",
          "text": [
            "/usr/local/lib/python3.10/dist-packages/gensim/models/ldamodel.py:850: RuntimeWarning: overflow encountered in exp2\n",
            "  perwordbound, np.exp2(-perwordbound), len(chunk), corpus_words\n"
          ]
        }
      ]
    },
    {
      "cell_type": "code",
      "source": [
        "from gensim.models.ldamulticore import LdaMulticore\n",
        "ldan =  LdaMulticore(corpus = doc_term_matrix, num_topics=total_topics, id2word = dictionary, minimum_probability=0, random_state= 22,alpha= 'asymmetric', eta='symmetric' ,\n",
        "                     workers=4, eval_every=25,minimum_phi_value=0.01)\n",
        "ldan.show_topics(num_topics=total_topics, num_words=number_words, formatted= False)"
      ],
      "metadata": {
        "colab": {
          "base_uri": "https://localhost:8080/"
        },
        "id": "Ollib8F23-R5",
        "outputId": "9b8d0629-3096-4d9c-f9b0-4ddaae84e55d"
      },
      "execution_count": 82,
      "outputs": [
        {
          "output_type": "stream",
          "name": "stderr",
          "text": [
            "WARNING:gensim.models.ldamulticore:too few updates, training might not converge; consider increasing the number of passes or iterations to improve accuracy\n"
          ]
        },
        {
          "output_type": "execute_result",
          "data": {
            "text/plain": [
              "[(0,\n",
              "  [('prabowo', 0.07523222),\n",
              "   ('ganjar', 0.044702),\n",
              "   ('subianto', 0.024120085),\n",
              "   ('dukung', 0.012100734),\n",
              "   ('anies', 0.012006095)]),\n",
              " (1,\n",
              "  [('prabowo', 0.0226393),\n",
              "   ('ganjar', 0.021367844),\n",
              "   ('anies', 0.017039545),\n",
              "   ('khianat', 0.013504396),\n",
              "   ('demokrat', 0.011577258)]),\n",
              " (2,\n",
              "  [('ganjar', 0.03097562),\n",
              "   ('prabowo', 0.020130387),\n",
              "   ('yg', 0.015278807),\n",
              "   ('indonesia', 0.010657039),\n",
              "   ('kerja', 0.008554412)]),\n",
              " (3,\n",
              "  [('prabowo', 0.044684067),\n",
              "   ('tni', 0.019687323),\n",
              "   ('polisi', 0.019313533),\n",
              "   ('september', 0.018609643),\n",
              "   ('kapolri', 0.017498193)]),\n",
              " (4,\n",
              "  [('mendingprabowo', 0.048787955),\n",
              "   ('dekade', 0.048751447),\n",
              "   ('terusmajubersamaprabowo', 0.0487456),\n",
              "   ('pilpres', 0.047480136),\n",
              "   ('golkar', 0.034857854)])]"
            ]
          },
          "metadata": {},
          "execution_count": 82
        }
      ]
    },
    {
      "cell_type": "code",
      "source": [
        "from gensim.models import EnsembleLda\n",
        "eda = EnsembleLda(corpus = doc_term_matrix,id2word = dictionary, num_topics=10, num_models=4)\n",
        "print(eda)"
      ],
      "metadata": {
        "colab": {
          "base_uri": "https://localhost:8080/"
        },
        "id": "TKu8YvEFIshU",
        "outputId": "776ed8a4-1b8d-4aeb-bd31-459a6430b6dc"
      },
      "execution_count": 51,
      "outputs": [
        {
          "output_type": "stream",
          "name": "stderr",
          "text": [
            "WARNING:gensim.models.ldamulticore:too few updates, training might not converge; consider increasing the number of passes or iterations to improve accuracy\n"
          ]
        },
        {
          "output_type": "stream",
          "name": "stdout",
          "text": [
            "<gensim.models.ensemblelda.EnsembleLda object at 0x79cfd66777f0>\n"
          ]
        }
      ]
    },
    {
      "cell_type": "code",
      "execution_count": 32,
      "metadata": {
        "colab": {
          "base_uri": "https://localhost:8080/"
        },
        "id": "lLD6WnDlOK0e",
        "outputId": "f77da2e6-b155-4d3a-9f99-47961866956a"
      },
      "outputs": [
        {
          "output_type": "stream",
          "name": "stdout",
          "text": [
            "Topic 0: [('prabowo', 0.024848726), ('koalisi', 0.022663096), ('yg', 0.022616208), ('ganjar', 0.019811738), ('anies', 0.018127812)]\n",
            "Topic 1: [('prabowo', 0.083572306), ('subianto', 0.049414206), ('ganjar', 0.02944496), ('indonesia', 0.01663108), ('tni', 0.012032268)]\n",
            "Topic 2: [('prabowo', 0.08532738), ('pilpres', 0.0533729), ('dekade', 0.047996446), ('mendingprabowo', 0.047981404), ('terusmajubersamaprabowo', 0.047981404)]\n",
            "Topic 3: [('negeri', 0.014769954), ('subscription', 0.013964755), ('deposits', 0.013964755), ('losses', 0.013964755), ('exceed', 0.013964755)]\n",
            "Topic 4: [('prabowo', 0.042253733), ('ganjar', 0.03947304), ('imin', 0.021847367), ('anies', 0.020426255), ('dukung', 0.019735182)]\n"
          ]
        }
      ],
      "source": [
        "#jika fungsi\n",
        "from gensim.models.ldamodel import LdaModel\n",
        "\n",
        "def perform_lda(doc_term_matrix, total_topics, dictionary, number_words):\n",
        "    lda_model = LdaModel(doc_term_matrix, num_topics=total_topics, id2word = dictionary, minimum_probability=0, random_state= 21,alpha= 'symmetric', eta='symmetric')\n",
        "    topics = lda_model.show_topics(num_topics=total_topics, num_words=number_words, formatted = False)\n",
        "    return topics\n",
        "\n",
        "# Assuming you have your doc_term_matrix, total_topics, dictionary, and number_words defined\n",
        "topics = perform_lda(doc_term_matrix, total_topics, dictionary, number_words)\n",
        "\n",
        "# Printing the topics\n",
        "for topic_num, words in topics:\n",
        "    print(f\"Topic {topic_num}: {words}\")"
      ]
    },
    {
      "cell_type": "code",
      "execution_count": 83,
      "metadata": {
        "colab": {
          "base_uri": "https://localhost:8080/"
        },
        "id": "LhkDUhHwnMIj",
        "outputId": "f22d39a6-2e45-4e27-802b-57a7f2097166"
      },
      "outputs": [
        {
          "output_type": "stream",
          "name": "stdout",
          "text": [
            "\n",
            "Perplexity:  -7.3766640886135475\n"
          ]
        }
      ],
      "source": [
        "# Compute Perplexity\n",
        "print('\\nPerplexity: ', ldan.log_perplexity(doc_term_matrix))\n",
        "# a measure of how good the model is. lower the better."
      ]
    },
    {
      "cell_type": "code",
      "source": [
        "# Compute Coherence Score\n",
        "coherence_model_lda = CoherenceModel(model=ldan, texts=doc_clean, dictionary=dictionary, coherence='c_v')\n",
        "coherence_lda = coherence_model_lda.get_coherence()\n",
        "print('\\nCoherence Score: ', coherence_lda)"
      ],
      "metadata": {
        "colab": {
          "base_uri": "https://localhost:8080/"
        },
        "id": "1wzsSyGBl5z8",
        "outputId": "319e0db5-6e9e-40d2-c5db-73f529bf35b9"
      },
      "execution_count": 84,
      "outputs": [
        {
          "output_type": "stream",
          "name": "stdout",
          "text": [
            "\n",
            "Coherence Score:  0.4831266202127293\n"
          ]
        }
      ]
    },
    {
      "cell_type": "code",
      "execution_count": null,
      "metadata": {
        "colab": {
          "base_uri": "https://localhost:8080/"
        },
        "id": "0nGr3uduiUBW",
        "outputId": "bef9ba6a-3b85-49b6-946d-cb3f6a216e1c"
      },
      "outputs": [
        {
          "output_type": "stream",
          "name": "stdout",
          "text": [
            "                       word  topic_id  importance  word_count\n",
            "0                   prabowo         0    0.024849       30627\n",
            "1                   koalisi         0    0.022663        3914\n",
            "2                        yg         0    0.022616        5960\n",
            "3                    ganjar         0    0.019812       18741\n",
            "4                     anies         0    0.018128        5842\n",
            "5                   prabowo         1    0.083572       30627\n",
            "6                  subianto         1    0.049414        7515\n",
            "7                    ganjar         1    0.029445       18741\n",
            "8                 indonesia         1    0.016631        5196\n",
            "9                       tni         1    0.012032        1218\n",
            "10                  prabowo         2    0.085327       30627\n",
            "11                  pilpres         2    0.053373        5587\n",
            "12                   dekade         2    0.047996        4374\n",
            "13           mendingprabowo         2    0.047981        4372\n",
            "14  terusmajubersamaprabowo         2    0.047981        4372\n",
            "15                   negeri         3    0.014770         588\n",
            "16             subscription         3    0.013965         274\n",
            "17                 deposits         3    0.013965         274\n",
            "18                   losses         3    0.013965         274\n",
            "19                   exceed         3    0.013965         274\n",
            "20                  prabowo         4    0.042254       30627\n",
            "21                   ganjar         4    0.039473       18741\n",
            "22                     imin         4    0.021847        3069\n",
            "23                    anies         4    0.020426        5842\n",
            "24                   dukung         4    0.019735        5378\n"
          ]
        }
      ],
      "source": [
        "  # Word Count of Topic Keywords\n",
        "#melihat word count\n",
        "from collections import Counter\n",
        "topics = lda_model.show_topics(num_words=number_words,formatted=False)\n",
        "data_flat = [w for w_list in doc_clean for w in w_list]\n",
        "counter = Counter(data_flat)\n",
        "\n",
        "out = []\n",
        "for i, topic in topics:\n",
        "    for word, weight in topic:\n",
        "        out.append([word, i , weight, counter[word]])\n",
        "\n",
        "df_imp_wcount = pd.DataFrame(out, columns=['word', 'topic_id', 'importance', 'word_count'])\n",
        "print(df_imp_wcount)"
      ]
    },
    {
      "cell_type": "code",
      "execution_count": null,
      "metadata": {
        "id": "07A18K3IT7Zt"
      },
      "outputs": [],
      "source": [
        "# def calculate_topic_importance(lda_model, doc_clean):\n",
        "#     # Word Count of Topic Keywords\n",
        "#     topics = lda_model.show_topics(formatted=False)\n",
        "#     data_flat = [w for w_list in doc_clean for w in w_list]\n",
        "#     counter = Counter(data_flat)\n",
        "\n",
        "#     out = []\n",
        "#     for i, topic in topics:\n",
        "#         for word, weight in topic:\n",
        "#             out.append([word, i, weight, counter[word]])\n",
        "\n",
        "#     df_imp_wcount = pd.DataFrame(out, columns=['word', 'topic_id', 'importance', 'word_count'])\n",
        "#     return df_imp_wcount\n",
        "\n",
        "# # Assuming you have your lda_model and doc_clean (preprocessed documents) defined\n",
        "# df_importance_wordcount = calculate_topic_importance(lda_model, doc_clean)\n",
        "# print(df_importance_wordcount)"
      ]
    },
    {
      "cell_type": "code",
      "execution_count": null,
      "metadata": {
        "id": "u89uZXQUiaz4",
        "colab": {
          "base_uri": "https://localhost:8080/",
          "height": 338
        },
        "outputId": "13f800d9-1f16-41c3-adac-7aebc6991200"
      },
      "outputs": [
        {
          "output_type": "error",
          "ename": "MessageError",
          "evalue": "ignored",
          "traceback": [
            "\u001b[0;31m---------------------------------------------------------------------------\u001b[0m",
            "\u001b[0;31mMessageError\u001b[0m                              Traceback (most recent call last)",
            "\u001b[0;32m<ipython-input-29-7b0c2cba9ae5>\u001b[0m in \u001b[0;36m<cell line: 2>\u001b[0;34m()\u001b[0m\n\u001b[1;32m      1\u001b[0m \u001b[0;32mfrom\u001b[0m \u001b[0mgoogle\u001b[0m\u001b[0;34m.\u001b[0m\u001b[0mcolab\u001b[0m \u001b[0;32mimport\u001b[0m \u001b[0mdrive\u001b[0m\u001b[0;34m\u001b[0m\u001b[0;34m\u001b[0m\u001b[0m\n\u001b[0;32m----> 2\u001b[0;31m \u001b[0mdrive\u001b[0m\u001b[0;34m.\u001b[0m\u001b[0mmount\u001b[0m\u001b[0;34m(\u001b[0m\u001b[0;34m'drive'\u001b[0m\u001b[0;34m)\u001b[0m\u001b[0;34m\u001b[0m\u001b[0;34m\u001b[0m\u001b[0m\n\u001b[0m",
            "\u001b[0;32m/usr/local/lib/python3.10/dist-packages/google/colab/drive.py\u001b[0m in \u001b[0;36mmount\u001b[0;34m(mountpoint, force_remount, timeout_ms, readonly)\u001b[0m\n\u001b[1;32m    101\u001b[0m \u001b[0;32mdef\u001b[0m \u001b[0mmount\u001b[0m\u001b[0;34m(\u001b[0m\u001b[0mmountpoint\u001b[0m\u001b[0;34m,\u001b[0m \u001b[0mforce_remount\u001b[0m\u001b[0;34m=\u001b[0m\u001b[0;32mFalse\u001b[0m\u001b[0;34m,\u001b[0m \u001b[0mtimeout_ms\u001b[0m\u001b[0;34m=\u001b[0m\u001b[0;36m120000\u001b[0m\u001b[0;34m,\u001b[0m \u001b[0mreadonly\u001b[0m\u001b[0;34m=\u001b[0m\u001b[0;32mFalse\u001b[0m\u001b[0;34m)\u001b[0m\u001b[0;34m:\u001b[0m\u001b[0;34m\u001b[0m\u001b[0;34m\u001b[0m\u001b[0m\n\u001b[1;32m    102\u001b[0m   \u001b[0;34m\"\"\"Mount your Google Drive at the specified mountpoint path.\"\"\"\u001b[0m\u001b[0;34m\u001b[0m\u001b[0;34m\u001b[0m\u001b[0m\n\u001b[0;32m--> 103\u001b[0;31m   return _mount(\n\u001b[0m\u001b[1;32m    104\u001b[0m       \u001b[0mmountpoint\u001b[0m\u001b[0;34m,\u001b[0m\u001b[0;34m\u001b[0m\u001b[0;34m\u001b[0m\u001b[0m\n\u001b[1;32m    105\u001b[0m       \u001b[0mforce_remount\u001b[0m\u001b[0;34m=\u001b[0m\u001b[0mforce_remount\u001b[0m\u001b[0;34m,\u001b[0m\u001b[0;34m\u001b[0m\u001b[0;34m\u001b[0m\u001b[0m\n",
            "\u001b[0;32m/usr/local/lib/python3.10/dist-packages/google/colab/drive.py\u001b[0m in \u001b[0;36m_mount\u001b[0;34m(mountpoint, force_remount, timeout_ms, ephemeral, readonly)\u001b[0m\n\u001b[1;32m    130\u001b[0m   )\n\u001b[1;32m    131\u001b[0m   \u001b[0;32mif\u001b[0m \u001b[0mephemeral\u001b[0m\u001b[0;34m:\u001b[0m\u001b[0;34m\u001b[0m\u001b[0;34m\u001b[0m\u001b[0m\n\u001b[0;32m--> 132\u001b[0;31m     _message.blocking_request(\n\u001b[0m\u001b[1;32m    133\u001b[0m         \u001b[0;34m'request_auth'\u001b[0m\u001b[0;34m,\u001b[0m \u001b[0mrequest\u001b[0m\u001b[0;34m=\u001b[0m\u001b[0;34m{\u001b[0m\u001b[0;34m'authType'\u001b[0m\u001b[0;34m:\u001b[0m \u001b[0;34m'dfs_ephemeral'\u001b[0m\u001b[0;34m}\u001b[0m\u001b[0;34m,\u001b[0m \u001b[0mtimeout_sec\u001b[0m\u001b[0;34m=\u001b[0m\u001b[0;32mNone\u001b[0m\u001b[0;34m\u001b[0m\u001b[0;34m\u001b[0m\u001b[0m\n\u001b[1;32m    134\u001b[0m     )\n",
            "\u001b[0;32m/usr/local/lib/python3.10/dist-packages/google/colab/_message.py\u001b[0m in \u001b[0;36mblocking_request\u001b[0;34m(request_type, request, timeout_sec, parent)\u001b[0m\n\u001b[1;32m    174\u001b[0m       \u001b[0mrequest_type\u001b[0m\u001b[0;34m,\u001b[0m \u001b[0mrequest\u001b[0m\u001b[0;34m,\u001b[0m \u001b[0mparent\u001b[0m\u001b[0;34m=\u001b[0m\u001b[0mparent\u001b[0m\u001b[0;34m,\u001b[0m \u001b[0mexpect_reply\u001b[0m\u001b[0;34m=\u001b[0m\u001b[0;32mTrue\u001b[0m\u001b[0;34m\u001b[0m\u001b[0;34m\u001b[0m\u001b[0m\n\u001b[1;32m    175\u001b[0m   )\n\u001b[0;32m--> 176\u001b[0;31m   \u001b[0;32mreturn\u001b[0m \u001b[0mread_reply_from_input\u001b[0m\u001b[0;34m(\u001b[0m\u001b[0mrequest_id\u001b[0m\u001b[0;34m,\u001b[0m \u001b[0mtimeout_sec\u001b[0m\u001b[0;34m)\u001b[0m\u001b[0;34m\u001b[0m\u001b[0;34m\u001b[0m\u001b[0m\n\u001b[0m",
            "\u001b[0;32m/usr/local/lib/python3.10/dist-packages/google/colab/_message.py\u001b[0m in \u001b[0;36mread_reply_from_input\u001b[0;34m(message_id, timeout_sec)\u001b[0m\n\u001b[1;32m    101\u001b[0m     ):\n\u001b[1;32m    102\u001b[0m       \u001b[0;32mif\u001b[0m \u001b[0;34m'error'\u001b[0m \u001b[0;32min\u001b[0m \u001b[0mreply\u001b[0m\u001b[0;34m:\u001b[0m\u001b[0;34m\u001b[0m\u001b[0;34m\u001b[0m\u001b[0m\n\u001b[0;32m--> 103\u001b[0;31m         \u001b[0;32mraise\u001b[0m \u001b[0mMessageError\u001b[0m\u001b[0;34m(\u001b[0m\u001b[0mreply\u001b[0m\u001b[0;34m[\u001b[0m\u001b[0;34m'error'\u001b[0m\u001b[0;34m]\u001b[0m\u001b[0;34m)\u001b[0m\u001b[0;34m\u001b[0m\u001b[0;34m\u001b[0m\u001b[0m\n\u001b[0m\u001b[1;32m    104\u001b[0m       \u001b[0;32mreturn\u001b[0m \u001b[0mreply\u001b[0m\u001b[0;34m.\u001b[0m\u001b[0mget\u001b[0m\u001b[0;34m(\u001b[0m\u001b[0;34m'data'\u001b[0m\u001b[0;34m,\u001b[0m \u001b[0;32mNone\u001b[0m\u001b[0;34m)\u001b[0m\u001b[0;34m\u001b[0m\u001b[0;34m\u001b[0m\u001b[0m\n\u001b[1;32m    105\u001b[0m \u001b[0;34m\u001b[0m\u001b[0m\n",
            "\u001b[0;31mMessageError\u001b[0m: Error: credential propagation was unsuccessful"
          ]
        }
      ],
      "source": [
        "from google.colab import drive\n",
        "drive.mount('drive')"
      ]
    },
    {
      "cell_type": "code",
      "execution_count": null,
      "metadata": {
        "id": "8zYZ3Cdiznal"
      },
      "outputs": [],
      "source": [
        "import json\n",
        "\n",
        "# Initialize an empty list to store the topics data\n",
        "topics_data = []\n",
        "\n",
        "# Group the DataFrame by 'topic_id'\n",
        "grouped = df_imp_wcount.groupby('topic_id')\n",
        "\n",
        "# Iterate through each group (topic)\n",
        "for topic_id, group_data in grouped:\n",
        "    # Extract the top words, importance, and word count for the topic\n",
        "    top_words = group_data['word'].tolist()\n",
        "    importance = group_data['importance'].tolist()\n",
        "    word_count = group_data['word_count'].tolist()\n",
        "\n",
        "    # Create a dictionary for the topic\n",
        "    topic_dict = {\n",
        "        \"topic_id\": int(topic_id),\n",
        "        \"top_words\": top_words,\n",
        "        \"importance\": importance,\n",
        "        \"word_count\": word_count\n",
        "    }\n",
        "\n",
        "    # Append the topic dictionary to the list of topics\n",
        "    topics_data.append(topic_dict)\n",
        "\n",
        "# Create the final JSON structure\n",
        "output_json = {\n",
        "    \"topics\": topics_data\n",
        "}\n",
        "\n",
        "# Convert the JSON structure to a JSON-formatted string\n",
        "json_string = json.dumps(output_json, indent=4)\n",
        "\n",
        "# Save the JSON to a file (optional)\n",
        "with open('lda_topic_data_twit.json', 'w') as json_file:\n",
        "    json_file.write(json_string)\n",
        "\n",
        "# # Print the JSON string\n",
        "# print(json_string)\n"
      ]
    },
    {
      "cell_type": "code",
      "execution_count": null,
      "metadata": {
        "colab": {
          "base_uri": "https://localhost:8080/"
        },
        "id": "4gHm2Fd7ibmc",
        "outputId": "6bb8e029-81da-49a5-8336-01ea359fd5a4"
      },
      "outputs": [
        {
          "output_type": "stream",
          "name": "stdout",
          "text": [
            "cp: cannot stat 'df_imp_wcount.csv': No such file or directory\n"
          ]
        }
      ],
      "source": [
        "#simpan ke google drive\n",
        "df_imp_wcount.to_csv('df_imp_wcount2.csv')\n",
        "!cp df_imp_wcount.csv \"drive/My Drive/Colab Notebooks/LDA Indonesia/\"\n",
        "# #jika simpan ke local drive\n",
        "# filedisimpan='df_imp_wcount.xlsx'\n",
        "# df_imp_wcount.to_excel(filedisimpan, index = False, header=True)"
      ]
    },
    {
      "cell_type": "code",
      "execution_count": null,
      "metadata": {
        "id": "AnwWoSQVkY6G"
      },
      "outputs": [],
      "source": [
        "filedisimpan='df_imp_wcountnew.xlsx'\n",
        "df_imp_wcount.to_excel(filedisimpan, index = False, header=True)"
      ]
    },
    {
      "cell_type": "code",
      "execution_count": null,
      "metadata": {
        "id": "9ct9y5h4iiDH"
      },
      "outputs": [],
      "source": [
        "#Dominant topic and its percentage contribution in each topic\n",
        "def format_topics_sentences(ldamodel=None, corpus=doc_term_matrix, texts=dictionary):\n",
        "    # Init output\n",
        "    sent_topics_df = pd.DataFrame()\n",
        "\n",
        "    # Get main topic in each document\n",
        "    for i, row_list in enumerate(ldamodel[corpus]):\n",
        "        row = row_list[0] if ldamodel.per_word_topics else row_list\n",
        "        # print(row)\n",
        "        row = sorted(row, key=lambda x: (x[1]), reverse=True)\n",
        "        # Get the Dominant topic, Perc Contribution and Keywords for each document\n",
        "        for j, (topic_num, prop_topic) in enumerate(row):\n",
        "            if j == 0:  # => dominant topic\n",
        "                wp = ldamodel.show_topic(topic_num,number_words)\n",
        "                topic_keywords = \", \".join([word for word, prop in wp])\n",
        "                sent_topics_df = sent_topics_df.append(pd.Series([int(topic_num), round(prop_topic,4), topic_keywords]), ignore_index=True)\n",
        "            else:\n",
        "                break\n",
        "    sent_topics_df.columns = ['Dominant_Topic', 'Perc_Contribution', 'Topic_Keywords']\n",
        "\n",
        "    # Add original text to the end of the output\n",
        "    contents = pd.Series(texts)\n",
        "    sent_topics_df = pd.concat([sent_topics_df, contents], axis=1)\n",
        "    return(sent_topics_df)"
      ]
    },
    {
      "cell_type": "code",
      "execution_count": null,
      "metadata": {
        "id": "5sVRr4dLOaqy"
      },
      "outputs": [],
      "source": [
        "import warnings\n",
        "warnings.filterwarnings(\"ignore\")"
      ]
    },
    {
      "cell_type": "code",
      "execution_count": null,
      "metadata": {
        "colab": {
          "base_uri": "https://localhost:8080/"
        },
        "id": "QvCnZwTQikrF",
        "outputId": "fed7d6ca-6462-462b-e4a5-b9a40e72bdfb"
      },
      "outputs": [
        {
          "output_type": "stream",
          "name": "stdout",
          "text": [
            "   Dominant_Topic  Topic_Perc_Contrib  \\\n",
            "0               0              0.6361   \n",
            "1               2              0.8646   \n",
            "2               2              0.8646   \n",
            "3               2              0.8646   \n",
            "4               2              0.7742   \n",
            "5               4              0.4840   \n",
            "6               4              0.4839   \n",
            "7               4              0.4917   \n",
            "8               4              0.4917   \n",
            "9               2              0.9186   \n",
            "\n",
            "                                            Keywords  \\\n",
            "0                prabowo, koalisi, yg, ganjar, anies   \n",
            "1  prabowo, pilpres, dekade, mendingprabowo, teru...   \n",
            "2  prabowo, pilpres, dekade, mendingprabowo, teru...   \n",
            "3  prabowo, pilpres, dekade, mendingprabowo, teru...   \n",
            "4  prabowo, pilpres, dekade, mendingprabowo, teru...   \n",
            "5               prabowo, ganjar, imin, anies, dukung   \n",
            "6               prabowo, ganjar, imin, anies, dukung   \n",
            "7               prabowo, ganjar, imin, anies, dukung   \n",
            "8               prabowo, ganjar, imin, anies, dukung   \n",
            "9  prabowo, pilpres, dekade, mendingprabowo, teru...   \n",
            "\n",
            "                                                Text  \n",
            "0   @prabowo sedang menjemput takdirnya - @AHMADD...  \n",
            "1   \\n5️⃣ tanda Kehormatan yang dimiliki Ganjar P...  \n",
            "2   \\n5️⃣ tanda Kehormatan yang dimiliki Ganjar P...  \n",
            "3   \\n5️⃣ tanda Kehormatan yang dimiliki Ganjar P...  \n",
            "4   \\nDedikasi turunkan angka kematian Ibu dan ba...  \n",
            "5   \\nGanjar berharap PJ Gubernur Jateng bisa men...  \n",
            "6   \\nGanjar berharap PJ Gubernur Jateng bisa men...  \n",
            "7   \\nGanjar berharap revitalisasi pasar tingkatk...  \n",
            "8   \\nGanjar berharap revitalisasi pasar tingkatk...  \n",
            "9   \\nGanjar berhasil raih penghargaan baznas Awa...  \n"
          ]
        }
      ],
      "source": [
        "df_topic_sents_keywords = format_topics_sentences(ldamodel=lda_model, corpus=doc_term_matrix, texts=df['twitter'])\n",
        "\n",
        "# Format\n",
        "df_dominant_topic = df_topic_sents_keywords.reset_index()\n",
        "df_dominant_topic.columns = ['Document_No', 'Dominant_Topic', 'Topic_Perc_Contrib', 'Keywords', 'Text']\n",
        "df_dominant_topic = df_dominant_topic[['Dominant_Topic', 'Topic_Perc_Contrib', 'Keywords', 'Text']]\n",
        "print(df_dominant_topic.head(10))"
      ]
    },
    {
      "cell_type": "code",
      "execution_count": null,
      "metadata": {
        "colab": {
          "base_uri": "https://localhost:8080/"
        },
        "id": "hx9w3QYhp7-N",
        "outputId": "823f5b35-1683-4460-f13f-b644ca5f7adb"
      },
      "outputs": [
        {
          "output_type": "stream",
          "name": "stderr",
          "text": [
            "IOPub data rate exceeded.\n",
            "The notebook server will temporarily stop sending output\n",
            "to the client in order to avoid crashing it.\n",
            "To change this limit, set the config variable\n",
            "`--NotebookApp.iopub_data_rate_limit`.\n",
            "\n",
            "Current values:\n",
            "NotebookApp.iopub_data_rate_limit=1000000.0 (bytes/sec)\n",
            "NotebookApp.rate_limit_window=3.0 (secs)\n",
            "\n"
          ]
        }
      ],
      "source": [
        "import json\n",
        "\n",
        "# Create an empty dictionary for topics\n",
        "topics_dict = {}\n",
        "\n",
        "# Iterate through each row in the DataFrame to build the topics dictionary\n",
        "for index, row in df_dominant_topic.iterrows():\n",
        "    dominant_topic = int(row['Dominant_Topic'])\n",
        "    keywords = row['Keywords']\n",
        "\n",
        "    # Split keywords into a list\n",
        "    keyword_list = keywords.split(', ')\n",
        "\n",
        "    # Create a dictionary entry for the topic\n",
        "    topics_dict[dominant_topic] = keyword_list\n",
        "\n",
        "# Create an empty list to store the topics data\n",
        "topics_data = []\n",
        "\n",
        "# Iterate through each row in the DataFrame\n",
        "for index, row in df_dominant_topic.iterrows():\n",
        "    # Extract relevant information from the row\n",
        "    # document_no = int(row['Document_No'])\n",
        "    dominant_topic = int(row['Dominant_Topic'])\n",
        "    topic_perc_contrib = row['Topic_Perc_Contrib']\n",
        "    text = row['Text']\n",
        "\n",
        "    # Create a dictionary for the row\n",
        "    row_dict = {\n",
        "        # \"Document_No\": document_no,\n",
        "        \"Dominant_Topic\": dominant_topic,\n",
        "        \"Topic_Perc_Contrib\": topic_perc_contrib,\n",
        "        \"Text\": text\n",
        "    }\n",
        "\n",
        "    # Append the row dictionary to the list of topics data\n",
        "    topics_data.append(row_dict)\n",
        "\n",
        "# Create the final JSON structure\n",
        "output_json = {\n",
        "    \"topic\": topics_dict,\n",
        "    \"topics_data\": topics_data\n",
        "}\n",
        "\n",
        "# Convert the JSON structure to a JSON-formatted string with indentation\n",
        "json_string = json.dumps(output_json, indent=4)\n",
        "\n",
        "# Print the JSON string or save it to a file (optional)\n",
        "with open('testxx.json', 'w') as json_file:\n",
        "    json_file.write(json_string)\n",
        "\n",
        "# Print the JSON string\n",
        "print(json_string)"
      ]
    },
    {
      "cell_type": "code",
      "execution_count": null,
      "metadata": {
        "colab": {
          "base_uri": "https://localhost:8080/"
        },
        "id": "dAGjrcusirFU",
        "outputId": "500c62f7-5f4b-4fd3-82b3-dae839720c6c"
      },
      "outputs": [
        {
          "output_type": "stream",
          "name": "stdout",
          "text": [
            "cp: cannot stat 'df_dominant_topic.csv': No such file or directory\n"
          ]
        }
      ],
      "source": [
        "#simpan ke google drive\n",
        "df_dominant_topic.to_csv('df_dominant_topic1.csv')\n",
        "!cp df_dominant_topic.csv \"drive/My Drive/Colab Notebooks/LDA Indonesia/\""
      ]
    },
    {
      "cell_type": "code",
      "execution_count": null,
      "metadata": {
        "id": "OKJR3Epvit25"
      },
      "outputs": [],
      "source": [
        "#jika simpan ke local drive\n",
        "filedisimpan='df_dominant_topicnew.xlsx'\n",
        "df_dominant_topic.to_excel(filedisimpan, index = False, header=True)"
      ]
    },
    {
      "cell_type": "code",
      "execution_count": null,
      "metadata": {
        "id": "l-BIFf2Zit-r"
      },
      "outputs": [],
      "source": [
        "import pyLDAvis.gensim\n",
        "import pickle\n",
        "import pyLDAvis\n",
        "# Visualize the topics\n",
        "pyLDAvis.enable_notebook()"
      ]
    },
    {
      "cell_type": "code",
      "execution_count": null,
      "metadata": {
        "colab": {
          "base_uri": "https://localhost:8080/"
        },
        "id": "qaJUn1FLiycj",
        "outputId": "1df1042a-694e-4151-ae04-252fe36d6026"
      },
      "outputs": [
        {
          "output_type": "stream",
          "name": "stderr",
          "text": [
            "/usr/local/lib/python3.10/dist-packages/ipykernel/ipkernel.py:283: DeprecationWarning: `should_run_async` will not call `transform_cell` automatically in the future. Please pass the result to `transformed_cell` argument and any exception that happen during thetransform in `preprocessing_exc_tuple` in IPython 7.17 and above.\n",
            "  and should_run_async(code)\n"
          ]
        }
      ],
      "source": [
        "import os\n",
        "LDAvis_data_filepath = os.path.join('ldavis_prepared_'+str(total_topics))"
      ]
    },
    {
      "cell_type": "code",
      "execution_count": null,
      "metadata": {
        "colab": {
          "base_uri": "https://localhost:8080/"
        },
        "id": "pb2I6tKQi26t",
        "outputId": "f847e129-0ecd-4452-e7a0-1b7fca035c30"
      },
      "outputs": [
        {
          "output_type": "stream",
          "name": "stderr",
          "text": [
            "/usr/local/lib/python3.10/dist-packages/ipykernel/ipkernel.py:283: DeprecationWarning: `should_run_async` will not call `transform_cell` automatically in the future. Please pass the result to `transformed_cell` argument and any exception that happen during thetransform in `preprocessing_exc_tuple` in IPython 7.17 and above.\n",
            "  and should_run_async(code)\n"
          ]
        }
      ],
      "source": [
        "corpus = doc_term_matrix"
      ]
    },
    {
      "cell_type": "code",
      "execution_count": null,
      "metadata": {
        "colab": {
          "base_uri": "https://localhost:8080/"
        },
        "id": "4U2xyc7ti5Hm",
        "outputId": "979c90fa-f4b1-4f3b-d69a-5587361989dd"
      },
      "outputs": [
        {
          "output_type": "stream",
          "name": "stderr",
          "text": [
            "/usr/local/lib/python3.10/dist-packages/ipykernel/ipkernel.py:283: DeprecationWarning: `should_run_async` will not call `transform_cell` automatically in the future. Please pass the result to `transformed_cell` argument and any exception that happen during thetransform in `preprocessing_exc_tuple` in IPython 7.17 and above.\n",
            "  and should_run_async(code)\n"
          ]
        }
      ],
      "source": [
        "# proses ini mungkin agak lama\n",
        "if 1 == 1:\n",
        "    LDAvis_prepared = pyLDAvis.gensim.prepare(lda_model, corpus, dictionary)\n",
        "    with open(LDAvis_data_filepath, 'wb') as f:\n",
        "        pickle.dump(LDAvis_prepared, f)"
      ]
    },
    {
      "cell_type": "code",
      "execution_count": null,
      "metadata": {
        "colab": {
          "base_uri": "https://localhost:8080/"
        },
        "id": "x9pPEf4qi5sT",
        "outputId": "1ad85c4a-9339-4b35-fcba-91cefc114af5"
      },
      "outputs": [
        {
          "output_type": "stream",
          "name": "stderr",
          "text": [
            "/usr/local/lib/python3.10/dist-packages/ipykernel/ipkernel.py:283: DeprecationWarning: `should_run_async` will not call `transform_cell` automatically in the future. Please pass the result to `transformed_cell` argument and any exception that happen during thetransform in `preprocessing_exc_tuple` in IPython 7.17 and above.\n",
            "  and should_run_async(code)\n"
          ]
        }
      ],
      "source": [
        "# load the pre-prepared pyLDAvis data from disk\n",
        "with open(LDAvis_data_filepath, 'rb') as f:\n",
        "    LDAvis_prepared = pickle.load(f)"
      ]
    },
    {
      "cell_type": "code",
      "execution_count": null,
      "metadata": {
        "colab": {
          "base_uri": "https://localhost:8080/"
        },
        "id": "0GXEUu-zi-D2",
        "outputId": "8e3a44cd-8b9e-4513-d07f-df5033293287"
      },
      "outputs": [
        {
          "output_type": "stream",
          "name": "stderr",
          "text": [
            "/usr/local/lib/python3.10/dist-packages/ipykernel/ipkernel.py:283: DeprecationWarning: `should_run_async` will not call `transform_cell` automatically in the future. Please pass the result to `transformed_cell` argument and any exception that happen during thetransform in `preprocessing_exc_tuple` in IPython 7.17 and above.\n",
            "  and should_run_async(code)\n"
          ]
        }
      ],
      "source": [
        "pyLDAvis.save_html(LDAvis_prepared, '/content/ldavis_preparedcoba2_'+ str(total_topics) +'.html')"
      ]
    },
    {
      "cell_type": "code",
      "execution_count": null,
      "metadata": {
        "colab": {
          "base_uri": "https://localhost:8080/",
          "height": 916
        },
        "id": "kryNEHLNjA1t",
        "outputId": "49655ec4-073f-4229-cf1a-6526e1876cc9"
      },
      "outputs": [
        {
          "output_type": "stream",
          "name": "stderr",
          "text": [
            "/usr/local/lib/python3.10/dist-packages/ipykernel/ipkernel.py:283: DeprecationWarning: `should_run_async` will not call `transform_cell` automatically in the future. Please pass the result to `transformed_cell` argument and any exception that happen during thetransform in `preprocessing_exc_tuple` in IPython 7.17 and above.\n",
            "  and should_run_async(code)\n"
          ]
        },
        {
          "output_type": "execute_result",
          "data": {
            "text/plain": [
              "PreparedData(topic_coordinates=              x         y  topics  cluster       Freq\n",
              "topic                                                \n",
              "1      0.128268  0.137548       1        1  24.366130\n",
              "2      0.123517  0.190854       2        1  22.255249\n",
              "0      0.061548 -0.208322       3        1  21.889560\n",
              "4      0.092517 -0.154764       4        1  21.254112\n",
              "3     -0.405850  0.034684       5        1  10.234949, topic_info=                          Term         Freq        Total Category  logprob  \\\n",
              "12689                   dekade  6020.000000  6020.000000  Default  30.0000   \n",
              "12691           mendingprabowo  6018.000000  6018.000000  Default  29.0000   \n",
              "12692  terusmajubersamaprabowo  6018.000000  6018.000000  Default  28.0000   \n",
              "245                    pilpres  7064.000000  7064.000000  Default  27.0000   \n",
              "174                   subianto  8221.000000  8221.000000  Default  26.0000   \n",
              "...                        ...          ...          ...      ...      ...   \n",
              "17513                    linyi   296.633814   305.110076   Topic5  -5.2667   \n",
              "8649                     today   441.550925   537.481040   Topic5  -4.8689   \n",
              "356                       yati   388.924568   488.179908   Topic5  -4.9958   \n",
              "29                      jateng   373.587786  1135.605199   Topic5  -5.0360   \n",
              "312                      kerja   357.156494   846.647278   Topic5  -5.0810   \n",
              "\n",
              "       loglift  \n",
              "12689  30.0000  \n",
              "12691  29.0000  \n",
              "12692  28.0000  \n",
              "245    27.0000  \n",
              "174    26.0000  \n",
              "...        ...  \n",
              "17513   2.2512  \n",
              "8649    2.0828  \n",
              "356     2.0521  \n",
              "29      1.1676  \n",
              "312     1.4163  \n",
              "\n",
              "[319 rows x 6 columns], token_table=       Topic      Freq           Term\n",
              "term                                 \n",
              "1175       3  0.002902           abis\n",
              "1175       4  0.998319           abis\n",
              "17710      5  0.997981  advertisement\n",
              "5154       1  0.003534          agama\n",
              "5154       2  0.007068          agama\n",
              "...      ...       ...            ...\n",
              "5327       4  0.997946         yusril\n",
              "357        1  0.998502           zoro\n",
              "2936       1  0.996767       zulkifli\n",
              "2936       2  0.001367       zulkifli\n",
              "2936       4  0.001367       zulkifli\n",
              "\n",
              "[643 rows x 3 columns], R=30, lambda_step=0.01, plot_opts={'xlab': 'PC1', 'ylab': 'PC2'}, topic_order=[2, 3, 1, 5, 4])"
            ],
            "text/html": [
              "\n",
              "<link rel=\"stylesheet\" type=\"text/css\" href=\"https://cdn.jsdelivr.net/gh/bmabey/pyLDAvis/pyLDAvis/js/ldavis.v1.0.0.css\">\n",
              "\n",
              "\n",
              "<div id=\"ldavis_el15401383309151201602094705207\"></div>\n",
              "<script type=\"text/javascript\">\n",
              "\n",
              "var ldavis_el15401383309151201602094705207_data = {\"mdsDat\": {\"x\": [0.12826787497698297, 0.12351692714845769, 0.06154810836887682, 0.0925170227288946, -0.40584993322321194], \"y\": [0.13754800253041363, 0.1908542664098589, -0.20832212767126546, -0.1547642876734996, 0.034684146404492404], \"topics\": [1, 2, 3, 4, 5], \"cluster\": [1, 1, 1, 1, 1], \"Freq\": [24.36613021835849, 22.25524873973509, 21.8895602209868, 21.254112065212055, 10.234948755707574]}, \"tinfo\": {\"Term\": [\"dekade\", \"mendingprabowo\", \"terusmajubersamaprabowo\", \"pilpres\", \"subianto\", \"golkar\", \"prabowo\", \"imin\", \"pidato\", \"markas\", \"cak\", \"yg\", \"kejut\", \"anies\", \"koalisi\", \"khianat\", \"indonesia\", \"tni\", \"airlangga\", \"hasan\", \"survei\", \"polisi\", \"september\", \"head\", \"negeri\", \"maju\", \"losses\", \"exceed\", \"subscription\", \"deposits\", \"head\", \"polisi\", \"survei\", \"listyo\", \"sigit\", \"drs\", \"persen\", \"kapolri\", \"ktt\", \"polwan\", \"pasu\", \"unggul\", \"agustus\", \"monas\", \"september\", \"republik\", \"tni\", \"hadap\", \"gelar\", \"zoro\", \"asean\", \"damai\", \"fisika\", \"zulkifli\", \"apel\", \"simulasi\", \"party\", \"grup\", \"tantang\", \"green\", \"yudo\", \"laksamana\", \"margono\", \"aseanke\", \"jenderal\", \"csfa\", \"panglima\", \"subianto\", \"bahas\", \"nostalgia\", \"mm\", \"prabowo\", \"jawa\", \"sukses\", \"indonesia\", \"ganjar\", \"pimpin\", \"pranowo\", \"dukung\", \"anies\", \"partai\", \"kantor\", \"institute\", \"markas\", \"mampir\", \"airlangga\", \"spesial\", \"bola\", \"perhati\", \"mendingprabowo\", \"terusmajubersamaprabowo\", \"dekade\", \"ja\", \"baru\", \"kejut\", \"istimewa\", \"positif\", \"nuansa\", \"sentuh\", \"kuda\", \"gosip\", \"pbb\", \"lengkap\", \"umum\", \"lapang\", \"jempol\", \"muka\", \"energi\", \"nyanyi\", \"wawancara\", \"prinsip\", \"golkar\", \"ungkap\", \"jumat\", \"kasih\", \"pilpres\", \"miskin\", \"lanjut\", \"seru\", \"siapsiap\", \"insitutute\", \"dpp\", \"nih\", \"gaspol\", \"maju\", \"hadir\", \"jokowi\", \"prabowo\", \"indonesia\", \"koalisi\", \"pranowo\", \"presiden\", \"ganjar\", \"partai\", \"subianto\", \"pimpin\", \"dukung\", \"nama\", \"kunjung\", \"online\", \"live\", \"china\", \"jepang\", \"oleh\", \"link\", \"tanggap\", \"bagi\", \"sekjen\", \"khusus\", \"luas\", \"milenial\", \"like\", \"team\", \"mahasiswa\", \"level\", \"umumin\", \"gerung\", \"nasi\", \"izin\", \"pileg\", \"case\", \"rocky\", \"us\", \"baswedanmuhaimin\", \"tabur\", \"poros\", \"puncak\", \"laju\", \"stay\", \"iskandar\", \"kompas\", \"agama\", \"pks\", \"pake\", \"diumumin\", \"choose\", \"saran\", \"gimana\", \"jabat\", \"tentu\", \"sapa\", \"undang\", \"daftar\", \"amp\", \"pdip\", \"sby\", \"demokrat\", \"dr\", \"gabung\", \"yg\", \"jd\", \"cawapres\", \"aja\", \"koalisi\", \"putus\", \"anies\", \"nasdem\", \"ahy\", \"partai\", \"dgn\", \"politik\", \"ganjar\", \"prabowo\", \"capres\", \"ya\", \"pkb\", \"ubah\", \"ga\", \"mas\", \"menang\", \"bikin\", \"hasan\", \"pidato\", \"guru\", \"serius\", \"antek\", \"surabaya\", \"materi\", \"keren\", \"abis\", \"dagang\", \"emas\", \"yusril\", \"signifikan\", \"solo\", \"panggil\", \"bangkit\", \"sun\", \"pepo\", \"asing\", \"sejarah\", \"tatap\", \"nintendo\", \"kalang\", \"diskusi\", \"hindar\", \"kate\", \"tegang\", \"kim\", \"sarat\", \"perindo\", \"keluarga\", \"gus\", \"pasar\", \"kompak\", \"simak\", \"lari\", \"solid\", \"dur\", \"khianat\", \"imin\", \"cak\", \"aniescak\", \"nu\", \"amerika\", \"hati\", \"dukung\", \"rakyat\", \"ganjar\", \"anies\", \"deklarasi\", \"pilih\", \"pkb\", \"prabowo\", \"jatim\", \"yg\", \"ya\", \"orang\", \"warga\", \"muhaimin\", \"ahy\", \"pranowo\", \"gak\", \"koalisi\", \"deposits\", \"exceed\", \"losses\", \"subscription\", \"using\", \"trading\", \"free\", \"trade\", \"high\", \"authority\", \"credit\", \"leveraged\", \"monetary\", \"oanda\", \"reviewed\", \"risk\", \"tradingview\", \"advertisement\", \"amazon\", \"tool\", \"fee\", \"kalbar\", \"kota\", \"potential\", \"xmen\", \"prime\", \"read\", \"work\", \"reader\", \"latest\", \"negeri\", \"singapore\", \"ponakan\", \"ekonomi\", \"report\", \"well\", \"ready\", \"get\", \"ai\", \"writing\", \"linyi\", \"today\", \"yati\", \"jateng\", \"kerja\"], \"Freq\": [6020.0, 6018.0, 6018.0, 7064.0, 8221.0, 4783.0, 30211.0, 2846.0, 2058.0, 1931.0, 2243.0, 4474.0, 1773.0, 5924.0, 5490.0, 1746.0, 4721.0, 1649.0, 1522.0, 1437.0, 1490.0, 1464.0, 1469.0, 1404.0, 861.0, 2568.0, 803.0, 803.0, 803.0, 803.0, 1403.8973613142768, 1463.8463215801978, 1489.8094129741107, 1244.2286184389923, 1247.5232917900296, 1220.623908085357, 1166.7132494756788, 1266.3865169505075, 930.5905110561856, 666.1555395100465, 881.248913045074, 985.9203910240747, 572.7175302405665, 600.6986775603042, 1467.160620494847, 537.6660187521743, 1646.4508489428897, 494.23703595501803, 1113.556518361639, 530.6994534248311, 304.1599796680328, 362.4865175291244, 257.8959472105013, 728.6981327021391, 883.8256603402157, 229.14116718231034, 226.2707692056567, 217.3908229350325, 972.3402019175913, 227.45203060507274, 774.4248038469093, 780.1237998984976, 770.7372369074589, 444.6421216187788, 1257.4094783014623, 742.3727539036643, 783.5638171151156, 6761.656601813014, 632.3192837008983, 869.455797175801, 706.5116879162791, 11435.724160801443, 739.6950114191559, 936.5296016652084, 2275.735243133159, 4029.1391692636635, 1238.5488019154793, 1246.2136040157438, 1294.6591803531176, 1216.6273022383805, 1016.3507194754764, 941.4893956635432, 985.4121874559107, 1927.336971633518, 625.5330550805044, 1519.2297004912202, 348.42959590008917, 335.5478925280882, 287.85643805239357, 5996.80778097099, 5996.80778097099, 5998.687849218327, 280.51509862627034, 255.38338643268304, 1765.6609962333105, 192.14886464094462, 191.86505604732957, 184.49193983619378, 173.31409196277204, 164.9501191416815, 552.4268364077268, 149.47518858580887, 140.46255613585822, 259.3494900375397, 815.370595106084, 124.08095417061817, 124.2673372365573, 94.18502309512317, 98.32459680955505, 93.11764903444448, 82.36405907044656, 4690.694850891336, 324.112207471879, 468.2106156254989, 547.2048514039942, 6670.6474273938375, 1030.9998849055212, 457.29918932275723, 1084.299563640875, 378.8474868590737, 267.1936417972089, 954.3123178031949, 1135.1959629617431, 1129.8199827691035, 1838.3079647036445, 553.379907161144, 1490.3494916509485, 10664.379375439405, 2144.0599997493314, 1976.857308125014, 1305.8326425400562, 954.2052894009273, 2675.3278040824416, 1208.469737246336, 1457.6156783366432, 861.7174434415992, 1040.3637934179987, 727.9777434089181, 768.6964903898149, 391.1532281218132, 793.3304724871368, 363.28138524347844, 482.4314964504206, 255.91793790944442, 246.40607967103665, 321.1678148539092, 317.6604257111896, 198.5148223854165, 150.0952843589869, 148.02689674982676, 145.6140640871507, 445.9284206530996, 141.18829790906054, 125.67782366511746, 127.03068889151368, 143.24749802707618, 119.37131222037003, 117.10622357416737, 111.2298498573492, 114.85325611955255, 135.227891562958, 119.37216370903529, 439.6809552962996, 109.46527912824821, 92.75042783254355, 1080.0656598985624, 88.3733682371798, 88.6914099867057, 469.27970305218963, 306.38471228037434, 491.4154317163657, 278.9140565153499, 861.3522527178087, 266.77251506393463, 166.62319453814834, 340.8033724466008, 144.8390376729555, 219.44973737056455, 408.6704536441385, 326.9502958458066, 555.9535786225421, 264.08312746922167, 195.44747399846412, 1548.2263208050572, 839.4922060309035, 820.0989864055658, 1793.9987498018, 448.09924449530087, 977.8014991214742, 2780.171226836101, 495.09168751875075, 1568.9840975263628, 917.8737554817781, 2785.9351324954355, 424.75826582459723, 2228.4205390223588, 782.0800031908682, 1048.118263121403, 1706.6773993882352, 553.5043823851024, 867.4304220929272, 2435.422671276231, 3054.610803435268, 728.3165795441876, 707.9104461755344, 767.1754311082451, 608.4774637443426, 567.272796684322, 587.4535646159911, 516.3695735518262, 505.91970395117835, 1436.2750398080202, 2056.278969688652, 515.2899718272758, 594.2283206097525, 386.3792159436409, 368.8733927078, 425.2595354367982, 402.70794077638976, 343.56094147795227, 241.96878423002016, 231.66836727573715, 243.66898498558638, 225.42893425400254, 214.80425664792813, 213.83831117869897, 184.2183734467631, 182.29313835558833, 518.8585064326264, 208.3488629195539, 162.44509605961449, 196.3748547035417, 467.7618864289211, 136.6233682978501, 192.46161946444968, 131.5380786484927, 133.47832066047374, 118.66862970044666, 122.30347266328563, 122.64910428192891, 116.37143835038096, 521.8224844542377, 1118.1218712976295, 338.5586345425346, 222.497651866333, 208.7084871023193, 252.3007435085904, 158.90055863225683, 877.640300710103, 1675.002690421613, 2607.6950463916323, 2049.7486247280285, 401.40722981080484, 278.9173239470956, 441.07277253985234, 426.72551706541054, 2355.5852242644105, 971.3658578619915, 4711.489706873676, 2438.071487031426, 813.1885772314079, 1165.9629343665767, 939.1950214989334, 5043.392549713885, 443.03106454269204, 1323.6733330165214, 662.8135058903715, 477.10202719516843, 552.3745742929947, 478.33592957257144, 586.3673620043081, 648.1673069953503, 469.72279074760485, 466.95579245687264, 802.6639051063786, 802.6639051063786, 802.6639051063786, 802.6639051063786, 593.4097515484975, 541.4191487094116, 473.05477266897486, 547.3109727288137, 568.9018727257393, 401.40641334645676, 401.40641334645676, 401.40641334645676, 401.40641334645676, 401.40641334645676, 401.40641334645676, 401.40641334645676, 401.40641334645676, 401.72754224567444, 334.2140587569154, 305.41855508991017, 401.42142862504164, 267.84462708247213, 242.09291577059543, 265.0422568536099, 251.89211140277385, 250.2306346943361, 167.71003600747292, 259.28203733474567, 152.20941062365245, 153.6439184151569, 848.9449549548732, 576.2626781174254, 255.02289066592516, 361.74672664104946, 319.08101328119676, 567.2744413548415, 384.53673447376866, 472.12666250817534, 517.8276568887716, 287.79321425592747, 296.6338141616948, 441.5509249293794, 388.92456823605795, 373.58778603914874, 357.156494417693], \"Total\": [6020.0, 6018.0, 6018.0, 7064.0, 8221.0, 4783.0, 30211.0, 2846.0, 2058.0, 1931.0, 2243.0, 4474.0, 1773.0, 5924.0, 5490.0, 1746.0, 4721.0, 1649.0, 1522.0, 1437.0, 1490.0, 1464.0, 1469.0, 1404.0, 861.0, 2568.0, 803.0, 803.0, 803.0, 803.0, 1404.8267354289446, 1464.8306129968894, 1490.8482691635227, 1245.1660124820455, 1248.4704654196846, 1221.6170299242197, 1167.7217813568227, 1267.4920074562688, 931.5095347051988, 667.0622599150211, 882.5514287178535, 987.524645979476, 573.6549893318539, 601.6867590216318, 1469.6339469259117, 538.646778443005, 1649.459989072629, 495.1583574282392, 1115.6501594211695, 531.7968669239572, 305.07073500293905, 363.6146761621067, 258.8173861229387, 731.3643011285656, 887.2585695121926, 230.05494675782805, 227.18334791567068, 218.30953586325495, 976.5875974199399, 228.4954144624998, 780.7365902962746, 786.5742057753775, 777.0222615500883, 446.89780041996596, 1278.5022955447957, 759.1858607174277, 804.3057381752902, 8221.485344928351, 653.8122604569339, 975.9224424897283, 762.336798981041, 30211.843798337602, 810.9052818693568, 1160.9893194408558, 4721.357350207568, 14031.302148650866, 2254.601398414102, 3330.2227298665043, 5094.679841086846, 5924.1437062795085, 4145.4188875844375, 942.4198186190384, 986.4076722701251, 1931.4172995065471, 626.9329299465604, 1522.6879203654082, 349.4941833803787, 336.5735241249731, 288.79516569544273, 6018.007361497034, 6018.007361497034, 6020.36460433894, 281.6134672460503, 256.532760259591, 1773.8982056802217, 193.074470362246, 192.79384231211418, 185.4328904353596, 174.24674540856202, 165.87070534478767, 555.6274375532216, 150.45622990361164, 141.43592320868498, 261.24858246644965, 821.4700383197458, 125.02419259947727, 125.25379716700927, 95.13038975341489, 99.31930241621703, 94.09315914252673, 83.30022114569371, 4783.636465528038, 328.12780294688804, 479.4164762525793, 562.1737772540625, 7064.455727679152, 1074.5610004550106, 469.30523086461704, 1134.0929793061396, 388.32041493254974, 275.4910055420879, 1077.459892016655, 1388.0320960054248, 1442.9769713397857, 2568.363857625911, 646.9487115797518, 2369.216720782534, 30211.843798337602, 4721.357350207568, 5490.643027223669, 3330.2227298665043, 2000.7608186645994, 14031.302148650866, 4145.4188875844375, 8221.485344928351, 2254.601398414102, 5094.679841086846, 1512.1009787120645, 769.4640167921056, 391.9172988705312, 795.1883342417996, 364.2059038492012, 483.7882309703555, 256.67348999366294, 247.24458950096948, 322.2806071614742, 318.78755003597234, 199.35314546579767, 150.84820488111347, 148.7725975259701, 146.37545696861292, 448.39473116678704, 142.00675977053888, 126.41458474013544, 127.77946043014772, 144.17073611559232, 120.14633699697751, 117.8684568991471, 111.96246680033536, 115.61448242762832, 136.12849630095474, 120.17347845983072, 442.66605993581675, 110.35158922029935, 93.5138038178012, 1089.0856842278524, 89.11213103704978, 89.43855575460225, 476.1601212086526, 309.6571249006681, 499.9113362068002, 282.9697851551849, 889.1883271467509, 270.9238934519559, 168.53204418069043, 349.9534048688914, 146.21458422991824, 224.5239895671606, 427.46566998343894, 339.33431733592374, 590.6424274563968, 273.11818109317585, 199.67088469870404, 1852.8516271538929, 961.8147231222366, 988.8558392391213, 2370.0898092130665, 510.13087220245075, 1289.2590829328792, 4474.2691520063245, 588.959516513002, 2483.338869698603, 1311.0028268204403, 5490.643027223669, 499.9654409748125, 5924.1437062795085, 1246.469396967534, 1943.2317701023433, 4145.4188875844375, 746.734817217196, 1626.9252426300177, 14031.302148650866, 30211.843798337602, 1501.3325717742339, 1447.3243473643743, 1823.2474794826499, 1075.5073517630003, 957.3008553930823, 1130.5494116952987, 1135.1640314164335, 886.4604913023832, 1437.3730583093604, 2058.529274397823, 516.100639080017, 595.2042610161785, 387.1702096157597, 369.68008776495384, 426.3270617501401, 403.81161308875534, 344.5792728156459, 242.7476384159702, 232.4517341387049, 244.5021414778666, 226.27332894168728, 215.62606067008198, 214.70238296523917, 185.02108759497244, 183.1174483270521, 521.2368617091682, 209.31316457803428, 163.23346700587504, 197.4352281560243, 470.31645974295384, 137.40456090035752, 193.56226182398234, 132.32451256693045, 134.29352640305208, 119.44553852616623, 123.11580568415833, 123.48060721723087, 117.17183953226387, 527.2746136835349, 1138.5530819848443, 342.53127946442976, 224.3637971389121, 210.33509271159326, 255.0897080620605, 159.99499595740969, 900.1546338147191, 1746.7872786251353, 2846.2364752269827, 2243.440177741067, 414.27591601336684, 284.856209091779, 476.31351171559396, 490.1666757994849, 5094.679841086846, 1576.3113501569294, 14031.302148650866, 5924.1437062795085, 1328.1158707091167, 2516.0758272054404, 1823.2474794826499, 30211.843798337602, 627.862482976542, 4474.2691520063245, 1447.3243473643743, 724.5507823716877, 1171.8859660540884, 838.5574894620611, 1943.2317701023433, 3330.2227298665043, 877.6274526080041, 5490.643027223669, 803.8186519256213, 803.8186519256213, 803.8186519256213, 803.8186519256213, 594.452790284682, 542.4432496590421, 473.9690395541838, 548.5037636024867, 570.3009868437124, 402.42887987608367, 402.42887987608367, 402.42887987608367, 402.42887987608367, 402.42887987608367, 402.42887987608367, 402.42887987608367, 402.42887987608367, 402.81325143114003, 335.14742044658726, 306.34141990043605, 402.8081207766893, 268.8411171293638, 243.03596503591663, 266.102513523959, 252.95030706952207, 251.47219715620673, 168.6187322344808, 260.7927115893529, 153.1277058264958, 154.590981397249, 861.3340510169783, 583.2369794918842, 256.69246554314986, 365.7883102140236, 323.07952229779477, 598.7884410147022, 399.517758157008, 504.60027517095534, 567.2799187368432, 292.7821608758859, 305.11007568399503, 537.4810398803711, 488.1799079583933, 1135.6051988889603, 846.6472782683802], \"Category\": [\"Default\", \"Default\", \"Default\", \"Default\", \"Default\", \"Default\", \"Default\", \"Default\", \"Default\", \"Default\", \"Default\", \"Default\", \"Default\", \"Default\", \"Default\", \"Default\", \"Default\", \"Default\", \"Default\", \"Default\", \"Default\", \"Default\", \"Default\", \"Default\", \"Default\", \"Default\", \"Default\", \"Default\", \"Default\", \"Default\", \"Topic1\", \"Topic1\", \"Topic1\", \"Topic1\", \"Topic1\", \"Topic1\", \"Topic1\", \"Topic1\", \"Topic1\", \"Topic1\", \"Topic1\", \"Topic1\", \"Topic1\", \"Topic1\", \"Topic1\", \"Topic1\", \"Topic1\", \"Topic1\", \"Topic1\", \"Topic1\", \"Topic1\", \"Topic1\", \"Topic1\", \"Topic1\", \"Topic1\", \"Topic1\", \"Topic1\", \"Topic1\", \"Topic1\", \"Topic1\", \"Topic1\", \"Topic1\", \"Topic1\", \"Topic1\", \"Topic1\", \"Topic1\", \"Topic1\", \"Topic1\", \"Topic1\", \"Topic1\", \"Topic1\", \"Topic1\", \"Topic1\", \"Topic1\", \"Topic1\", \"Topic1\", \"Topic1\", \"Topic1\", \"Topic1\", \"Topic1\", \"Topic1\", \"Topic2\", \"Topic2\", \"Topic2\", \"Topic2\", \"Topic2\", \"Topic2\", \"Topic2\", \"Topic2\", \"Topic2\", \"Topic2\", \"Topic2\", \"Topic2\", \"Topic2\", \"Topic2\", \"Topic2\", \"Topic2\", \"Topic2\", \"Topic2\", \"Topic2\", \"Topic2\", \"Topic2\", \"Topic2\", \"Topic2\", \"Topic2\", \"Topic2\", \"Topic2\", \"Topic2\", \"Topic2\", \"Topic2\", \"Topic2\", \"Topic2\", \"Topic2\", \"Topic2\", \"Topic2\", \"Topic2\", \"Topic2\", \"Topic2\", \"Topic2\", \"Topic2\", \"Topic2\", \"Topic2\", \"Topic2\", \"Topic2\", \"Topic2\", \"Topic2\", \"Topic2\", \"Topic2\", \"Topic2\", \"Topic2\", \"Topic2\", \"Topic2\", \"Topic2\", \"Topic2\", \"Topic2\", \"Topic2\", \"Topic2\", \"Topic2\", \"Topic3\", \"Topic3\", \"Topic3\", \"Topic3\", \"Topic3\", \"Topic3\", \"Topic3\", \"Topic3\", \"Topic3\", \"Topic3\", \"Topic3\", \"Topic3\", \"Topic3\", \"Topic3\", \"Topic3\", \"Topic3\", \"Topic3\", \"Topic3\", \"Topic3\", \"Topic3\", \"Topic3\", \"Topic3\", \"Topic3\", \"Topic3\", \"Topic3\", \"Topic3\", \"Topic3\", \"Topic3\", \"Topic3\", \"Topic3\", \"Topic3\", \"Topic3\", \"Topic3\", \"Topic3\", \"Topic3\", \"Topic3\", \"Topic3\", \"Topic3\", \"Topic3\", \"Topic3\", \"Topic3\", \"Topic3\", \"Topic3\", \"Topic3\", \"Topic3\", \"Topic3\", \"Topic3\", \"Topic3\", \"Topic3\", \"Topic3\", \"Topic3\", \"Topic3\", \"Topic3\", \"Topic3\", \"Topic3\", \"Topic3\", \"Topic3\", \"Topic3\", \"Topic3\", \"Topic3\", \"Topic3\", \"Topic3\", \"Topic3\", \"Topic3\", \"Topic3\", \"Topic3\", \"Topic3\", \"Topic3\", \"Topic3\", \"Topic3\", \"Topic3\", \"Topic3\", \"Topic3\", \"Topic4\", \"Topic4\", \"Topic4\", \"Topic4\", \"Topic4\", \"Topic4\", \"Topic4\", \"Topic4\", \"Topic4\", \"Topic4\", \"Topic4\", \"Topic4\", \"Topic4\", \"Topic4\", \"Topic4\", \"Topic4\", \"Topic4\", \"Topic4\", \"Topic4\", \"Topic4\", \"Topic4\", \"Topic4\", \"Topic4\", \"Topic4\", \"Topic4\", \"Topic4\", \"Topic4\", \"Topic4\", \"Topic4\", \"Topic4\", \"Topic4\", \"Topic4\", \"Topic4\", \"Topic4\", \"Topic4\", \"Topic4\", \"Topic4\", \"Topic4\", \"Topic4\", \"Topic4\", \"Topic4\", \"Topic4\", \"Topic4\", \"Topic4\", \"Topic4\", \"Topic4\", \"Topic4\", \"Topic4\", \"Topic4\", \"Topic4\", \"Topic4\", \"Topic4\", \"Topic4\", \"Topic4\", \"Topic4\", \"Topic4\", \"Topic4\", \"Topic4\", \"Topic4\", \"Topic4\", \"Topic4\", \"Topic4\", \"Topic4\", \"Topic5\", \"Topic5\", \"Topic5\", \"Topic5\", \"Topic5\", \"Topic5\", \"Topic5\", \"Topic5\", \"Topic5\", \"Topic5\", \"Topic5\", \"Topic5\", \"Topic5\", \"Topic5\", \"Topic5\", \"Topic5\", \"Topic5\", \"Topic5\", \"Topic5\", \"Topic5\", \"Topic5\", \"Topic5\", \"Topic5\", \"Topic5\", \"Topic5\", \"Topic5\", \"Topic5\", \"Topic5\", \"Topic5\", \"Topic5\", \"Topic5\", \"Topic5\", \"Topic5\", \"Topic5\", \"Topic5\", \"Topic5\", \"Topic5\", \"Topic5\", \"Topic5\", \"Topic5\", \"Topic5\", \"Topic5\", \"Topic5\", \"Topic5\", \"Topic5\"], \"logprob\": [30.0, 29.0, 28.0, 27.0, 26.0, 25.0, 24.0, 23.0, 22.0, 21.0, 20.0, 19.0, 18.0, 17.0, 16.0, 15.0, 14.0, 13.0, 12.0, 11.0, 10.0, 9.0, 8.0, 7.0, 6.0, 5.0, 4.0, 3.0, 2.0, 1.0, -4.5795, -4.5377, -4.5201, -4.7003, -4.6976, -4.7194, -4.7646, -4.6826, -4.9907, -5.325, -5.0452, -4.933, -5.4761, -5.4284, -4.5355, -5.5393, -4.4202, -5.6235, -4.8112, -5.5523, -6.109, -5.9336, -6.274, -5.2353, -5.0423, -6.3922, -6.4048, -6.4448, -4.9468, -6.3996, -5.1744, -5.1671, -5.1792, -5.7293, -4.6897, -5.2167, -5.1627, -3.0075, -5.3771, -5.0587, -5.2662, -2.482, -5.2203, -4.9844, -4.0965, -3.5252, -4.7048, -4.6987, -4.6605, -4.7227, -4.9026, -4.8885, -4.8429, -4.172, -5.2973, -4.41, -5.8825, -5.9202, -6.0735, -3.0369, -3.0369, -3.0366, -6.0993, -6.1932, -4.2596, -6.4777, -6.4791, -6.5183, -6.5808, -6.6303, -5.4216, -6.7288, -6.791, -6.1777, -5.0323, -6.915, -6.9135, -7.1907, -7.1477, -7.2021, -7.3248, -3.2826, -5.9548, -5.587, -5.4311, -2.9305, -4.7976, -5.6106, -4.7472, -5.7988, -6.148, -4.8749, -4.7014, -4.7061, -4.2193, -5.4199, -4.4292, -2.4613, -4.0655, -4.1467, -4.5613, -4.875, -3.8441, -4.6388, -4.4514, -4.977, -4.7886, -5.1457, -5.0747, -5.7503, -5.0431, -5.8242, -5.5405, -6.1745, -6.2124, -5.9474, -5.9584, -6.4285, -6.7081, -6.722, -6.7384, -5.6192, -6.7693, -6.8856, -6.8749, -6.7548, -6.9371, -6.9563, -7.0078, -6.9757, -6.8124, -6.9371, -5.6333, -7.0237, -7.1894, -4.7346, -7.2378, -7.2342, -5.5682, -5.9945, -5.5221, -6.0885, -4.9609, -6.133, -6.6036, -5.8881, -6.7437, -6.3282, -5.7064, -5.9295, -5.3987, -6.1431, -6.4441, -4.3745, -4.9866, -5.0099, -4.2272, -5.6143, -4.834, -3.7891, -5.5146, -4.3612, -4.8973, -3.787, -5.6678, -4.0103, -5.0574, -4.7646, -4.2771, -5.4031, -4.9538, -3.9215, -3.6949, -5.1286, -5.157, -5.0766, -5.3084, -5.3785, -5.3436, -5.4725, -5.493, -4.4201, -4.0612, -5.4452, -5.3026, -5.7331, -5.7794, -5.6372, -5.6917, -5.8505, -6.2011, -6.2446, -6.1941, -6.2719, -6.3202, -6.3247, -6.4738, -6.4843, -5.4383, -6.3507, -6.5996, -6.4099, -5.5419, -6.7727, -6.43, -6.8106, -6.796, -6.9136, -6.8834, -6.8806, -6.9331, -5.4326, -4.6705, -5.8652, -6.285, -6.349, -6.1593, -6.6216, -4.9127, -4.2663, -3.8237, -4.0644, -5.6949, -6.059, -5.6007, -5.6338, -3.9254, -4.8112, -3.2321, -3.8909, -4.9889, -4.6286, -4.8449, -3.1641, -5.5963, -4.5017, -5.1934, -5.5222, -5.3757, -5.5196, -5.316, -5.2157, -5.5378, -5.5437, -4.2712, -4.2712, -4.2712, -4.2712, -4.5733, -4.665, -4.7999, -4.6541, -4.6154, -4.9642, -4.9642, -4.9642, -4.9642, -4.9642, -4.9642, -4.9642, -4.9642, -4.9634, -5.1474, -5.2375, -4.9641, -5.3687, -5.4698, -5.3793, -5.4302, -5.4368, -5.8369, -5.4012, -5.9339, -5.9245, -4.2152, -4.6026, -5.4178, -5.0682, -5.1937, -4.6183, -5.0071, -4.8019, -4.7095, -5.2969, -5.2667, -4.8689, -4.9958, -5.036, -5.081], \"loglift\": [30.0, 29.0, 28.0, 27.0, 26.0, 25.0, 24.0, 23.0, 22.0, 21.0, 20.0, 19.0, 18.0, 17.0, 16.0, 15.0, 14.0, 13.0, 12.0, 11.0, 10.0, 9.0, 8.0, 7.0, 6.0, 5.0, 4.0, 3.0, 2.0, 1.0, 1.4113, 1.4113, 1.4113, 1.4112, 1.4112, 1.4112, 1.4111, 1.4111, 1.411, 1.4106, 1.4105, 1.4104, 1.4103, 1.4103, 1.4103, 1.4102, 1.4102, 1.4101, 1.4101, 1.4099, 1.409, 1.4089, 1.4084, 1.4083, 1.4081, 1.408, 1.408, 1.4078, 1.4076, 1.4074, 1.4039, 1.4037, 1.4039, 1.4069, 1.3953, 1.3896, 1.3858, 1.2165, 1.3786, 1.2965, 1.3359, 0.4405, 1.3201, 1.1971, 0.6822, 0.1642, 0.8129, 0.429, 0.042, -0.171, 0.0062, 1.5016, 1.5016, 1.5005, 1.5004, 1.5003, 1.4995, 1.4995, 1.4993, 1.4991, 1.4991, 1.499, 1.4987, 1.4981, 1.4979, 1.4978, 1.4978, 1.4975, 1.4972, 1.497, 1.4968, 1.4961, 1.4957, 1.4953, 1.4951, 1.495, 1.4947, 1.4926, 1.4925, 1.4922, 1.4913, 1.483, 1.4903, 1.4789, 1.4756, 1.4452, 1.4612, 1.4767, 1.4577, 1.4779, 1.472, 1.3812, 1.3015, 1.2579, 1.1682, 1.3464, 1.039, 0.4613, 0.7132, 0.4811, 0.5664, 0.7622, -0.1546, 0.2699, -0.2274, 0.5408, -0.086, 0.7716, 1.5182, 1.5172, 1.5168, 1.5166, 1.5164, 1.5162, 1.5158, 1.5157, 1.5156, 1.5149, 1.5142, 1.5141, 1.5139, 1.5136, 1.5134, 1.5133, 1.5133, 1.5127, 1.5127, 1.5127, 1.5126, 1.5126, 1.5125, 1.5125, 1.5124, 1.5111, 1.511, 1.5108, 1.5108, 1.5108, 1.5046, 1.5085, 1.502, 1.5047, 1.4874, 1.5037, 1.5078, 1.4927, 1.5097, 1.4963, 1.4742, 1.482, 1.4586, 1.4855, 1.4978, 1.3395, 1.3831, 1.332, 1.2407, 1.3895, 1.2426, 1.0433, 1.3455, 1.06, 1.1627, 0.8407, 1.3561, 0.5414, 1.053, 0.9018, 0.6317, 1.2197, 0.8902, -0.232, -0.7724, 0.7958, 0.804, 0.6535, 0.9496, 0.9959, 0.8645, 0.7315, 0.9583, 1.5479, 1.5475, 1.547, 1.547, 1.5466, 1.5464, 1.5461, 1.5459, 1.5457, 1.5454, 1.5452, 1.5452, 1.5449, 1.5448, 1.5446, 1.5443, 1.5441, 1.544, 1.544, 1.5438, 1.5432, 1.5432, 1.5429, 1.5429, 1.5427, 1.5425, 1.5421, 1.542, 1.5419, 1.5418, 1.5382, 1.5305, 1.537, 1.5403, 1.5409, 1.5376, 1.5418, 1.5233, 1.5067, 1.4611, 1.4583, 1.5171, 1.5276, 1.4718, 1.41, 0.7772, 1.0645, 0.4573, 0.6608, 1.0581, 0.7795, 0.8853, -0.2415, 1.1999, 0.3307, 0.7676, 1.1308, 0.7965, 0.9872, 0.3505, -0.088, 0.9235, -0.9159, 2.2779, 2.2779, 2.2779, 2.2779, 2.2776, 2.2775, 2.2774, 2.2772, 2.2769, 2.2768, 2.2768, 2.2768, 2.2768, 2.2768, 2.2768, 2.2768, 2.2768, 2.2767, 2.2766, 2.2763, 2.2759, 2.2756, 2.2755, 2.2754, 2.2752, 2.2744, 2.274, 2.2736, 2.2733, 2.2732, 2.2649, 2.2673, 2.2728, 2.2683, 2.2669, 2.2253, 2.2411, 2.2128, 2.1882, 2.2622, 2.2512, 2.0828, 2.0521, 1.1676, 1.4163]}, \"token.table\": {\"Topic\": [3, 4, 5, 1, 2, 3, 1, 1, 2, 3, 4, 5, 1, 5, 1, 2, 4, 1, 2, 3, 4, 5, 5, 1, 4, 1, 2, 3, 4, 5, 1, 2, 3, 4, 5, 1, 4, 4, 1, 2, 1, 1, 2, 4, 5, 1, 3, 1, 2, 4, 2, 3, 1, 2, 3, 4, 5, 2, 1, 2, 3, 4, 5, 1, 2, 3, 4, 5, 3, 1, 2, 3, 4, 3, 3, 4, 5, 5, 1, 2, 1, 2, 3, 4, 4, 1, 1, 2, 3, 4, 5, 1, 2, 3, 4, 5, 1, 2, 3, 4, 5, 5, 1, 2, 3, 4, 5, 3, 4, 2, 3, 2, 3, 1, 2, 3, 4, 5, 1, 1, 2, 3, 4, 5, 1, 4, 5, 1, 2, 4, 5, 4, 2, 5, 3, 5, 1, 5, 1, 2, 3, 4, 5, 1, 2, 3, 4, 1, 2, 3, 4, 1, 2, 3, 4, 5, 1, 2, 3, 5, 1, 4, 3, 1, 3, 5, 1, 2, 3, 4, 1, 2, 3, 4, 2, 3, 1, 1, 4, 1, 4, 5, 1, 1, 2, 3, 4, 5, 4, 1, 2, 3, 4, 1, 4, 5, 4, 1, 2, 3, 4, 5, 1, 2, 3, 4, 5, 1, 2, 4, 5, 2, 2, 3, 5, 2, 3, 2, 1, 2, 3, 4, 1, 2, 3, 4, 5, 1, 2, 3, 4, 5, 1, 2, 3, 4, 1, 2, 3, 4, 2, 1, 2, 3, 5, 1, 2, 3, 4, 5, 1, 2, 3, 4, 4, 5, 2, 1, 1, 2, 3, 4, 4, 2, 3, 1, 3, 4, 3, 4, 1, 2, 3, 4, 5, 1, 2, 3, 4, 3, 4, 1, 2, 3, 4, 5, 4, 5, 1, 3, 5, 1, 2, 3, 3, 1, 2, 2, 3, 4, 5, 1, 2, 1, 2, 4, 5, 2, 3, 5, 3, 5, 3, 1, 2, 4, 5, 1, 1, 3, 5, 3, 3, 1, 2, 3, 4, 5, 2, 4, 1, 2, 1, 2, 3, 4, 5, 1, 2, 3, 4, 5, 4, 1, 2, 3, 4, 1, 2, 3, 4, 5, 3, 1, 2, 4, 5, 1, 2, 1, 5, 1, 2, 3, 4, 2, 1, 2, 3, 4, 5, 1, 2, 3, 4, 5, 3, 1, 4, 5, 1, 2, 3, 4, 5, 1, 3, 4, 5, 1, 2, 4, 1, 3, 4, 2, 2, 5, 3, 3, 1, 2, 3, 4, 5, 1, 2, 3, 4, 1, 2, 1, 2, 3, 4, 1, 4, 5, 1, 2, 1, 2, 3, 4, 2, 4, 2, 4, 1, 1, 2, 4, 3, 1, 2, 3, 4, 5, 1, 2, 3, 4, 5, 1, 2, 3, 4, 5, 1, 2, 3, 4, 5, 1, 2, 3, 4, 1, 1, 2, 3, 4, 5, 1, 4, 5, 1, 2, 3, 4, 2, 5, 1, 2, 3, 4, 5, 1, 2, 3, 4, 5, 1, 2, 3, 4, 5, 3, 5, 2, 3, 1, 2, 3, 5, 1, 2, 3, 4, 5, 5, 5, 1, 5, 1, 3, 5, 1, 5, 5, 3, 1, 3, 4, 2, 3, 4, 1, 2, 3, 4, 5, 4, 3, 2, 1, 2, 4, 3, 4, 1, 2, 4, 2, 4, 1, 4, 2, 4, 5, 1, 1, 3, 5, 4, 4, 2, 3, 5, 1, 2, 3, 4, 5, 5, 1, 2, 4, 4, 4, 1, 3, 2, 3, 1, 4, 4, 3, 4, 1, 2, 3, 4, 1, 2, 3, 4, 5, 1, 2, 3, 3, 5, 5, 3, 5, 5, 5, 1, 2, 3, 4, 5, 1, 2, 4, 3, 3, 4, 1, 2, 4, 2, 3, 4, 3, 5, 5, 1, 2, 3, 4, 5, 2, 1, 4, 5, 3, 5, 3, 4, 5, 5, 1, 2, 3, 4, 5, 1, 4, 5, 1, 2, 3, 4, 5, 1, 2, 4, 1, 1, 2, 4], \"Freq\": [0.0029020898205186366, 0.9983188982584109, 0.9979810708107276, 0.003533946210729124, 0.007067892421458248, 0.9859709927934255, 0.9988582173187114, 0.1188741371739893, 0.03859549908246406, 0.5393077738456311, 0.30155949949765254, 0.0010292133088657084, 0.0863771101030825, 0.9131294496611578, 0.0013134667801922592, 0.9975780195560209, 0.0006567333900961296, 0.011441622926458003, 0.026697120161735338, 0.7002273230992297, 0.2608690027232425, 0.0007627748617638668, 0.9965763709442897, 0.07348101437210214, 0.9258607810884869, 0.034541351861135466, 0.017810384553397975, 0.8354689481412142, 0.09768726073227375, 0.014032424193586284, 0.20543053314354903, 0.005401624536231363, 0.3760881083351087, 0.411536269354127, 0.001688007667572301, 0.028966202321094654, 0.9679539275632463, 0.9969775318795291, 0.9963273733000019, 0.003381201493099554, 0.9964902074172118, 0.9957533905555531, 0.0022376480686641643, 0.9937263163514748, 0.9964493605018515, 0.003136885364209358, 0.9975295458185758, 0.9666383428758435, 0.03211931202593784, 0.9944812366620194, 0.994025089590741, 0.9877519732171586, 0.018049309762799337, 0.27863621946321476, 0.570809421248529, 0.13085749578029518, 0.0011280818601749586, 0.9982959915624255, 0.07533073610644125, 0.0026744640037789794, 0.007577648010707109, 0.9137752012911513, 0.00044574400062982994, 0.3177177455334193, 0.0559502948109166, 0.48490255502794394, 0.1398757370272915, 0.0013321498764503955, 0.9917100656246152, 0.10107360016897866, 0.13409366078195176, 0.6318106719726196, 0.13288560978391617, 0.9966889502985637, 0.9744154371858569, 0.008572569828614577, 0.017145139657229153, 0.9964493605018515, 0.9773627755643565, 0.02107520809842278, 0.0050082414444597816, 0.010016482888919563, 0.9766070816696574, 0.0050082414444597816, 0.9969201001466015, 0.995559375712913, 0.0013288231736387388, 0.9964512773323493, 0.0009966173802290542, 0.0003322057934096847, 0.0008305144835242117, 0.11294195281313141, 0.20480140776781164, 0.0670122253357913, 0.6121453842471722, 0.003011785408350171, 0.07341493951985417, 0.015611222771463245, 0.7569333419460827, 0.15358067807601677, 0.0008438498795385538, 0.9989815464922838, 0.045531558481102304, 0.05624486635900873, 0.7418965705450199, 0.14998631029068996, 0.006695817423691516, 0.005166296315081084, 0.9919288924955681, 0.0059335896912747176, 0.9909094784428778, 0.8854157886233908, 0.11415738155207239, 0.0039205625634166266, 0.005880843845124941, 0.8782060142053244, 0.10977575177566555, 0.0019602812817083133, 0.9994949072343418, 0.254186728193648, 0.20413451530609572, 0.07890584149331777, 0.4624431904434245, 0.0003925663755886456, 0.022218404759239006, 0.9753879689305924, 0.0022218404759239006, 0.0027338216451337593, 0.0027338216451337593, 0.0027338216451337593, 0.9896434355384209, 0.9980566540388323, 0.9881174695452742, 0.9989815464922838, 0.002482571597791557, 0.9955112107144144, 0.9968418422920382, 0.9979554792121121, 0.004178414734997326, 0.004178414734997326, 0.5922902886858711, 0.39799400350849534, 0.0010446036837493315, 0.06205114321786393, 0.16831372597845592, 0.7585752258383865, 0.010858950063126187, 0.036461940547674425, 0.060390089032085766, 0.36803771240308875, 0.5355347517939681, 0.28714369894652975, 0.1906451711794408, 0.17354055769044424, 0.3357493089444283, 0.012828460116747419, 0.20928954931248617, 0.7831032805400973, 0.006237105774213164, 0.0020790352580710545, 0.998520898861319, 0.0008963383293189577, 0.9904588269136633, 0.03963533312228997, 0.023781199873373984, 0.9353938616860433, 0.00445386705415225, 0.0089077341083045, 0.9753968848593426, 0.0089077341083045, 0.012124667168577937, 0.9806347187551568, 0.001254275913990821, 0.006271379569954105, 0.9934714571166688, 0.0053993013973732, 0.9934553852381784, 0.9940014720013183, 0.9978673944640353, 0.015809539568081028, 0.9819480687285883, 0.0017566155075645587, 0.9976606323797997, 0.0015457175848733818, 0.8547818244349801, 0.004637152754620145, 0.007728587924366909, 0.13138599471423745, 0.9990447446461982, 0.07956477240397701, 0.008160489477330975, 0.04284256975598762, 0.8711322517050816, 0.999411503633797, 0.001753460055425161, 0.9977187715369167, 0.9975476005115356, 0.0657007952879555, 0.0038647526639973818, 0.013702304899627081, 0.916297722518652, 0.0003513411512724893, 0.48206476044435376, 0.45410669876656173, 0.007413122414566073, 0.04278430650692419, 0.013555423843777961, 0.003629882572871243, 0.9691786469566219, 0.003629882572871243, 0.02177929543722746, 0.9985729305339998, 0.006458756602618333, 0.9881897602006049, 0.0032293783013091666, 0.9944349433654793, 0.991403665640453, 0.9978215983345914, 0.004678738295118494, 0.03509053721338871, 0.9568019813517321, 0.002339369147559247, 0.20957987884596826, 0.2624151424205821, 0.03170115814476831, 0.1673116679862772, 0.32933980961509296, 0.04300304721505197, 0.0015927054524093323, 0.22775687969453454, 0.7055685154173342, 0.022297876333730652, 0.9125603403323495, 0.060426292805790704, 0.002466379298195539, 0.02466379298195539, 0.00679163828387124, 0.02207282442258153, 0.840465237629066, 0.13073903696452138, 0.9918080446817334, 0.9831816527668938, 0.015643303942194015, 0.9963036906318106, 0.00206702010504525, 0.14941647038649825, 0.6288998329827186, 0.038409318658676105, 0.173897135026094, 0.009285769346053564, 0.016686952568950135, 0.976186725283583, 0.004171738142237534, 0.002085869071118767, 0.9970556952570817, 0.996871322592522, 0.9984934329786072, 0.9988228663790448, 0.010672856406264619, 0.9730087423711243, 0.008894047005220515, 0.007115237604176412, 0.9903679169227424, 0.995547542888915, 0.004509841643890895, 0.0037930898778304935, 0.00568963481674574, 0.9899964581137588, 0.0024764022816258285, 0.9979901194952089, 0.008267905867856647, 0.5338704931816006, 0.034252752881120396, 0.0011811294096938066, 0.421663199260689, 0.00515231597466392, 0.02289918210961742, 0.013167029713030017, 0.9589032508402295, 0.994377096619864, 0.9909369420282167, 0.04735328789558341, 0.36006711603680147, 0.507408692604213, 0.08505379018168249, 0.00018212803036762848, 0.9894644449369495, 0.004457047049265538, 0.016002837744592793, 0.9821741665743827, 0.9957374002824498, 0.9994530010845675, 0.9947506984854392, 0.9993969610248442, 0.9950965693609193, 0.9916419763995478, 0.0076280152030734445, 0.9737798983362135, 0.004261618811099403, 0.01704647524439761, 0.004261618811099403, 0.006086649258963989, 0.9921238292111302, 0.003920189519197345, 0.003920189519197345, 0.9878877588377308, 0.9961771288861258, 0.989847535363655, 0.9938999552234467, 0.9964493605018515, 0.9946593235818012, 0.004460355711129154, 0.9949661608228454, 0.02294253962052029, 0.003277505660074327, 0.003277505660074327, 0.9734191810420751, 0.9990635686564225, 0.0012575637203650445, 0.9972480302494803, 0.9989815464922838, 0.9948068559747018, 0.9967204358501222, 0.24840717101109683, 0.7156306901542256, 0.016742176102628785, 0.012848646776436042, 0.006229646921908385, 0.9985119142702554, 0.0015950669557032835, 0.9922495636893666, 0.007721786487854993, 0.0010355090018666472, 0.9977129232985147, 0.0005177545009333236, 0.0005177545009333236, 0.0005177545009333236, 0.23263025682851157, 0.06457037546951082, 0.5192165808301761, 0.13356337939583746, 0.049533438716337065, 0.9968872214100313, 0.3673477915607282, 0.02995161849655818, 0.4545598571830594, 0.14799623257122865, 0.0011631757124103428, 0.9965092496178323, 0.0009970077534945795, 0.0003323359178315265, 0.0008308397945788163, 0.9974349732093856, 0.03722450375833709, 0.9594615843711384, 0.0018612251879168544, 0.0009306125939584272, 0.9274116124854452, 0.07214658937298371, 0.9988586103793466, 0.9964493605018515, 0.033390674285149066, 0.007155144489674799, 0.3887628506056641, 0.570026511010759, 0.9899899468489766, 0.2367566750105058, 0.48144932795432466, 0.1329276303829935, 0.1481382547551768, 0.0013226629888855072, 0.15804639927724687, 0.004813595917073509, 0.6273720011919139, 0.2085891564065187, 0.0008022659861789181, 0.992631982109597, 0.009287917957677848, 0.004643958978838924, 0.9856802932585617, 0.003602222177995269, 0.8177044344049261, 0.09509866549907511, 0.07996933235149498, 0.003602222177995269, 0.002126227945640131, 0.002126227945640131, 0.9950746785595812, 0.002126227945640131, 0.8904396109418771, 0.10656584526807274, 0.002049343178232168, 0.017552715511948095, 0.0035105431023896194, 0.9794415255667038, 0.9922727277129992, 0.9867165557538027, 0.9964493605018515, 0.9973760827669442, 0.9976594580714483, 0.15457853710872824, 0.11593390283154618, 0.06348761345537053, 0.6583389482219943, 0.006900827549496796, 0.007382146973148636, 0.007382146973148636, 0.985516620915343, 0.9967285739657912, 0.9747537071893116, 0.024866165999727338, 0.245089827482315, 0.2914060153529887, 0.41177985778770837, 0.0516232510641884, 0.9947912207187389, 0.989690636516609, 0.008758324216961143, 0.9982421095616973, 0.9903212389108476, 0.10085102428575769, 0.015595519219447067, 0.8723093750077393, 0.00935731153166824, 0.0038370271692640366, 0.9957085504240175, 0.9972466100894456, 0.9899989661599432, 0.9993818892750429, 0.0004857837157999746, 0.0004857837157999746, 0.9987713196847479, 0.9946850739221795, 0.17765760283006843, 0.15778538774840528, 0.19951703941989787, 0.46342005570438427, 0.0015897772065330508, 0.033265124598240395, 0.9443048774249433, 0.014013818447769357, 0.008351669579983758, 0.00014155372169463997, 0.5495428153604087, 0.3823292226316968, 0.00576598595616248, 0.054998635274165195, 0.007540135481135551, 0.05265330191337503, 0.010969437898619797, 0.4206779434120692, 0.5150151093401995, 0.0005484718949309898, 0.0011246211510769876, 0.0033738634532309627, 0.9682988110772863, 0.0269909076258477, 0.9994329631088266, 0.11985799647731284, 0.09895967914280701, 0.5329070920298986, 0.2464772132687305, 0.0018439691765740438, 0.9984075550681635, 0.0038957123181782697, 0.9934066411354588, 0.0009182014000202261, 0.006427409800141583, 0.9916575120218443, 0.0018364028000404523, 0.9958824291139494, 0.9958568090569362, 0.3785270464237361, 0.3529741538180064, 0.10111928356282911, 0.16692129198276504, 0.0004633944254925065, 0.37414914889189627, 0.3921659618401417, 0.003303082373844991, 0.1945815798410504, 0.03573334568068672, 0.30538382914146117, 0.4768186137495155, 0.04748193742788676, 0.16543706619611073, 0.004998098676619659, 0.003976582744766933, 0.9941456861917334, 0.9843911441313031, 0.9875198693588936, 0.09600663579148896, 0.052003594387056526, 0.8500587544038086, 0.00200013824565602, 0.03298840676039232, 0.31085229447292767, 0.007612709252398229, 0.6159950570065567, 0.03298840676039232, 0.9963305842341383, 0.9926355206563757, 0.03504224709455365, 0.9636617951002252, 0.0030952131936058196, 0.00928563958081746, 0.9873730087602565, 0.9987992531118917, 0.9964493605018515, 0.9964493605018515, 0.9902351294572623, 0.03386143471970013, 0.9413478852076635, 0.025396076039775096, 0.006839263027466047, 0.9916931389825768, 0.9961078324114055, 0.10517205428045323, 0.01618031604314665, 0.8292411972112659, 0.04854094812943995, 0.0010112697526966656, 0.9924435409692631, 0.9982285432970093, 0.9928449429248234, 0.9982077530725109, 0.0006804415494700142, 0.0006804415494700142, 0.0016800954991362512, 0.9979767264869333, 0.04232457203761842, 0.955829918516216, 0.0008817619174503838, 0.9759981330516226, 0.02317673666877204, 0.9996231665604308, 0.9943726070251283, 0.004754318393132702, 0.9936525441647347, 0.004754318393132702, 0.9954143704680319, 0.00857284461687597, 0.003429137846750388, 0.9875916998641118, 0.9937810807678351, 0.9970965445079485, 0.9957247260428582, 0.9849627869077364, 0.012600803244022215, 0.8224791161576813, 0.17734021759211763, 0.00012163252235399014, 0.00012163252235399014, 0.00012163252235399014, 0.9989815464922838, 0.8070703014316003, 0.17485087640407138, 0.01722668733045038, 0.9938976414467271, 0.9981603343337598, 0.9994310157639325, 0.994505583167141, 0.003102886049544284, 0.9960264219037152, 0.9953024209686259, 0.004095894736496403, 0.9927306379442573, 0.992910479950633, 0.9962699441798856, 0.002946946267771823, 0.005893892535543646, 0.9636514295613863, 0.023575570142174585, 0.0011631757124103428, 0.9965092496178323, 0.0009970077534945795, 0.0003323359178315265, 0.0008308397945788163, 0.9979023504082847, 0.0006062590221192495, 0.0006062590221192495, 0.1767504208541839, 0.8223545896584136, 0.995621160531044, 0.0018231415468002567, 0.9972584260997404, 0.9973393536375478, 0.9964493605018515, 0.07159411776570336, 0.254763483997438, 0.5653145922278915, 0.10320710483107888, 0.005578762423301561, 0.0038277719655318058, 0.9913929390727376, 0.0038277719655318058, 0.9918795162795475, 0.9666145217550891, 0.03295276778710531, 0.998456093237082, 0.001012632954601503, 0.001012632954601503, 0.9874201365753935, 0.003047593014121585, 0.009142779042364754, 0.9939772659864564, 0.00451807848175662, 0.9975560880385703, 0.0665593771573504, 0.3976496122477601, 0.06058609972015229, 0.47103559219047975, 0.003413301392684636, 0.9883821613336323, 0.005010116753283052, 0.04676108969730848, 0.9469120663704967, 0.003834462987503313, 0.993125913763358, 0.010246525918878433, 0.006831017279252289, 0.9836664882123296, 0.9962431076659619, 0.020036973780486706, 0.03178278599663408, 0.48917853229602026, 0.45808667642974776, 0.0013818602607232212, 0.19869723931421435, 0.00409685029513844, 0.7968373824044266, 0.044253037372866594, 0.033972028690281424, 0.6213305247301472, 0.29591424990745135, 0.0044700037750370295, 0.9913714940736693, 0.007685050341656351, 0.9979462696120719, 0.9985015576933229, 0.9967672729925193, 0.0013673076447085313, 0.0013673076447085313], \"Term\": [\"abis\", \"abis\", \"advertisement\", \"agama\", \"agama\", \"agama\", \"agustus\", \"ahy\", \"ahy\", \"ahy\", \"ahy\", \"ahy\", \"ai\", \"ai\", \"airlangga\", \"airlangga\", \"airlangga\", \"aja\", \"aja\", \"aja\", \"aja\", \"aja\", \"amazon\", \"amerika\", \"amerika\", \"amp\", \"amp\", \"amp\", \"amp\", \"amp\", \"anies\", \"anies\", \"anies\", \"anies\", \"anies\", \"aniescak\", \"aniescak\", \"antek\", \"apel\", \"apel\", \"asean\", \"aseanke\", \"aseanke\", \"asing\", \"authority\", \"bagi\", \"bagi\", \"bahas\", \"bahas\", \"bangkit\", \"baru\", \"baswedanmuhaimin\", \"bikin\", \"bikin\", \"bikin\", \"bikin\", \"bikin\", \"bola\", \"cak\", \"cak\", \"cak\", \"cak\", \"cak\", \"capres\", \"capres\", \"capres\", \"capres\", \"capres\", \"case\", \"cawapres\", \"cawapres\", \"cawapres\", \"cawapres\", \"china\", \"choose\", \"choose\", \"choose\", \"credit\", \"csfa\", \"csfa\", \"daftar\", \"daftar\", \"daftar\", \"daftar\", \"dagang\", \"damai\", \"dekade\", \"dekade\", \"dekade\", \"dekade\", \"dekade\", \"deklarasi\", \"deklarasi\", \"deklarasi\", \"deklarasi\", \"deklarasi\", \"demokrat\", \"demokrat\", \"demokrat\", \"demokrat\", \"demokrat\", \"deposits\", \"dgn\", \"dgn\", \"dgn\", \"dgn\", \"dgn\", \"diskusi\", \"diskusi\", \"diumumin\", \"diumumin\", \"dpp\", \"dpp\", \"dr\", \"dr\", \"dr\", \"dr\", \"dr\", \"drs\", \"dukung\", \"dukung\", \"dukung\", \"dukung\", \"dukung\", \"dur\", \"dur\", \"dur\", \"ekonomi\", \"ekonomi\", \"ekonomi\", \"ekonomi\", \"emas\", \"energi\", \"exceed\", \"fee\", \"fee\", \"fisika\", \"free\", \"ga\", \"ga\", \"ga\", \"ga\", \"ga\", \"gabung\", \"gabung\", \"gabung\", \"gabung\", \"gak\", \"gak\", \"gak\", \"gak\", \"ganjar\", \"ganjar\", \"ganjar\", \"ganjar\", \"ganjar\", \"gaspol\", \"gaspol\", \"gaspol\", \"gaspol\", \"gelar\", \"gelar\", \"gerung\", \"get\", \"get\", \"get\", \"gimana\", \"gimana\", \"gimana\", \"gimana\", \"golkar\", \"golkar\", \"golkar\", \"golkar\", \"gosip\", \"gosip\", \"green\", \"grup\", \"guru\", \"gus\", \"gus\", \"gus\", \"hadap\", \"hadir\", \"hadir\", \"hadir\", \"hadir\", \"hadir\", \"hasan\", \"hati\", \"hati\", \"hati\", \"hati\", \"head\", \"high\", \"high\", \"hindar\", \"imin\", \"imin\", \"imin\", \"imin\", \"imin\", \"indonesia\", \"indonesia\", \"indonesia\", \"indonesia\", \"indonesia\", \"insitutute\", \"insitutute\", \"insitutute\", \"insitutute\", \"institute\", \"iskandar\", \"iskandar\", \"iskandar\", \"istimewa\", \"izin\", \"ja\", \"jabat\", \"jabat\", \"jabat\", \"jabat\", \"jateng\", \"jateng\", \"jateng\", \"jateng\", \"jateng\", \"jatim\", \"jatim\", \"jatim\", \"jatim\", \"jatim\", \"jawa\", \"jawa\", \"jawa\", \"jawa\", \"jd\", \"jd\", \"jd\", \"jd\", \"jempol\", \"jenderal\", \"jenderal\", \"jepang\", \"jepang\", \"jokowi\", \"jokowi\", \"jokowi\", \"jokowi\", \"jokowi\", \"jumat\", \"jumat\", \"jumat\", \"jumat\", \"kalang\", \"kalbar\", \"kantor\", \"kapolri\", \"kasih\", \"kasih\", \"kasih\", \"kasih\", \"kate\", \"kejut\", \"kejut\", \"keluarga\", \"keluarga\", \"keluarga\", \"keren\", \"keren\", \"kerja\", \"kerja\", \"kerja\", \"kerja\", \"kerja\", \"khianat\", \"khianat\", \"khianat\", \"khianat\", \"khusus\", \"kim\", \"koalisi\", \"koalisi\", \"koalisi\", \"koalisi\", \"koalisi\", \"kompak\", \"kompak\", \"kompas\", \"kompas\", \"kota\", \"ktt\", \"kuda\", \"kunjung\", \"laju\", \"laksamana\", \"laksamana\", \"lanjut\", \"lanjut\", \"lanjut\", \"lanjut\", \"lapang\", \"lapang\", \"lari\", \"lari\", \"lari\", \"latest\", \"lengkap\", \"level\", \"leveraged\", \"like\", \"like\", \"link\", \"linyi\", \"linyi\", \"linyi\", \"linyi\", \"listyo\", \"live\", \"live\", \"losses\", \"luas\", \"mahasiswa\", \"maju\", \"maju\", \"maju\", \"maju\", \"maju\", \"mampir\", \"mampir\", \"margono\", \"margono\", \"markas\", \"markas\", \"markas\", \"markas\", \"markas\", \"mas\", \"mas\", \"mas\", \"mas\", \"mas\", \"materi\", \"menang\", \"menang\", \"menang\", \"menang\", \"mendingprabowo\", \"mendingprabowo\", \"mendingprabowo\", \"mendingprabowo\", \"mendingprabowo\", \"milenial\", \"miskin\", \"miskin\", \"miskin\", \"miskin\", \"mm\", \"mm\", \"monas\", \"monetary\", \"muhaimin\", \"muhaimin\", \"muhaimin\", \"muhaimin\", \"muka\", \"nama\", \"nama\", \"nama\", \"nama\", \"nama\", \"nasdem\", \"nasdem\", \"nasdem\", \"nasdem\", \"nasdem\", \"nasi\", \"negeri\", \"negeri\", \"negeri\", \"nih\", \"nih\", \"nih\", \"nih\", \"nih\", \"nintendo\", \"nintendo\", \"nintendo\", \"nintendo\", \"nostalgia\", \"nostalgia\", \"nostalgia\", \"nu\", \"nu\", \"nu\", \"nuansa\", \"nyanyi\", \"oanda\", \"oleh\", \"online\", \"orang\", \"orang\", \"orang\", \"orang\", \"orang\", \"pake\", \"pake\", \"pake\", \"panggil\", \"panglima\", \"panglima\", \"partai\", \"partai\", \"partai\", \"partai\", \"party\", \"pasar\", \"pasar\", \"pasu\", \"pbb\", \"pdip\", \"pdip\", \"pdip\", \"pdip\", \"pepo\", \"pepo\", \"perhati\", \"perindo\", \"persen\", \"pidato\", \"pidato\", \"pidato\", \"pileg\", \"pilih\", \"pilih\", \"pilih\", \"pilih\", \"pilih\", \"pilpres\", \"pilpres\", \"pilpres\", \"pilpres\", \"pilpres\", \"pimpin\", \"pimpin\", \"pimpin\", \"pimpin\", \"pimpin\", \"pkb\", \"pkb\", \"pkb\", \"pkb\", \"pkb\", \"pks\", \"pks\", \"pks\", \"pks\", \"polisi\", \"politik\", \"politik\", \"politik\", \"politik\", \"politik\", \"polwan\", \"ponakan\", \"ponakan\", \"poros\", \"poros\", \"poros\", \"poros\", \"positif\", \"potential\", \"prabowo\", \"prabowo\", \"prabowo\", \"prabowo\", \"prabowo\", \"pranowo\", \"pranowo\", \"pranowo\", \"pranowo\", \"pranowo\", \"presiden\", \"presiden\", \"presiden\", \"presiden\", \"presiden\", \"prime\", \"prime\", \"prinsip\", \"puncak\", \"putus\", \"putus\", \"putus\", \"putus\", \"rakyat\", \"rakyat\", \"rakyat\", \"rakyat\", \"rakyat\", \"read\", \"reader\", \"ready\", \"ready\", \"report\", \"report\", \"report\", \"republik\", \"reviewed\", \"risk\", \"rocky\", \"sapa\", \"sapa\", \"sapa\", \"saran\", \"saran\", \"sarat\", \"sby\", \"sby\", \"sby\", \"sby\", \"sby\", \"sejarah\", \"sekjen\", \"sentuh\", \"september\", \"september\", \"september\", \"serius\", \"serius\", \"seru\", \"seru\", \"seru\", \"siapsiap\", \"siapsiap\", \"sigit\", \"signifikan\", \"simak\", \"simak\", \"simak\", \"simulasi\", \"singapore\", \"singapore\", \"singapore\", \"solid\", \"solo\", \"spesial\", \"stay\", \"stay\", \"subianto\", \"subianto\", \"subianto\", \"subianto\", \"subianto\", \"subscription\", \"sukses\", \"sukses\", \"sukses\", \"sun\", \"surabaya\", \"survei\", \"tabur\", \"tanggap\", \"tanggap\", \"tantang\", \"tantang\", \"tatap\", \"team\", \"tegang\", \"tentu\", \"tentu\", \"tentu\", \"tentu\", \"terusmajubersamaprabowo\", \"terusmajubersamaprabowo\", \"terusmajubersamaprabowo\", \"terusmajubersamaprabowo\", \"terusmajubersamaprabowo\", \"tni\", \"tni\", \"tni\", \"today\", \"today\", \"tool\", \"trade\", \"trade\", \"trading\", \"tradingview\", \"ubah\", \"ubah\", \"ubah\", \"ubah\", \"ubah\", \"umum\", \"umum\", \"umum\", \"umumin\", \"undang\", \"undang\", \"unggul\", \"unggul\", \"unggul\", \"ungkap\", \"ungkap\", \"ungkap\", \"us\", \"us\", \"using\", \"warga\", \"warga\", \"warga\", \"warga\", \"warga\", \"wawancara\", \"well\", \"well\", \"well\", \"work\", \"work\", \"writing\", \"writing\", \"writing\", \"xmen\", \"ya\", \"ya\", \"ya\", \"ya\", \"ya\", \"yati\", \"yati\", \"yati\", \"yg\", \"yg\", \"yg\", \"yg\", \"yg\", \"yudo\", \"yudo\", \"yusril\", \"zoro\", \"zulkifli\", \"zulkifli\", \"zulkifli\"]}, \"R\": 30, \"lambda.step\": 0.01, \"plot.opts\": {\"xlab\": \"PC1\", \"ylab\": \"PC2\"}, \"topic.order\": [2, 3, 1, 5, 4]};\n",
              "\n",
              "function LDAvis_load_lib(url, callback){\n",
              "  var s = document.createElement('script');\n",
              "  s.src = url;\n",
              "  s.async = true;\n",
              "  s.onreadystatechange = s.onload = callback;\n",
              "  s.onerror = function(){console.warn(\"failed to load library \" + url);};\n",
              "  document.getElementsByTagName(\"head\")[0].appendChild(s);\n",
              "}\n",
              "\n",
              "if(typeof(LDAvis) !== \"undefined\"){\n",
              "   // already loaded: just create the visualization\n",
              "   !function(LDAvis){\n",
              "       new LDAvis(\"#\" + \"ldavis_el15401383309151201602094705207\", ldavis_el15401383309151201602094705207_data);\n",
              "   }(LDAvis);\n",
              "}else if(typeof define === \"function\" && define.amd){\n",
              "   // require.js is available: use it to load d3/LDAvis\n",
              "   require.config({paths: {d3: \"https://d3js.org/d3.v5\"}});\n",
              "   require([\"d3\"], function(d3){\n",
              "      window.d3 = d3;\n",
              "      LDAvis_load_lib(\"https://cdn.jsdelivr.net/gh/bmabey/pyLDAvis/pyLDAvis/js/ldavis.v3.0.0.js\", function(){\n",
              "        new LDAvis(\"#\" + \"ldavis_el15401383309151201602094705207\", ldavis_el15401383309151201602094705207_data);\n",
              "      });\n",
              "    });\n",
              "}else{\n",
              "    // require.js not available: dynamically load d3 & LDAvis\n",
              "    LDAvis_load_lib(\"https://d3js.org/d3.v5.js\", function(){\n",
              "         LDAvis_load_lib(\"https://cdn.jsdelivr.net/gh/bmabey/pyLDAvis/pyLDAvis/js/ldavis.v3.0.0.js\", function(){\n",
              "                 new LDAvis(\"#\" + \"ldavis_el15401383309151201602094705207\", ldavis_el15401383309151201602094705207_data);\n",
              "            })\n",
              "         });\n",
              "}\n",
              "</script>"
            ]
          },
          "metadata": {},
          "execution_count": 45
        }
      ],
      "source": [
        "# proses ini mungkin agak lama\n",
        "LDAvis_prepared"
      ]
    },
    {
      "cell_type": "code",
      "execution_count": null,
      "metadata": {
        "id": "nU60Cn6HJgXn"
      },
      "outputs": [],
      "source": [
        "from gensim.test.utils import datapath"
      ]
    },
    {
      "cell_type": "code",
      "execution_count": null,
      "metadata": {
        "id": "Q7og9NDppLJz"
      },
      "outputs": [],
      "source": [
        "ldan.save(\"/content/model/lda_mutlticore\")"
      ]
    },
    {
      "cell_type": "code",
      "execution_count": null,
      "metadata": {
        "colab": {
          "base_uri": "https://localhost:8080/"
        },
        "id": "rCAL8UqKp6_X",
        "outputId": "957d40b6-b818-4c8b-d436-3256c664c6b4"
      },
      "outputs": [
        {
          "output_type": "stream",
          "name": "stdout",
          "text": [
            "  adding: content/model/ (stored 0%)\n",
            "  adding: content/model/lda_mutlticore.expElogbeta.npy (deflated 23%)\n",
            "  adding: content/model/lda_mutlticore.id2word (deflated 48%)\n",
            "  adding: content/model/lda_mutlticore.state (deflated 31%)\n",
            "  adding: content/model/lda_mutlticore (deflated 96%)\n"
          ]
        }
      ],
      "source": [
        "!zip -r '/content/model_ldamulticore.zip' '/content/model' '/content/lda_topic_data_twit.json' '/content/json_fix_fe.json'"
      ]
    },
    {
      "cell_type": "code",
      "execution_count": null,
      "metadata": {
        "id": "3EZNjRibFL-6"
      },
      "outputs": [],
      "source": [
        "import shutil\n",
        "shutil.copy(\"/content/model_lda.zip\",\"/content/drive/My Drive/model_lda.zip\")"
      ]
    },
    {
      "cell_type": "code",
      "execution_count": null,
      "metadata": {
        "colab": {
          "base_uri": "https://localhost:8080/"
        },
        "id": "LrIvUEWpFZiE",
        "outputId": "12ae59a0-8a33-462c-d96f-3eeb90830991"
      },
      "outputs": [
        {
          "name": "stdout",
          "output_type": "stream",
          "text": [
            "  adding: content/model/ (stored 0%)\n",
            "  adding: content/model/lda_model1.id2word (deflated 47%)\n",
            "  adding: content/model/lda_model2.state (deflated 32%)\n",
            "  adding: content/model/lda_model2.expElogbeta.npy (deflated 27%)\n",
            "  adding: content/model/lda_model1 (deflated 28%)\n",
            "  adding: content/model/lda_model2 (deflated 96%)\n",
            "  adding: content/model/lda_model1.state (deflated 32%)\n",
            "  adding: content/model/lda_model1.expElogbeta.npy (deflated 27%)\n",
            "  adding: content/model/lda_model2.id2word (deflated 47%)\n",
            "  adding: content/doc_term_matrix.mm (deflated 73%)\n",
            "  adding: content/doc_term_matrix.mm.index (deflated 57%)\n",
            "  adding: content/lda_topic_data1.json (deflated 79%)\n",
            "  adding: content/lda_topic_sents_keywordsfix.json (deflated 86%)\n",
            "  adding: content/lda_v1.dict (deflated 47%)\n",
            "  adding: content/ldavis_prepared_5 (deflated 49%)\n",
            "  adding: content/ldavis_preparedcoba2_5.html (deflated 61%)\n",
            "  adding: content/lda_topic_sents_keywords4.json (deflated 90%)\n"
          ]
        }
      ],
      "source": [
        "!zip -r LDa_model1.zip '/content/model'  '/content/doc_term_matrix.mm' '/content/doc_term_matrix.mm.index' '/content/lda_topic_data1.json' '/content/lda_topic_sents_keywordsfix.json' '/content/lda_v1.dict' '/content/ldavis_prepared_5' '/content/ldavis_preparedcoba2_5.html' '/content/lda_topic_sents_keywords4.json'"
      ]
    },
    {
      "cell_type": "markdown",
      "metadata": {
        "id": "Qk-QfcIlaKfm"
      },
      "source": [
        "#Buat x dan Y\n"
      ]
    },
    {
      "cell_type": "code",
      "execution_count": 85,
      "metadata": {
        "id": "7SzPlcGyaL0B"
      },
      "outputs": [],
      "source": [
        " #dapatkan vector untuk x dan y\n",
        "hm = np.array([[y for (x,y) in ldan[doc_term_matrix[i]]] for i in range(len(doc_term_matrix))])"
      ]
    },
    {
      "cell_type": "code",
      "execution_count": 86,
      "metadata": {
        "colab": {
          "base_uri": "https://localhost:8080/"
        },
        "id": "GD8Buy4tftKN",
        "outputId": "e9e82aac-ffa9-4fe4-cb59-6c674abf8e22"
      },
      "outputs": [
        {
          "output_type": "stream",
          "name": "stdout",
          "text": [
            "[[0.3365588  0.21959741 0.01622919 0.01304862 0.414566  ]\n",
            " [0.8875546  0.03918074 0.02963844 0.02372514 0.0199011 ]\n",
            " [0.88753223 0.0391816  0.02965991 0.02372515 0.0199011 ]\n",
            " ...\n",
            " [0.23861766 0.03456697 0.6889038  0.02063522 0.01727634]\n",
            " [0.9703486  0.0105337  0.00770659 0.00621739 0.00519371]\n",
            " [0.8578403  0.01621277 0.01212072 0.10565128 0.00817495]]\n"
          ]
        }
      ],
      "source": [
        "arr = pd.DataFrame(hm).fillna(0).values\n",
        "print(arr)"
      ]
    },
    {
      "cell_type": "code",
      "execution_count": 87,
      "metadata": {
        "id": "ZiqJEmZvg4Rv"
      },
      "outputs": [],
      "source": [
        "topic_num = np.argmax(arr, axis=1)"
      ]
    },
    {
      "cell_type": "code",
      "execution_count": 88,
      "metadata": {
        "colab": {
          "base_uri": "https://localhost:8080/"
        },
        "id": "gdziFS9ngKts",
        "outputId": "9e2a4ad7-4269-4114-8e6b-f5635d16fce5"
      },
      "outputs": [
        {
          "output_type": "stream",
          "name": "stdout",
          "text": [
            "[t-SNE] Computing 91 nearest neighbors...\n",
            "[t-SNE] Indexed 45393 samples in 0.044s...\n",
            "[t-SNE] Computed neighbors for 45393 samples in 1.424s...\n",
            "[t-SNE] Computed conditional probabilities for sample 1000 / 45393\n",
            "[t-SNE] Computed conditional probabilities for sample 2000 / 45393\n",
            "[t-SNE] Computed conditional probabilities for sample 3000 / 45393\n",
            "[t-SNE] Computed conditional probabilities for sample 4000 / 45393\n",
            "[t-SNE] Computed conditional probabilities for sample 5000 / 45393\n",
            "[t-SNE] Computed conditional probabilities for sample 6000 / 45393\n",
            "[t-SNE] Computed conditional probabilities for sample 7000 / 45393\n",
            "[t-SNE] Computed conditional probabilities for sample 8000 / 45393\n",
            "[t-SNE] Computed conditional probabilities for sample 9000 / 45393\n",
            "[t-SNE] Computed conditional probabilities for sample 10000 / 45393\n",
            "[t-SNE] Computed conditional probabilities for sample 11000 / 45393\n",
            "[t-SNE] Computed conditional probabilities for sample 12000 / 45393\n",
            "[t-SNE] Computed conditional probabilities for sample 13000 / 45393\n",
            "[t-SNE] Computed conditional probabilities for sample 14000 / 45393\n",
            "[t-SNE] Computed conditional probabilities for sample 15000 / 45393\n",
            "[t-SNE] Computed conditional probabilities for sample 16000 / 45393\n",
            "[t-SNE] Computed conditional probabilities for sample 17000 / 45393\n",
            "[t-SNE] Computed conditional probabilities for sample 18000 / 45393\n",
            "[t-SNE] Computed conditional probabilities for sample 19000 / 45393\n",
            "[t-SNE] Computed conditional probabilities for sample 20000 / 45393\n",
            "[t-SNE] Computed conditional probabilities for sample 21000 / 45393\n",
            "[t-SNE] Computed conditional probabilities for sample 22000 / 45393\n",
            "[t-SNE] Computed conditional probabilities for sample 23000 / 45393\n",
            "[t-SNE] Computed conditional probabilities for sample 24000 / 45393\n",
            "[t-SNE] Computed conditional probabilities for sample 25000 / 45393\n",
            "[t-SNE] Computed conditional probabilities for sample 26000 / 45393\n",
            "[t-SNE] Computed conditional probabilities for sample 27000 / 45393\n",
            "[t-SNE] Computed conditional probabilities for sample 28000 / 45393\n",
            "[t-SNE] Computed conditional probabilities for sample 29000 / 45393\n",
            "[t-SNE] Computed conditional probabilities for sample 30000 / 45393\n",
            "[t-SNE] Computed conditional probabilities for sample 31000 / 45393\n",
            "[t-SNE] Computed conditional probabilities for sample 32000 / 45393\n",
            "[t-SNE] Computed conditional probabilities for sample 33000 / 45393\n",
            "[t-SNE] Computed conditional probabilities for sample 34000 / 45393\n",
            "[t-SNE] Computed conditional probabilities for sample 35000 / 45393\n",
            "[t-SNE] Computed conditional probabilities for sample 36000 / 45393\n",
            "[t-SNE] Computed conditional probabilities for sample 37000 / 45393\n",
            "[t-SNE] Computed conditional probabilities for sample 38000 / 45393\n",
            "[t-SNE] Computed conditional probabilities for sample 39000 / 45393\n",
            "[t-SNE] Computed conditional probabilities for sample 40000 / 45393\n",
            "[t-SNE] Computed conditional probabilities for sample 41000 / 45393\n",
            "[t-SNE] Computed conditional probabilities for sample 42000 / 45393\n",
            "[t-SNE] Computed conditional probabilities for sample 43000 / 45393\n",
            "[t-SNE] Computed conditional probabilities for sample 44000 / 45393\n",
            "[t-SNE] Computed conditional probabilities for sample 45000 / 45393\n",
            "[t-SNE] Computed conditional probabilities for sample 45393 / 45393\n",
            "[t-SNE] Mean sigma: 0.000000\n",
            "[t-SNE] KL divergence after 250 iterations with early exaggeration: 76.428741\n",
            "[t-SNE] KL divergence after 1000 iterations: 1.054892\n"
          ]
        }
      ],
      "source": [
        "from sklearn.manifold import TSNE\n",
        "# tSNE Dimension Reduction\n",
        "tsne_model = TSNE(n_components=2, verbose=1, random_state=21, angle=.99, init='pca')\n",
        "tsne_lda = tsne_model.fit_transform(arr)"
      ]
    },
    {
      "cell_type": "code",
      "execution_count": null,
      "metadata": {
        "colab": {
          "base_uri": "https://localhost:8080/"
        },
        "id": "ZxNNeP84vAVg",
        "outputId": "df869595-1f3e-4d51-e1a4-71499a38e0bb"
      },
      "outputs": [
        {
          "output_type": "stream",
          "name": "stdout",
          "text": [
            "               X          Y\n",
            "0      -8.687819 -57.062138\n",
            "1      72.988510 -10.524686\n",
            "2      73.000114 -10.509759\n",
            "3      73.015038 -10.493280\n",
            "4      38.284565  72.659348\n",
            "...          ...        ...\n",
            "45388 -39.411575 -29.261236\n",
            "45389  20.492243  42.112637\n",
            "45390 -31.101433 -59.292374\n",
            "45391 -15.715078  13.391023\n",
            "45392  49.562618  47.382351\n",
            "\n",
            "[45393 rows x 2 columns]\n"
          ]
        },
        {
          "output_type": "stream",
          "name": "stderr",
          "text": [
            "/usr/local/lib/python3.10/dist-packages/ipykernel/ipkernel.py:283: DeprecationWarning: `should_run_async` will not call `transform_cell` automatically in the future. Please pass the result to `transformed_cell` argument and any exception that happen during thetransform in `preprocessing_exc_tuple` in IPython 7.17 and above.\n",
            "  and should_run_async(code)\n"
          ]
        }
      ],
      "source": [
        "# Create a scatter plot\n",
        "x = tsne_lda[:, 0]\n",
        "y = tsne_lda[:, 1]\n",
        "coordinatess = pd.DataFrame({'X': x, 'Y': y})\n",
        "print(coordinatess)"
      ]
    },
    {
      "cell_type": "code",
      "execution_count": null,
      "metadata": {
        "id": "sJ6QFFLwTHsd",
        "colab": {
          "base_uri": "https://localhost:8080/"
        },
        "outputId": "79e36c9c-328e-40dd-d09d-c4bfc5784bc3"
      },
      "outputs": [
        {
          "output_type": "stream",
          "name": "stderr",
          "text": [
            "/usr/local/lib/python3.10/dist-packages/ipykernel/ipkernel.py:283: DeprecationWarning: `should_run_async` will not call `transform_cell` automatically in the future. Please pass the result to `transformed_cell` argument and any exception that happen during thetransform in `preprocessing_exc_tuple` in IPython 7.17 and above.\n",
            "  and should_run_async(code)\n"
          ]
        }
      ],
      "source": [
        "\n",
        "def perform_tsne(lda_model, doc_term_matrix):\n",
        "    # Create a matrix of topic contributions\n",
        "    hm = np.array([[y for (x,y) in lda_model[doc_term_matrix[i]]] for i in range(len(doc_term_matrix))])\n",
        "    # Convert to DataFrame and fill NaN values with 0\n",
        "    arr = pd.DataFrame(hm).fillna(0).values\n",
        "\n",
        "    # Perform t-SNE dimension reduction\n",
        "    tsne_model = TSNE(n_components=2, verbose=1, random_state=21, angle=.99, init='pca',  perplexity=5)\n",
        "    tsne_lda = tsne_model.fit_transform(arr)\n",
        "\n",
        "    #coordinates\n",
        "    x = tsne_lda[:, 0]\n",
        "    y = tsne_lda[:, 1]\n",
        "    coordinatess = pd.DataFrame({'X': x, 'Y': y})\n",
        "\n",
        "    return coordinatess"
      ]
    },
    {
      "cell_type": "code",
      "execution_count": null,
      "metadata": {
        "colab": {
          "base_uri": "https://localhost:8080/"
        },
        "id": "4ypvSzfbTRyL",
        "outputId": "90b381f2-44a1-49ee-94b4-da792f516e5e"
      },
      "outputs": [
        {
          "output_type": "stream",
          "name": "stderr",
          "text": [
            "/usr/local/lib/python3.10/dist-packages/ipykernel/ipkernel.py:283: DeprecationWarning: `should_run_async` will not call `transform_cell` automatically in the future. Please pass the result to `transformed_cell` argument and any exception that happen during thetransform in `preprocessing_exc_tuple` in IPython 7.17 and above.\n",
            "  and should_run_async(code)\n"
          ]
        },
        {
          "output_type": "stream",
          "name": "stdout",
          "text": [
            "[t-SNE] Computing 16 nearest neighbors...\n",
            "[t-SNE] Indexed 45393 samples in 0.033s...\n",
            "[t-SNE] Computed neighbors for 45393 samples in 0.466s...\n",
            "[t-SNE] Computed conditional probabilities for sample 1000 / 45393\n",
            "[t-SNE] Computed conditional probabilities for sample 2000 / 45393\n",
            "[t-SNE] Computed conditional probabilities for sample 3000 / 45393\n",
            "[t-SNE] Computed conditional probabilities for sample 4000 / 45393\n",
            "[t-SNE] Computed conditional probabilities for sample 5000 / 45393\n",
            "[t-SNE] Computed conditional probabilities for sample 6000 / 45393\n",
            "[t-SNE] Computed conditional probabilities for sample 7000 / 45393\n",
            "[t-SNE] Computed conditional probabilities for sample 8000 / 45393\n",
            "[t-SNE] Computed conditional probabilities for sample 9000 / 45393\n",
            "[t-SNE] Computed conditional probabilities for sample 10000 / 45393\n",
            "[t-SNE] Computed conditional probabilities for sample 11000 / 45393\n",
            "[t-SNE] Computed conditional probabilities for sample 12000 / 45393\n",
            "[t-SNE] Computed conditional probabilities for sample 13000 / 45393\n",
            "[t-SNE] Computed conditional probabilities for sample 14000 / 45393\n",
            "[t-SNE] Computed conditional probabilities for sample 15000 / 45393\n",
            "[t-SNE] Computed conditional probabilities for sample 16000 / 45393\n",
            "[t-SNE] Computed conditional probabilities for sample 17000 / 45393\n",
            "[t-SNE] Computed conditional probabilities for sample 18000 / 45393\n",
            "[t-SNE] Computed conditional probabilities for sample 19000 / 45393\n",
            "[t-SNE] Computed conditional probabilities for sample 20000 / 45393\n",
            "[t-SNE] Computed conditional probabilities for sample 21000 / 45393\n",
            "[t-SNE] Computed conditional probabilities for sample 22000 / 45393\n",
            "[t-SNE] Computed conditional probabilities for sample 23000 / 45393\n",
            "[t-SNE] Computed conditional probabilities for sample 24000 / 45393\n",
            "[t-SNE] Computed conditional probabilities for sample 25000 / 45393\n",
            "[t-SNE] Computed conditional probabilities for sample 26000 / 45393\n",
            "[t-SNE] Computed conditional probabilities for sample 27000 / 45393\n",
            "[t-SNE] Computed conditional probabilities for sample 28000 / 45393\n",
            "[t-SNE] Computed conditional probabilities for sample 29000 / 45393\n",
            "[t-SNE] Computed conditional probabilities for sample 30000 / 45393\n",
            "[t-SNE] Computed conditional probabilities for sample 31000 / 45393\n",
            "[t-SNE] Computed conditional probabilities for sample 32000 / 45393\n",
            "[t-SNE] Computed conditional probabilities for sample 33000 / 45393\n",
            "[t-SNE] Computed conditional probabilities for sample 34000 / 45393\n",
            "[t-SNE] Computed conditional probabilities for sample 35000 / 45393\n",
            "[t-SNE] Computed conditional probabilities for sample 36000 / 45393\n",
            "[t-SNE] Computed conditional probabilities for sample 37000 / 45393\n",
            "[t-SNE] Computed conditional probabilities for sample 38000 / 45393\n",
            "[t-SNE] Computed conditional probabilities for sample 39000 / 45393\n",
            "[t-SNE] Computed conditional probabilities for sample 40000 / 45393\n",
            "[t-SNE] Computed conditional probabilities for sample 41000 / 45393\n",
            "[t-SNE] Computed conditional probabilities for sample 42000 / 45393\n",
            "[t-SNE] Computed conditional probabilities for sample 43000 / 45393\n",
            "[t-SNE] Computed conditional probabilities for sample 44000 / 45393\n",
            "[t-SNE] Computed conditional probabilities for sample 45000 / 45393\n",
            "[t-SNE] Computed conditional probabilities for sample 45393 / 45393\n",
            "[t-SNE] Mean sigma: 0.000000\n",
            "[t-SNE] KL divergence after 250 iterations with early exaggeration: 98.599846\n",
            "[t-SNE] KL divergence after 1000 iterations: 1.935927\n"
          ]
        }
      ],
      "source": [
        "tsne_lda = perform_tsne(lda_model, doc_term_matrix)"
      ]
    },
    {
      "cell_type": "code",
      "execution_count": null,
      "metadata": {
        "colab": {
          "base_uri": "https://localhost:8080/"
        },
        "id": "JgS5olrmYxCl",
        "outputId": "1f44efbb-8942-4392-ca5f-980d3f3f2533"
      },
      "outputs": [
        {
          "output_type": "stream",
          "name": "stdout",
          "text": [
            "               X          Y\n",
            "0      -8.687819 -57.062138\n",
            "1      72.988510 -10.524686\n",
            "2      73.000114 -10.509759\n",
            "3      73.015038 -10.493280\n",
            "4      38.284565  72.659348\n",
            "...          ...        ...\n",
            "45388 -39.411575 -29.261236\n",
            "45389  20.492243  42.112637\n",
            "45390 -31.101433 -59.292374\n",
            "45391 -15.715078  13.391023\n",
            "45392  49.562618  47.382351\n",
            "\n",
            "[45393 rows x 2 columns]\n"
          ]
        },
        {
          "output_type": "stream",
          "name": "stderr",
          "text": [
            "/usr/local/lib/python3.10/dist-packages/ipykernel/ipkernel.py:283: DeprecationWarning: `should_run_async` will not call `transform_cell` automatically in the future. Please pass the result to `transformed_cell` argument and any exception that happen during thetransform in `preprocessing_exc_tuple` in IPython 7.17 and above.\n",
            "  and should_run_async(code)\n"
          ]
        }
      ],
      "source": [
        "print(coordinatess)"
      ]
    },
    {
      "cell_type": "code",
      "execution_count": null,
      "metadata": {
        "colab": {
          "base_uri": "https://localhost:8080/"
        },
        "id": "nLreOd5pji5q",
        "outputId": "ccf2e8f2-816c-4e03-f776-7331504836f9"
      },
      "outputs": [
        {
          "output_type": "stream",
          "name": "stderr",
          "text": [
            "/usr/local/lib/python3.10/dist-packages/ipykernel/ipkernel.py:283: DeprecationWarning: `should_run_async` will not call `transform_cell` automatically in the future. Please pass the result to `transformed_cell` argument and any exception that happen during thetransform in `preprocessing_exc_tuple` in IPython 7.17 and above.\n",
            "  and should_run_async(code)\n"
          ]
        }
      ],
      "source": [
        " # Visualization\n",
        "import matplotlib.pyplot as plt\n",
        "import matplotlib.patches as mpatches\n",
        "import matplotlib\n",
        "%matplotlib inline\n",
        "from sklearn.manifold import TSNE\n",
        "import seaborn as sns\n",
        "# Bokeh\n",
        "\n",
        "from bokeh.plotting import figure, show,output_notebook\n",
        "from bokeh.models import HoverTool, CustomJS, ColumnDataSource, Slider, Label\n",
        "from bokeh.layouts import column\n",
        "from bokeh.palettes import all_palettes\n",
        "from matplotlib import colors as mcolors\n",
        "output_notebook()"
      ]
    },
    {
      "cell_type": "code",
      "execution_count": null,
      "metadata": {
        "colab": {
          "base_uri": "https://localhost:8080/",
          "height": 497
        },
        "id": "DvMfGrH6gxQv",
        "outputId": "b4eb893e-d8b1-47d9-adac-115d11aca1f5"
      },
      "outputs": [
        {
          "output_type": "stream",
          "name": "stderr",
          "text": [
            "/usr/local/lib/python3.10/dist-packages/ipykernel/ipkernel.py:283: DeprecationWarning: `should_run_async` will not call `transform_cell` automatically in the future. Please pass the result to `transformed_cell` argument and any exception that happen during thetransform in `preprocessing_exc_tuple` in IPython 7.17 and above.\n",
            "  and should_run_async(code)\n"
          ]
        },
        {
          "output_type": "error",
          "ename": "InvalidIndexError",
          "evalue": "ignored",
          "traceback": [
            "\u001b[0;31m---------------------------------------------------------------------------\u001b[0m",
            "\u001b[0;31mTypeError\u001b[0m                                 Traceback (most recent call last)",
            "\u001b[0;32m/usr/local/lib/python3.10/dist-packages/pandas/core/indexes/base.py\u001b[0m in \u001b[0;36mget_loc\u001b[0;34m(self, key, method, tolerance)\u001b[0m\n\u001b[1;32m   3801\u001b[0m             \u001b[0;32mtry\u001b[0m\u001b[0;34m:\u001b[0m\u001b[0;34m\u001b[0m\u001b[0;34m\u001b[0m\u001b[0m\n\u001b[0;32m-> 3802\u001b[0;31m                 \u001b[0;32mreturn\u001b[0m \u001b[0mself\u001b[0m\u001b[0;34m.\u001b[0m\u001b[0m_engine\u001b[0m\u001b[0;34m.\u001b[0m\u001b[0mget_loc\u001b[0m\u001b[0;34m(\u001b[0m\u001b[0mcasted_key\u001b[0m\u001b[0;34m)\u001b[0m\u001b[0;34m\u001b[0m\u001b[0;34m\u001b[0m\u001b[0m\n\u001b[0m\u001b[1;32m   3803\u001b[0m             \u001b[0;32mexcept\u001b[0m \u001b[0mKeyError\u001b[0m \u001b[0;32mas\u001b[0m \u001b[0merr\u001b[0m\u001b[0;34m:\u001b[0m\u001b[0;34m\u001b[0m\u001b[0;34m\u001b[0m\u001b[0m\n",
            "\u001b[0;32m/usr/local/lib/python3.10/dist-packages/pandas/_libs/index.pyx\u001b[0m in \u001b[0;36mpandas._libs.index.IndexEngine.get_loc\u001b[0;34m()\u001b[0m\n",
            "\u001b[0;32m/usr/local/lib/python3.10/dist-packages/pandas/_libs/index.pyx\u001b[0m in \u001b[0;36mpandas._libs.index.IndexEngine.get_loc\u001b[0;34m()\u001b[0m\n",
            "\u001b[0;31mTypeError\u001b[0m: '(slice(None, None, None), 0)' is an invalid key",
            "\nDuring handling of the above exception, another exception occurred:\n",
            "\u001b[0;31mInvalidIndexError\u001b[0m                         Traceback (most recent call last)",
            "\u001b[0;32m<ipython-input-49-1a3d4317923e>\u001b[0m in \u001b[0;36m<cell line: 6>\u001b[0;34m()\u001b[0m\n\u001b[1;32m      4\u001b[0m plot = figure(title=\"t-SNE Clustering of {} LDA Topics\".format(n_topics),\n\u001b[1;32m      5\u001b[0m               min_width=900, min_height=700)\n\u001b[0;32m----> 6\u001b[0;31m \u001b[0mplot\u001b[0m\u001b[0;34m.\u001b[0m\u001b[0mscatter\u001b[0m\u001b[0;34m(\u001b[0m\u001b[0mx\u001b[0m\u001b[0;34m=\u001b[0m\u001b[0mtsne_lda\u001b[0m\u001b[0;34m[\u001b[0m\u001b[0;34m:\u001b[0m\u001b[0;34m,\u001b[0m\u001b[0;36m0\u001b[0m\u001b[0;34m]\u001b[0m\u001b[0;34m,\u001b[0m \u001b[0my\u001b[0m\u001b[0;34m=\u001b[0m\u001b[0mtsne_lda\u001b[0m\u001b[0;34m[\u001b[0m\u001b[0;34m:\u001b[0m\u001b[0;34m,\u001b[0m\u001b[0;36m1\u001b[0m\u001b[0;34m]\u001b[0m\u001b[0;34m,\u001b[0m \u001b[0mcolor\u001b[0m\u001b[0;34m=\u001b[0m\u001b[0mmycolors\u001b[0m\u001b[0;34m[\u001b[0m\u001b[0mtopic_num\u001b[0m\u001b[0;34m]\u001b[0m\u001b[0;34m)\u001b[0m\u001b[0;34m\u001b[0m\u001b[0;34m\u001b[0m\u001b[0m\n\u001b[0m\u001b[1;32m      7\u001b[0m \u001b[0mshow\u001b[0m\u001b[0;34m(\u001b[0m\u001b[0mplot\u001b[0m\u001b[0;34m)\u001b[0m\u001b[0;34m\u001b[0m\u001b[0;34m\u001b[0m\u001b[0m\n",
            "\u001b[0;32m/usr/local/lib/python3.10/dist-packages/pandas/core/frame.py\u001b[0m in \u001b[0;36m__getitem__\u001b[0;34m(self, key)\u001b[0m\n\u001b[1;32m   3805\u001b[0m             \u001b[0;32mif\u001b[0m \u001b[0mself\u001b[0m\u001b[0;34m.\u001b[0m\u001b[0mcolumns\u001b[0m\u001b[0;34m.\u001b[0m\u001b[0mnlevels\u001b[0m \u001b[0;34m>\u001b[0m \u001b[0;36m1\u001b[0m\u001b[0;34m:\u001b[0m\u001b[0;34m\u001b[0m\u001b[0;34m\u001b[0m\u001b[0m\n\u001b[1;32m   3806\u001b[0m                 \u001b[0;32mreturn\u001b[0m \u001b[0mself\u001b[0m\u001b[0;34m.\u001b[0m\u001b[0m_getitem_multilevel\u001b[0m\u001b[0;34m(\u001b[0m\u001b[0mkey\u001b[0m\u001b[0;34m)\u001b[0m\u001b[0;34m\u001b[0m\u001b[0;34m\u001b[0m\u001b[0m\n\u001b[0;32m-> 3807\u001b[0;31m             \u001b[0mindexer\u001b[0m \u001b[0;34m=\u001b[0m \u001b[0mself\u001b[0m\u001b[0;34m.\u001b[0m\u001b[0mcolumns\u001b[0m\u001b[0;34m.\u001b[0m\u001b[0mget_loc\u001b[0m\u001b[0;34m(\u001b[0m\u001b[0mkey\u001b[0m\u001b[0;34m)\u001b[0m\u001b[0;34m\u001b[0m\u001b[0;34m\u001b[0m\u001b[0m\n\u001b[0m\u001b[1;32m   3808\u001b[0m             \u001b[0;32mif\u001b[0m \u001b[0mis_integer\u001b[0m\u001b[0;34m(\u001b[0m\u001b[0mindexer\u001b[0m\u001b[0;34m)\u001b[0m\u001b[0;34m:\u001b[0m\u001b[0;34m\u001b[0m\u001b[0;34m\u001b[0m\u001b[0m\n\u001b[1;32m   3809\u001b[0m                 \u001b[0mindexer\u001b[0m \u001b[0;34m=\u001b[0m \u001b[0;34m[\u001b[0m\u001b[0mindexer\u001b[0m\u001b[0;34m]\u001b[0m\u001b[0;34m\u001b[0m\u001b[0;34m\u001b[0m\u001b[0m\n",
            "\u001b[0;32m/usr/local/lib/python3.10/dist-packages/pandas/core/indexes/base.py\u001b[0m in \u001b[0;36mget_loc\u001b[0;34m(self, key, method, tolerance)\u001b[0m\n\u001b[1;32m   3807\u001b[0m                 \u001b[0;31m#  InvalidIndexError. Otherwise we fall through and re-raise\u001b[0m\u001b[0;34m\u001b[0m\u001b[0;34m\u001b[0m\u001b[0m\n\u001b[1;32m   3808\u001b[0m                 \u001b[0;31m#  the TypeError.\u001b[0m\u001b[0;34m\u001b[0m\u001b[0;34m\u001b[0m\u001b[0m\n\u001b[0;32m-> 3809\u001b[0;31m                 \u001b[0mself\u001b[0m\u001b[0;34m.\u001b[0m\u001b[0m_check_indexing_error\u001b[0m\u001b[0;34m(\u001b[0m\u001b[0mkey\u001b[0m\u001b[0;34m)\u001b[0m\u001b[0;34m\u001b[0m\u001b[0;34m\u001b[0m\u001b[0m\n\u001b[0m\u001b[1;32m   3810\u001b[0m                 \u001b[0;32mraise\u001b[0m\u001b[0;34m\u001b[0m\u001b[0;34m\u001b[0m\u001b[0m\n\u001b[1;32m   3811\u001b[0m \u001b[0;34m\u001b[0m\u001b[0m\n",
            "\u001b[0;32m/usr/local/lib/python3.10/dist-packages/pandas/core/indexes/base.py\u001b[0m in \u001b[0;36m_check_indexing_error\u001b[0;34m(self, key)\u001b[0m\n\u001b[1;32m   5923\u001b[0m             \u001b[0;31m# if key is not a scalar, directly raise an error (the code below\u001b[0m\u001b[0;34m\u001b[0m\u001b[0;34m\u001b[0m\u001b[0m\n\u001b[1;32m   5924\u001b[0m             \u001b[0;31m# would convert to numpy arrays and raise later any way) - GH29926\u001b[0m\u001b[0;34m\u001b[0m\u001b[0;34m\u001b[0m\u001b[0m\n\u001b[0;32m-> 5925\u001b[0;31m             \u001b[0;32mraise\u001b[0m \u001b[0mInvalidIndexError\u001b[0m\u001b[0;34m(\u001b[0m\u001b[0mkey\u001b[0m\u001b[0;34m)\u001b[0m\u001b[0;34m\u001b[0m\u001b[0;34m\u001b[0m\u001b[0m\n\u001b[0m\u001b[1;32m   5926\u001b[0m \u001b[0;34m\u001b[0m\u001b[0m\n\u001b[1;32m   5927\u001b[0m     \u001b[0;34m@\u001b[0m\u001b[0mcache_readonly\u001b[0m\u001b[0;34m\u001b[0m\u001b[0;34m\u001b[0m\u001b[0m\n",
            "\u001b[0;31mInvalidIndexError\u001b[0m: (slice(None, None, None), 0)"
          ]
        }
      ],
      "source": [
        "output_notebook()\n",
        "n_topics = 5\n",
        "mycolors = np.array([color for name, color in mcolors.TABLEAU_COLORS.items()])\n",
        "plot = figure(title=\"t-SNE Clustering of {} LDA Topics\".format(n_topics),\n",
        "              min_width=900, min_height=700)\n",
        "plot.scatter(x=tsne_lda[:,0], y=tsne_lda[:,1], color=mycolors[topic_num])\n",
        "show(plot)"
      ]
    },
    {
      "cell_type": "code",
      "execution_count": null,
      "metadata": {
        "colab": {
          "base_uri": "https://localhost:8080/",
          "height": 497
        },
        "id": "E7vUjDHQxBRa",
        "outputId": "1dfc5f4a-4be3-4a05-b8be-b02bbfc9af74"
      },
      "outputs": [
        {
          "output_type": "stream",
          "name": "stderr",
          "text": [
            "/usr/local/lib/python3.10/dist-packages/ipykernel/ipkernel.py:283: DeprecationWarning: `should_run_async` will not call `transform_cell` automatically in the future. Please pass the result to `transformed_cell` argument and any exception that happen during thetransform in `preprocessing_exc_tuple` in IPython 7.17 and above.\n",
            "  and should_run_async(code)\n"
          ]
        },
        {
          "output_type": "error",
          "ename": "InvalidIndexError",
          "evalue": "ignored",
          "traceback": [
            "\u001b[0;31m---------------------------------------------------------------------------\u001b[0m",
            "\u001b[0;31mTypeError\u001b[0m                                 Traceback (most recent call last)",
            "\u001b[0;32m/usr/local/lib/python3.10/dist-packages/pandas/core/indexes/base.py\u001b[0m in \u001b[0;36mget_loc\u001b[0;34m(self, key, method, tolerance)\u001b[0m\n\u001b[1;32m   3801\u001b[0m             \u001b[0;32mtry\u001b[0m\u001b[0;34m:\u001b[0m\u001b[0;34m\u001b[0m\u001b[0;34m\u001b[0m\u001b[0m\n\u001b[0;32m-> 3802\u001b[0;31m                 \u001b[0;32mreturn\u001b[0m \u001b[0mself\u001b[0m\u001b[0;34m.\u001b[0m\u001b[0m_engine\u001b[0m\u001b[0;34m.\u001b[0m\u001b[0mget_loc\u001b[0m\u001b[0;34m(\u001b[0m\u001b[0mcasted_key\u001b[0m\u001b[0;34m)\u001b[0m\u001b[0;34m\u001b[0m\u001b[0;34m\u001b[0m\u001b[0m\n\u001b[0m\u001b[1;32m   3803\u001b[0m             \u001b[0;32mexcept\u001b[0m \u001b[0mKeyError\u001b[0m \u001b[0;32mas\u001b[0m \u001b[0merr\u001b[0m\u001b[0;34m:\u001b[0m\u001b[0;34m\u001b[0m\u001b[0;34m\u001b[0m\u001b[0m\n",
            "\u001b[0;32m/usr/local/lib/python3.10/dist-packages/pandas/_libs/index.pyx\u001b[0m in \u001b[0;36mpandas._libs.index.IndexEngine.get_loc\u001b[0;34m()\u001b[0m\n",
            "\u001b[0;32m/usr/local/lib/python3.10/dist-packages/pandas/_libs/index.pyx\u001b[0m in \u001b[0;36mpandas._libs.index.IndexEngine.get_loc\u001b[0;34m()\u001b[0m\n",
            "\u001b[0;31mTypeError\u001b[0m: '(slice(None, None, None), 0)' is an invalid key",
            "\nDuring handling of the above exception, another exception occurred:\n",
            "\u001b[0;31mInvalidIndexError\u001b[0m                         Traceback (most recent call last)",
            "\u001b[0;32m<ipython-input-50-54fe801bedba>\u001b[0m in \u001b[0;36m<cell line: 9>\u001b[0;34m()\u001b[0m\n\u001b[1;32m      8\u001b[0m \u001b[0mlegend_items\u001b[0m \u001b[0;34m=\u001b[0m \u001b[0;34m[\u001b[0m\u001b[0;34m]\u001b[0m\u001b[0;34m\u001b[0m\u001b[0;34m\u001b[0m\u001b[0m\n\u001b[1;32m      9\u001b[0m \u001b[0;32mfor\u001b[0m \u001b[0mi\u001b[0m \u001b[0;32min\u001b[0m \u001b[0mrange\u001b[0m\u001b[0;34m(\u001b[0m\u001b[0mn_topics\u001b[0m\u001b[0;34m)\u001b[0m\u001b[0;34m:\u001b[0m\u001b[0;34m\u001b[0m\u001b[0;34m\u001b[0m\u001b[0m\n\u001b[0;32m---> 10\u001b[0;31m     \u001b[0mscatter\u001b[0m \u001b[0;34m=\u001b[0m \u001b[0mplot\u001b[0m\u001b[0;34m.\u001b[0m\u001b[0mscatter\u001b[0m\u001b[0;34m(\u001b[0m\u001b[0mx\u001b[0m\u001b[0;34m=\u001b[0m\u001b[0mtsne_lda\u001b[0m\u001b[0;34m[\u001b[0m\u001b[0;34m:\u001b[0m\u001b[0;34m,\u001b[0m \u001b[0;36m0\u001b[0m\u001b[0;34m]\u001b[0m\u001b[0;34m,\u001b[0m \u001b[0my\u001b[0m\u001b[0;34m=\u001b[0m\u001b[0mtsne_lda\u001b[0m\u001b[0;34m[\u001b[0m\u001b[0;34m:\u001b[0m\u001b[0;34m,\u001b[0m \u001b[0;36m1\u001b[0m\u001b[0;34m]\u001b[0m\u001b[0;34m,\u001b[0m \u001b[0mcolor\u001b[0m\u001b[0;34m=\u001b[0m\u001b[0mmycolors\u001b[0m\u001b[0;34m[\u001b[0m\u001b[0mi\u001b[0m\u001b[0;34m]\u001b[0m\u001b[0;34m,\u001b[0m \u001b[0mlegend_label\u001b[0m\u001b[0;34m=\u001b[0m\u001b[0;34mf\"Topic {i}\"\u001b[0m\u001b[0;34m)\u001b[0m\u001b[0;34m\u001b[0m\u001b[0;34m\u001b[0m\u001b[0m\n\u001b[0m\u001b[1;32m     11\u001b[0m     \u001b[0mlegend_items\u001b[0m\u001b[0;34m.\u001b[0m\u001b[0mappend\u001b[0m\u001b[0;34m(\u001b[0m\u001b[0mLegendItem\u001b[0m\u001b[0;34m(\u001b[0m\u001b[0mlabel\u001b[0m\u001b[0;34m=\u001b[0m\u001b[0;34mf\"Topic {i}\"\u001b[0m\u001b[0;34m,\u001b[0m \u001b[0mrenderers\u001b[0m\u001b[0;34m=\u001b[0m\u001b[0;34m[\u001b[0m\u001b[0mscatter\u001b[0m\u001b[0;34m]\u001b[0m\u001b[0;34m)\u001b[0m\u001b[0;34m)\u001b[0m\u001b[0;34m\u001b[0m\u001b[0;34m\u001b[0m\u001b[0m\n\u001b[1;32m     12\u001b[0m \u001b[0;34m\u001b[0m\u001b[0m\n",
            "\u001b[0;32m/usr/local/lib/python3.10/dist-packages/pandas/core/frame.py\u001b[0m in \u001b[0;36m__getitem__\u001b[0;34m(self, key)\u001b[0m\n\u001b[1;32m   3805\u001b[0m             \u001b[0;32mif\u001b[0m \u001b[0mself\u001b[0m\u001b[0;34m.\u001b[0m\u001b[0mcolumns\u001b[0m\u001b[0;34m.\u001b[0m\u001b[0mnlevels\u001b[0m \u001b[0;34m>\u001b[0m \u001b[0;36m1\u001b[0m\u001b[0;34m:\u001b[0m\u001b[0;34m\u001b[0m\u001b[0;34m\u001b[0m\u001b[0m\n\u001b[1;32m   3806\u001b[0m                 \u001b[0;32mreturn\u001b[0m \u001b[0mself\u001b[0m\u001b[0;34m.\u001b[0m\u001b[0m_getitem_multilevel\u001b[0m\u001b[0;34m(\u001b[0m\u001b[0mkey\u001b[0m\u001b[0;34m)\u001b[0m\u001b[0;34m\u001b[0m\u001b[0;34m\u001b[0m\u001b[0m\n\u001b[0;32m-> 3807\u001b[0;31m             \u001b[0mindexer\u001b[0m \u001b[0;34m=\u001b[0m \u001b[0mself\u001b[0m\u001b[0;34m.\u001b[0m\u001b[0mcolumns\u001b[0m\u001b[0;34m.\u001b[0m\u001b[0mget_loc\u001b[0m\u001b[0;34m(\u001b[0m\u001b[0mkey\u001b[0m\u001b[0;34m)\u001b[0m\u001b[0;34m\u001b[0m\u001b[0;34m\u001b[0m\u001b[0m\n\u001b[0m\u001b[1;32m   3808\u001b[0m             \u001b[0;32mif\u001b[0m \u001b[0mis_integer\u001b[0m\u001b[0;34m(\u001b[0m\u001b[0mindexer\u001b[0m\u001b[0;34m)\u001b[0m\u001b[0;34m:\u001b[0m\u001b[0;34m\u001b[0m\u001b[0;34m\u001b[0m\u001b[0m\n\u001b[1;32m   3809\u001b[0m                 \u001b[0mindexer\u001b[0m \u001b[0;34m=\u001b[0m \u001b[0;34m[\u001b[0m\u001b[0mindexer\u001b[0m\u001b[0;34m]\u001b[0m\u001b[0;34m\u001b[0m\u001b[0;34m\u001b[0m\u001b[0m\n",
            "\u001b[0;32m/usr/local/lib/python3.10/dist-packages/pandas/core/indexes/base.py\u001b[0m in \u001b[0;36mget_loc\u001b[0;34m(self, key, method, tolerance)\u001b[0m\n\u001b[1;32m   3807\u001b[0m                 \u001b[0;31m#  InvalidIndexError. Otherwise we fall through and re-raise\u001b[0m\u001b[0;34m\u001b[0m\u001b[0;34m\u001b[0m\u001b[0m\n\u001b[1;32m   3808\u001b[0m                 \u001b[0;31m#  the TypeError.\u001b[0m\u001b[0;34m\u001b[0m\u001b[0;34m\u001b[0m\u001b[0m\n\u001b[0;32m-> 3809\u001b[0;31m                 \u001b[0mself\u001b[0m\u001b[0;34m.\u001b[0m\u001b[0m_check_indexing_error\u001b[0m\u001b[0;34m(\u001b[0m\u001b[0mkey\u001b[0m\u001b[0;34m)\u001b[0m\u001b[0;34m\u001b[0m\u001b[0;34m\u001b[0m\u001b[0m\n\u001b[0m\u001b[1;32m   3810\u001b[0m                 \u001b[0;32mraise\u001b[0m\u001b[0;34m\u001b[0m\u001b[0;34m\u001b[0m\u001b[0m\n\u001b[1;32m   3811\u001b[0m \u001b[0;34m\u001b[0m\u001b[0m\n",
            "\u001b[0;32m/usr/local/lib/python3.10/dist-packages/pandas/core/indexes/base.py\u001b[0m in \u001b[0;36m_check_indexing_error\u001b[0;34m(self, key)\u001b[0m\n\u001b[1;32m   5923\u001b[0m             \u001b[0;31m# if key is not a scalar, directly raise an error (the code below\u001b[0m\u001b[0;34m\u001b[0m\u001b[0;34m\u001b[0m\u001b[0m\n\u001b[1;32m   5924\u001b[0m             \u001b[0;31m# would convert to numpy arrays and raise later any way) - GH29926\u001b[0m\u001b[0;34m\u001b[0m\u001b[0;34m\u001b[0m\u001b[0m\n\u001b[0;32m-> 5925\u001b[0;31m             \u001b[0;32mraise\u001b[0m \u001b[0mInvalidIndexError\u001b[0m\u001b[0;34m(\u001b[0m\u001b[0mkey\u001b[0m\u001b[0;34m)\u001b[0m\u001b[0;34m\u001b[0m\u001b[0;34m\u001b[0m\u001b[0m\n\u001b[0m\u001b[1;32m   5926\u001b[0m \u001b[0;34m\u001b[0m\u001b[0m\n\u001b[1;32m   5927\u001b[0m     \u001b[0;34m@\u001b[0m\u001b[0mcache_readonly\u001b[0m\u001b[0;34m\u001b[0m\u001b[0;34m\u001b[0m\u001b[0m\n",
            "\u001b[0;31mInvalidIndexError\u001b[0m: (slice(None, None, None), 0)"
          ]
        }
      ],
      "source": [
        "from bokeh.models import Legend, LegendItem\n",
        "output_notebook()\n",
        "n_topics = 5\n",
        "mycolors = np.array([color for name, color in mcolors.TABLEAU_COLORS.items()])\n",
        "plot = figure(title=\"t-SNE Clustering of {} LDA Topics\".format(n_topics), min_width=900, min_height=700)\n",
        "\n",
        "# Create legend items for each topic\n",
        "legend_items = []\n",
        "for i in range(n_topics):\n",
        "    scatter = plot.scatter(x=tsne_lda[:, 0], y=tsne_lda[:, 1], color=mycolors[i], legend_label=f\"Topic {i}\")\n",
        "    legend_items.append(LegendItem(label=f\"Topic {i}\", renderers=[scatter]))\n",
        "\n",
        "# Add the legend to the plot\n",
        "legend = Legend(items=legend_items)\n",
        "plot.add_layout(legend, 'right')\n",
        "\n",
        "show(plot)"
      ]
    },
    {
      "cell_type": "code",
      "execution_count": null,
      "metadata": {
        "colab": {
          "base_uri": "https://localhost:8080/"
        },
        "id": "PNL22n043SRj",
        "outputId": "898145bd-c061-4a3e-a95a-27d95608d7b4"
      },
      "outputs": [
        {
          "output_type": "stream",
          "name": "stderr",
          "text": [
            "/usr/local/lib/python3.10/dist-packages/ipykernel/ipkernel.py:283: DeprecationWarning: `should_run_async` will not call `transform_cell` automatically in the future. Please pass the result to `transformed_cell` argument and any exception that happen during thetransform in `preprocessing_exc_tuple` in IPython 7.17 and above.\n",
            "  and should_run_async(code)\n",
            "IOPub data rate exceeded.\n",
            "The notebook server will temporarily stop sending output\n",
            "to the client in order to avoid crashing it.\n",
            "To change this limit, set the config variable\n",
            "`--NotebookApp.iopub_data_rate_limit`.\n",
            "\n",
            "Current values:\n",
            "NotebookApp.iopub_data_rate_limit=1000000.0 (bytes/sec)\n",
            "NotebookApp.rate_limit_window=3.0 (secs)\n",
            "\n"
          ]
        }
      ],
      "source": [
        "import json\n",
        "import pandas as pd\n",
        "from sklearn.manifold import TSNE\n",
        "\n",
        "\n",
        "# Create an empty dictionary for topics\n",
        "topics_dict = {}\n",
        "\n",
        "# Iterate through each row in the DataFrame to build the topics dictionary\n",
        "for index, row in df_dominant_topic.iterrows():\n",
        "    dominant_topic = int(row['Dominant_Topic'])\n",
        "    keywords = row['Keywords']\n",
        "\n",
        "    # Split keywords into a list\n",
        "    keyword_list = keywords.split(', ')\n",
        "\n",
        "    # Create a dictionary entry for the topic\n",
        "    topics_dict[dominant_topic] = keyword_list\n",
        "\n",
        "# Create an empty list to store the topics data\n",
        "topics_data = []\n",
        "\n",
        "# Iterate through each row in the DataFrame\n",
        "for index, row in df_dominant_topic.iterrows():\n",
        "    # Extract relevant information from the row\n",
        "    # document_no = int(row['Document_No'])\n",
        "    dominant_topic = int(row['Dominant_Topic'])\n",
        "    topic_perc_contrib = float(row['Topic_Perc_Contrib'])\n",
        "    text = row['Text']\n",
        "\n",
        "    # Create a dictionary for the row\n",
        "    row_dict = {\n",
        "        \"x\": float(x[index]),  # Add X coordinate\n",
        "        \"y\": float(y[index]),  # Add Y coordinate\n",
        "        \"Dominant_Topic\": dominant_topic,\n",
        "        \"Topic_Perc_Contrib\": topic_perc_contrib,\n",
        "        \"Text\": text\n",
        "    }\n",
        "\n",
        "    # Append the row dictionary to the list of topics data\n",
        "    topics_data.append(row_dict)\n",
        "\n",
        "\n",
        "# Create the final JSON structure\n",
        "output_json = {\n",
        "    \"topic\": topics_dict,\n",
        "    \"topics_data\": topics_data\n",
        "}\n",
        "\n",
        "# Convert the JSON structure to a JSON-formatted string with indentation\n",
        "json_string = json.dumps(output_json, indent=4)\n",
        "\n",
        "# Print the JSON string or save it to a file (optional)\n",
        "with open('json_fix_fe.json', 'w') as json_file:\n",
        "    json_file.write(json_string)\n",
        "\n",
        "# Print the JSON string\n",
        "print(json_string)\n"
      ]
    },
    {
      "cell_type": "code",
      "execution_count": null,
      "metadata": {
        "id": "ctrnnivDe8FM"
      },
      "outputs": [],
      "source": [
        "import pandas as pd\n",
        "import gensim\n",
        "from gensim.corpora.dictionary import Dictionary\n",
        "from gensim.models.ldamodel import LdaModel\n",
        "from nltk.tokenize import word_tokenize\n",
        "from Sastrawi.Stemmer.StemmerFactory import StemmerFactory"
      ]
    },
    {
      "cell_type": "code",
      "execution_count": null,
      "metadata": {
        "id": "1wvOBhN9abZa"
      },
      "outputs": [],
      "source": [
        "lda_model12 = LdaModel.load('/content/model/lda_model3')"
      ]
    },
    {
      "cell_type": "code",
      "execution_count": null,
      "metadata": {
        "id": "iknLSO7dfLdZ"
      },
      "outputs": [],
      "source": [
        "import pandas as pd\n",
        "\n",
        "df1 = pd.read_excel('/content/DATATOPICMODELLING.xlsx')"
      ]
    },
    {
      "cell_type": "code",
      "execution_count": null,
      "metadata": {
        "id": "uNLPMVRdtBSt"
      },
      "outputs": [],
      "source": [
        "dictionaryx = Dictionary.load('/content/model/lda_model3.id2word')"
      ]
    },
    {
      "cell_type": "code",
      "execution_count": null,
      "metadata": {
        "colab": {
          "base_uri": "https://localhost:8080/"
        },
        "id": "As_26r1btL5S",
        "outputId": "ecd2cc6f-4b31-4a08-90f5-f89ba89b8b47"
      },
      "outputs": [
        {
          "name": "stdout",
          "output_type": "stream",
          "text": [
            "Document 0, Topic 0: Probability 0.4239238500595093\n",
            "Document 0, Topic 1: Probability 0.051862578839063644\n",
            "Document 0, Topic 2: Probability 0.11503760516643524\n",
            "Document 0, Topic 3: Probability 0.008604073897004128\n",
            "Document 0, Topic 4: Probability 0.40057191252708435\n",
            "Document 1, Topic 0: Probability 0.29773199558258057\n",
            "Document 1, Topic 1: Probability 0.013599191792309284\n",
            "Document 1, Topic 2: Probability 0.013519106432795525\n",
            "Document 1, Topic 3: Probability 0.013344219885766506\n",
            "Document 1, Topic 4: Probability 0.6618055105209351\n",
            "Document 2, Topic 0: Probability 0.26053425669670105\n",
            "Document 2, Topic 1: Probability 0.02925868332386017\n",
            "Document 2, Topic 2: Probability 0.029787927865982056\n",
            "Document 2, Topic 3: Probability 0.02861834317445755\n",
            "Document 2, Topic 4: Probability 0.651800811290741\n",
            "Document 3, Topic 0: Probability 0.3702223300933838\n",
            "Document 3, Topic 1: Probability 0.4955495595932007\n",
            "Document 3, Topic 2: Probability 0.013954702764749527\n",
            "Document 3, Topic 3: Probability 0.01365290954709053\n",
            "Document 3, Topic 4: Probability 0.10662048310041428\n",
            "Document 4, Topic 0: Probability 0.7255634665489197\n",
            "Document 4, Topic 1: Probability 0.07026422768831253\n",
            "Document 4, Topic 2: Probability 0.01200324110686779\n",
            "Document 4, Topic 3: Probability 0.011774774640798569\n",
            "Document 4, Topic 4: Probability 0.18039433658123016\n",
            "Document 5, Topic 0: Probability 0.0427408441901207\n",
            "Document 5, Topic 1: Probability 0.6100850105285645\n",
            "Document 5, Topic 2: Probability 0.04240994155406952\n",
            "Document 5, Topic 3: Probability 0.04242357239127159\n",
            "Document 5, Topic 4: Probability 0.26234057545661926\n",
            "Document 6, Topic 0: Probability 0.3832244575023651\n",
            "Document 6, Topic 1: Probability 0.05395238474011421\n",
            "Document 6, Topic 2: Probability 0.12299720197916031\n",
            "Document 6, Topic 3: Probability 0.008981975726783276\n",
            "Document 6, Topic 4: Probability 0.4308439791202545\n",
            "Document 7, Topic 0: Probability 0.207728311419487\n",
            "Document 7, Topic 1: Probability 0.014683493413031101\n",
            "Document 7, Topic 2: Probability 0.014478893019258976\n",
            "Document 7, Topic 3: Probability 0.014294193126261234\n",
            "Document 7, Topic 4: Probability 0.7488150596618652\n",
            "Document 8, Topic 0: Probability 0.7025734186172485\n",
            "Document 8, Topic 1: Probability 0.07457174360752106\n",
            "Document 8, Topic 2: Probability 0.012761141173541546\n",
            "Document 8, Topic 3: Probability 0.012509695254266262\n",
            "Document 8, Topic 4: Probability 0.19758400321006775\n",
            "Document 9, Topic 0: Probability 0.7345910668373108\n",
            "Document 9, Topic 1: Probability 0.03335385024547577\n",
            "Document 9, Topic 2: Probability 0.03414258733391762\n",
            "Document 9, Topic 3: Probability 0.1645665168762207\n",
            "Document 9, Topic 4: Probability 0.03334600105881691\n",
            "Document 10, Topic 0: Probability 0.6204315423965454\n",
            "Document 10, Topic 1: Probability 0.011960462667047977\n",
            "Document 10, Topic 2: Probability 0.1897180676460266\n",
            "Document 10, Topic 3: Probability 0.011890251189470291\n",
            "Document 10, Topic 4: Probability 0.16599969565868378\n",
            "Document 11, Topic 0: Probability 0.6282095313072205\n",
            "Document 11, Topic 1: Probability 0.14496369659900665\n",
            "Document 11, Topic 2: Probability 0.02364823967218399\n",
            "Document 11, Topic 3: Probability 0.023051129654049873\n",
            "Document 11, Topic 4: Probability 0.18012745678424835\n",
            "Document 12, Topic 0: Probability 0.42789068818092346\n",
            "Document 12, Topic 1: Probability 0.028998712077736855\n",
            "Document 12, Topic 2: Probability 0.48526209592819214\n",
            "Document 12, Topic 3: Probability 0.028590049594640732\n",
            "Document 12, Topic 4: Probability 0.02925846353173256\n",
            "Document 13, Topic 0: Probability 0.6698369383811951\n",
            "Document 13, Topic 1: Probability 0.040013376623392105\n",
            "Document 13, Topic 2: Probability 0.0409487821161747\n",
            "Document 13, Topic 3: Probability 0.2091970294713974\n",
            "Document 13, Topic 4: Probability 0.04000387713313103\n",
            "Document 14, Topic 0: Probability 0.3933144509792328\n",
            "Document 14, Topic 1: Probability 0.01262145396322012\n",
            "Document 14, Topic 2: Probability 0.26312094926834106\n",
            "Document 14, Topic 3: Probability 0.07030386477708817\n",
            "Document 14, Topic 4: Probability 0.2606392502784729\n",
            "Document 15, Topic 0: Probability 0.42829275131225586\n",
            "Document 15, Topic 1: Probability 0.1495738923549652\n",
            "Document 15, Topic 2: Probability 0.01864962838590145\n",
            "Document 15, Topic 3: Probability 0.01838226616382599\n",
            "Document 15, Topic 4: Probability 0.3851014971733093\n",
            "Document 16, Topic 0: Probability 0.8372109532356262\n",
            "Document 16, Topic 1: Probability 0.040814269334077835\n",
            "Document 16, Topic 2: Probability 0.040283579379320145\n",
            "Document 16, Topic 3: Probability 0.04001665860414505\n",
            "Document 16, Topic 4: Probability 0.04167455434799194\n",
            "Document 17, Topic 0: Probability 0.3718184232711792\n",
            "Document 17, Topic 1: Probability 0.01672862097620964\n",
            "Document 17, Topic 2: Probability 0.016713401302695274\n",
            "Document 17, Topic 3: Probability 0.016698526218533516\n",
            "Document 17, Topic 4: Probability 0.5780410170555115\n",
            "Document 18, Topic 0: Probability 0.2472064346075058\n",
            "Document 18, Topic 1: Probability 0.009517044760286808\n",
            "Document 18, Topic 2: Probability 0.06679259240627289\n",
            "Document 18, Topic 3: Probability 0.11276485025882721\n",
            "Document 18, Topic 4: Probability 0.5637190341949463\n",
            "Document 19, Topic 0: Probability 0.4154411554336548\n",
            "Document 19, Topic 1: Probability 0.0795234888792038\n",
            "Document 19, Topic 2: Probability 0.13932138681411743\n",
            "Document 19, Topic 3: Probability 0.022902673110365868\n",
            "Document 19, Topic 4: Probability 0.34281134605407715\n",
            "Document 20, Topic 0: Probability 0.026417437940835953\n",
            "Document 20, Topic 1: Probability 0.11983807384967804\n",
            "Document 20, Topic 2: Probability 0.15722130239009857\n",
            "Document 20, Topic 3: Probability 0.025649545714259148\n",
            "Document 20, Topic 4: Probability 0.6708736419677734\n",
            "Document 21, Topic 0: Probability 0.03389593958854675\n",
            "Document 21, Topic 1: Probability 0.033426396548748016\n",
            "Document 21, Topic 2: Probability 0.03340085223317146\n",
            "Document 21, Topic 3: Probability 0.033345554023981094\n",
            "Document 21, Topic 4: Probability 0.8659312725067139\n",
            "Document 22, Topic 0: Probability 0.2573947012424469\n",
            "Document 22, Topic 1: Probability 0.2464076429605484\n",
            "Document 22, Topic 2: Probability 0.029302328824996948\n",
            "Document 22, Topic 3: Probability 0.17242760956287384\n",
            "Document 22, Topic 4: Probability 0.2944677472114563\n",
            "Document 23, Topic 0: Probability 0.40002837777137756\n",
            "Document 23, Topic 1: Probability 0.07593555748462677\n",
            "Document 23, Topic 2: Probability 0.2854231595993042\n",
            "Document 23, Topic 3: Probability 0.011549852788448334\n",
            "Document 23, Topic 4: Probability 0.22706308960914612\n",
            "Document 24, Topic 0: Probability 0.042175572365522385\n",
            "Document 24, Topic 1: Probability 0.04093308746814728\n",
            "Document 24, Topic 2: Probability 0.04067395254969597\n",
            "Document 24, Topic 3: Probability 0.24315857887268066\n",
            "Document 24, Topic 4: Probability 0.6330587863922119\n",
            "Document 25, Topic 0: Probability 0.18575932085514069\n",
            "Document 25, Topic 1: Probability 0.016899652779102325\n",
            "Document 25, Topic 2: Probability 0.23037375509738922\n",
            "Document 25, Topic 3: Probability 0.2892560064792633\n",
            "Document 25, Topic 4: Probability 0.27771127223968506\n",
            "Document 26, Topic 0: Probability 0.25907737016677856\n",
            "Document 26, Topic 1: Probability 0.422148734331131\n",
            "Document 26, Topic 2: Probability 0.025324199348688126\n",
            "Document 26, Topic 3: Probability 0.2681913375854492\n",
            "Document 26, Topic 4: Probability 0.02525838278234005\n",
            "Document 27, Topic 0: Probability 0.45669829845428467\n",
            "Document 27, Topic 1: Probability 0.0251910537481308\n",
            "Document 27, Topic 2: Probability 0.025265729054808617\n",
            "Document 27, Topic 3: Probability 0.15115508437156677\n",
            "Document 27, Topic 4: Probability 0.3416898250579834\n",
            "Document 28, Topic 0: Probability 0.3640887141227722\n",
            "Document 28, Topic 1: Probability 0.15416422486305237\n",
            "Document 28, Topic 2: Probability 0.09640632569789886\n",
            "Document 28, Topic 3: Probability 0.01655329018831253\n",
            "Document 28, Topic 4: Probability 0.3687874674797058\n",
            "Document 29, Topic 0: Probability 0.4242723286151886\n",
            "Document 29, Topic 1: Probability 0.34195905923843384\n",
            "Document 29, Topic 2: Probability 0.01145169511437416\n",
            "Document 29, Topic 3: Probability 0.01040743663907051\n",
            "Document 29, Topic 4: Probability 0.2119094282388687\n",
            "Document 30, Topic 0: Probability 0.604312539100647\n",
            "Document 30, Topic 1: Probability 0.19791366159915924\n",
            "Document 30, Topic 2: Probability 0.16210512816905975\n",
            "Document 30, Topic 3: Probability 0.017767097800970078\n",
            "Document 30, Topic 4: Probability 0.017901578918099403\n",
            "Document 31, Topic 0: Probability 0.21023476123809814\n",
            "Document 31, Topic 1: Probability 0.014870455488562584\n",
            "Document 31, Topic 2: Probability 0.4301471710205078\n",
            "Document 31, Topic 3: Probability 0.014820822514593601\n",
            "Document 31, Topic 4: Probability 0.3299267888069153\n",
            "Document 32, Topic 0: Probability 0.20671595633029938\n",
            "Document 32, Topic 1: Probability 0.1962037831544876\n",
            "Document 32, Topic 2: Probability 0.02031201496720314\n",
            "Document 32, Topic 3: Probability 0.13182616233825684\n",
            "Document 32, Topic 4: Probability 0.44494205713272095\n",
            "Document 33, Topic 0: Probability 0.384674996137619\n",
            "Document 33, Topic 1: Probability 0.22533480823040009\n",
            "Document 33, Topic 2: Probability 0.04011585935950279\n",
            "Document 33, Topic 3: Probability 0.04008310288190842\n",
            "Document 33, Topic 4: Probability 0.30979123711586\n",
            "Document 34, Topic 0: Probability 0.040896158665418625\n",
            "Document 34, Topic 1: Probability 0.0410153828561306\n",
            "Document 34, Topic 2: Probability 0.38078901171684265\n",
            "Document 34, Topic 3: Probability 0.04005691781640053\n",
            "Document 34, Topic 4: Probability 0.4972425401210785\n",
            "Document 35, Topic 0: Probability 0.5736931562423706\n",
            "Document 35, Topic 1: Probability 0.25335830450057983\n",
            "Document 35, Topic 2: Probability 0.015744661912322044\n",
            "Document 35, Topic 3: Probability 0.015402265824377537\n",
            "Document 35, Topic 4: Probability 0.1418015956878662\n",
            "Document 36, Topic 0: Probability 0.6229226589202881\n",
            "Document 36, Topic 1: Probability 0.04021072760224342\n",
            "Document 36, Topic 2: Probability 0.2562679946422577\n",
            "Document 36, Topic 3: Probability 0.040200233459472656\n",
            "Document 36, Topic 4: Probability 0.04039836302399635\n",
            "Document 37, Topic 0: Probability 0.3856750726699829\n",
            "Document 37, Topic 1: Probability 0.040514808148145676\n",
            "Document 37, Topic 2: Probability 0.49301907420158386\n",
            "Document 37, Topic 3: Probability 0.040341563522815704\n",
            "Document 37, Topic 4: Probability 0.04044947400689125\n",
            "Document 38, Topic 0: Probability 0.5513575077056885\n",
            "Document 38, Topic 1: Probability 0.15017318725585938\n",
            "Document 38, Topic 2: Probability 0.011685372330248356\n",
            "Document 38, Topic 3: Probability 0.01151166670024395\n",
            "Document 38, Topic 4: Probability 0.2752722501754761\n",
            "Document 39, Topic 0: Probability 0.3097996711730957\n",
            "Document 39, Topic 1: Probability 0.023505646735429764\n",
            "Document 39, Topic 2: Probability 0.2719147801399231\n",
            "Document 39, Topic 3: Probability 0.023620164021849632\n",
            "Document 39, Topic 4: Probability 0.37115976214408875\n",
            "Document 40, Topic 0: Probability 0.8369132280349731\n",
            "Document 40, Topic 1: Probability 0.0404864065349102\n",
            "Document 40, Topic 2: Probability 0.040535859763622284\n",
            "Document 40, Topic 3: Probability 0.04044770076870918\n",
            "Document 40, Topic 4: Probability 0.04161684960126877\n",
            "Document 41, Topic 0: Probability 0.3062722086906433\n",
            "Document 41, Topic 1: Probability 0.5429384112358093\n",
            "Document 41, Topic 2: Probability 0.014987082220613956\n",
            "Document 41, Topic 3: Probability 0.014665124006569386\n",
            "Document 41, Topic 4: Probability 0.12113720923662186\n",
            "Document 42, Topic 0: Probability 0.5116314888000488\n",
            "Document 42, Topic 1: Probability 0.1925342082977295\n",
            "Document 42, Topic 2: Probability 0.01575644128024578\n",
            "Document 42, Topic 3: Probability 0.09374459087848663\n",
            "Document 42, Topic 4: Probability 0.1863332986831665\n",
            "Document 43, Topic 0: Probability 0.456222265958786\n",
            "Document 43, Topic 1: Probability 0.028841735795140266\n",
            "Document 43, Topic 2: Probability 0.4571191668510437\n",
            "Document 43, Topic 3: Probability 0.02868533320724964\n",
            "Document 43, Topic 4: Probability 0.029131529852747917\n",
            "Document 44, Topic 0: Probability 0.06669406592845917\n",
            "Document 44, Topic 1: Probability 0.0669160932302475\n",
            "Document 44, Topic 2: Probability 0.7327604293823242\n",
            "Document 44, Topic 3: Probability 0.066850945353508\n",
            "Document 44, Topic 4: Probability 0.06677845865488052\n",
            "Document 45, Topic 0: Probability 0.2615066468715668\n",
            "Document 45, Topic 1: Probability 0.013419290073215961\n",
            "Document 45, Topic 2: Probability 0.5210062265396118\n",
            "Document 45, Topic 3: Probability 0.013757467269897461\n",
            "Document 45, Topic 4: Probability 0.19031038880348206\n",
            "Document 46, Topic 0: Probability 0.5345471501350403\n",
            "Document 46, Topic 1: Probability 0.013485932722687721\n",
            "Document 46, Topic 2: Probability 0.30000606179237366\n",
            "Document 46, Topic 3: Probability 0.0425180085003376\n",
            "Document 46, Topic 4: Probability 0.10944285988807678\n",
            "Document 47, Topic 0: Probability 0.409275621175766\n",
            "Document 47, Topic 1: Probability 0.0687524676322937\n",
            "Document 47, Topic 2: Probability 0.06875171512365341\n",
            "Document 47, Topic 3: Probability 0.38444849848747253\n",
            "Document 47, Topic 4: Probability 0.06877173483371735\n",
            "Document 48, Topic 0: Probability 0.3959066867828369\n",
            "Document 48, Topic 1: Probability 0.022282259538769722\n",
            "Document 48, Topic 2: Probability 0.26266714930534363\n",
            "Document 48, Topic 3: Probability 0.022486260160803795\n",
            "Document 48, Topic 4: Probability 0.29665762186050415\n",
            "Document 49, Topic 0: Probability 0.29951632022857666\n",
            "Document 49, Topic 1: Probability 0.0501529760658741\n",
            "Document 49, Topic 2: Probability 0.050260599702596664\n",
            "Document 49, Topic 3: Probability 0.050090059638023376\n",
            "Document 49, Topic 4: Probability 0.549980103969574\n",
            "Document 50, Topic 0: Probability 0.40763214230537415\n",
            "Document 50, Topic 1: Probability 0.51357501745224\n",
            "Document 50, Topic 2: Probability 0.025965457782149315\n",
            "Document 50, Topic 3: Probability 0.02546718716621399\n",
            "Document 50, Topic 4: Probability 0.02736017480492592\n",
            "Document 51, Topic 0: Probability 0.4681869447231293\n",
            "Document 51, Topic 1: Probability 0.3137243986129761\n",
            "Document 51, Topic 2: Probability 0.16750356554985046\n",
            "Document 51, Topic 3: Probability 0.025102635845541954\n",
            "Document 51, Topic 4: Probability 0.025482458993792534\n",
            "Document 52, Topic 0: Probability 0.37479764223098755\n",
            "Document 52, Topic 1: Probability 0.010176838375627995\n",
            "Document 52, Topic 2: Probability 0.2027561068534851\n",
            "Document 52, Topic 3: Probability 0.01014829333871603\n",
            "Document 52, Topic 4: Probability 0.4021211266517639\n",
            "Document 53, Topic 0: Probability 0.5351987481117249\n",
            "Document 53, Topic 1: Probability 0.22291430830955505\n",
            "Document 53, Topic 2: Probability 0.010478057898581028\n",
            "Document 53, Topic 3: Probability 0.010350843891501427\n",
            "Document 53, Topic 4: Probability 0.22105807065963745\n",
            "Document 54, Topic 0: Probability 0.5822649598121643\n",
            "Document 54, Topic 1: Probability 0.014571799896657467\n",
            "Document 54, Topic 2: Probability 0.36892616748809814\n",
            "Document 54, Topic 3: Probability 0.014386724680662155\n",
            "Document 54, Topic 4: Probability 0.01985035464167595\n",
            "Document 55, Topic 0: Probability 0.5806124210357666\n",
            "Document 55, Topic 1: Probability 0.014654372818768024\n",
            "Document 55, Topic 2: Probability 0.2318437695503235\n",
            "Document 55, Topic 3: Probability 0.014583908021450043\n",
            "Document 55, Topic 4: Probability 0.15830551087856293\n",
            "Document 56, Topic 0: Probability 0.27611294388771057\n",
            "Document 56, Topic 1: Probability 0.07807370275259018\n",
            "Document 56, Topic 2: Probability 0.33773595094680786\n",
            "Document 56, Topic 3: Probability 0.012732061557471752\n",
            "Document 56, Topic 4: Probability 0.29534536600112915\n",
            "Document 57, Topic 0: Probability 0.5806161165237427\n",
            "Document 57, Topic 1: Probability 0.014654378406703472\n",
            "Document 57, Topic 2: Probability 0.23184683918952942\n",
            "Document 57, Topic 3: Probability 0.014583914540708065\n",
            "Document 57, Topic 4: Probability 0.15829871594905853\n",
            "Document 58, Topic 0: Probability 0.5727102160453796\n",
            "Document 58, Topic 1: Probability 0.19395899772644043\n",
            "Document 58, Topic 2: Probability 0.010287473909556866\n",
            "Document 58, Topic 3: Probability 0.010038629174232483\n",
            "Document 58, Topic 4: Probability 0.2130046784877777\n",
            "Document 59, Topic 0: Probability 0.5278984904289246\n",
            "Document 59, Topic 1: Probability 0.14719435572624207\n",
            "Document 59, Topic 2: Probability 0.09893340617418289\n",
            "Document 59, Topic 3: Probability 0.013902532868087292\n",
            "Document 59, Topic 4: Probability 0.2120712697505951\n",
            "Document 60, Topic 0: Probability 0.3867802917957306\n",
            "Document 60, Topic 1: Probability 0.42797771096229553\n",
            "Document 60, Topic 2: Probability 0.061461180448532104\n",
            "Document 60, Topic 3: Probability 0.0615045540034771\n",
            "Document 60, Topic 4: Probability 0.06227623671293259\n",
            "Document 61, Topic 0: Probability 0.623266339302063\n",
            "Document 61, Topic 1: Probability 0.02094894088804722\n",
            "Document 61, Topic 2: Probability 0.31540200114250183\n",
            "Document 61, Topic 3: Probability 0.020043475553393364\n",
            "Document 61, Topic 4: Probability 0.020339203998446465\n",
            "Document 62, Topic 0: Probability 0.2505215108394623\n",
            "Document 62, Topic 1: Probability 0.014946852810680866\n",
            "Document 62, Topic 2: Probability 0.09815728664398193\n",
            "Document 62, Topic 3: Probability 0.014482208527624607\n",
            "Document 62, Topic 4: Probability 0.6218921542167664\n",
            "Document 63, Topic 0: Probability 0.7541148662567139\n",
            "Document 63, Topic 1: Probability 0.10405796021223068\n",
            "Document 63, Topic 2: Probability 0.006907143164426088\n",
            "Document 63, Topic 3: Probability 0.006797217298299074\n",
            "Document 63, Topic 4: Probability 0.12812280654907227\n",
            "Document 64, Topic 0: Probability 0.28412380814552307\n",
            "Document 64, Topic 1: Probability 0.025060268118977547\n",
            "Document 64, Topic 2: Probability 0.29898601770401\n",
            "Document 64, Topic 3: Probability 0.025281071662902832\n",
            "Document 64, Topic 4: Probability 0.3665488064289093\n",
            "Document 65, Topic 0: Probability 0.673095166683197\n",
            "Document 65, Topic 1: Probability 0.01246690470725298\n",
            "Document 65, Topic 2: Probability 0.10502604395151138\n",
            "Document 65, Topic 3: Probability 0.012307657860219479\n",
            "Document 65, Topic 4: Probability 0.19710427522659302\n",
            "Document 66, Topic 0: Probability 0.1347166746854782\n",
            "Document 66, Topic 1: Probability 0.011238960549235344\n",
            "Document 66, Topic 2: Probability 0.44073641300201416\n",
            "Document 66, Topic 3: Probability 0.011454944498836994\n",
            "Document 66, Topic 4: Probability 0.4018530249595642\n",
            "Document 67, Topic 0: Probability 0.5959234237670898\n",
            "Document 67, Topic 1: Probability 0.01328833494335413\n",
            "Document 67, Topic 2: Probability 0.11077262461185455\n",
            "Document 67, Topic 3: Probability 0.013120381161570549\n",
            "Document 67, Topic 4: Probability 0.26689526438713074\n",
            "Document 68, Topic 0: Probability 0.5172685980796814\n",
            "Document 68, Topic 1: Probability 0.1511959731578827\n",
            "Document 68, Topic 2: Probability 0.1421600729227066\n",
            "Document 68, Topic 3: Probability 0.00937228836119175\n",
            "Document 68, Topic 4: Probability 0.1800030618906021\n",
            "Document 69, Topic 0: Probability 0.5396662354469299\n",
            "Document 69, Topic 1: Probability 0.2449933886528015\n",
            "Document 69, Topic 2: Probability 0.07357515394687653\n",
            "Document 69, Topic 3: Probability 0.06141356751322746\n",
            "Document 69, Topic 4: Probability 0.08035165071487427\n",
            "Document 70, Topic 0: Probability 0.4874768853187561\n",
            "Document 70, Topic 1: Probability 0.1586042195558548\n",
            "Document 70, Topic 2: Probability 0.14988619089126587\n",
            "Document 70, Topic 3: Probability 0.009776241146028042\n",
            "Document 70, Topic 4: Probability 0.1942564845085144\n",
            "Document 71, Topic 0: Probability 0.49114611744880676\n",
            "Document 71, Topic 1: Probability 0.14410482347011566\n",
            "Document 71, Topic 2: Probability 0.021670358255505562\n",
            "Document 71, Topic 3: Probability 0.02163768745958805\n",
            "Document 71, Topic 4: Probability 0.32144102454185486\n",
            "Document 72, Topic 0: Probability 0.6377787590026855\n",
            "Document 72, Topic 1: Probability 0.16618020832538605\n",
            "Document 72, Topic 2: Probability 0.009350484237074852\n",
            "Document 72, Topic 3: Probability 0.009548813104629517\n",
            "Document 72, Topic 4: Probability 0.1771417260169983\n",
            "Document 73, Topic 0: Probability 0.6665536761283875\n",
            "Document 73, Topic 1: Probability 0.15417800843715668\n",
            "Document 73, Topic 2: Probability 0.008569844998419285\n",
            "Document 73, Topic 3: Probability 0.00873956922441721\n",
            "Document 73, Topic 4: Probability 0.16195891797542572\n",
            "Document 74, Topic 0: Probability 0.4940488636493683\n",
            "Document 74, Topic 1: Probability 0.03932371735572815\n",
            "Document 74, Topic 2: Probability 0.13471625745296478\n",
            "Document 74, Topic 3: Probability 0.09791288524866104\n",
            "Document 74, Topic 4: Probability 0.23399825394153595\n",
            "Document 75, Topic 0: Probability 0.37275874614715576\n",
            "Document 75, Topic 1: Probability 0.08316788822412491\n",
            "Document 75, Topic 2: Probability 0.00806901603937149\n",
            "Document 75, Topic 3: Probability 0.09096113592386246\n",
            "Document 75, Topic 4: Probability 0.4450432062149048\n",
            "Document 76, Topic 0: Probability 0.35905221104621887\n",
            "Document 76, Topic 1: Probability 0.055711593478918076\n",
            "Document 76, Topic 2: Probability 0.1722583919763565\n",
            "Document 76, Topic 3: Probability 0.11037945747375488\n",
            "Document 76, Topic 4: Probability 0.30259832739830017\n",
            "Document 77, Topic 0: Probability 0.4853304624557495\n",
            "Document 77, Topic 1: Probability 0.01375020481646061\n",
            "Document 77, Topic 2: Probability 0.1918993890285492\n",
            "Document 77, Topic 3: Probability 0.013874150812625885\n",
            "Document 77, Topic 4: Probability 0.29514583945274353\n",
            "Document 78, Topic 0: Probability 0.2173471599817276\n",
            "Document 78, Topic 1: Probability 0.34020036458969116\n",
            "Document 78, Topic 2: Probability 0.20649394392967224\n",
            "Document 78, Topic 3: Probability 0.014024477452039719\n",
            "Document 78, Topic 4: Probability 0.2219340205192566\n",
            "Document 79, Topic 0: Probability 0.20794177055358887\n",
            "Document 79, Topic 1: Probability 0.2633340060710907\n",
            "Document 79, Topic 2: Probability 0.2857521176338196\n",
            "Document 79, Topic 3: Probability 0.015972210094332695\n",
            "Document 79, Topic 4: Probability 0.22699986398220062\n",
            "Document 80, Topic 0: Probability 0.7786200046539307\n",
            "Document 80, Topic 1: Probability 0.016089102253317833\n",
            "Document 80, Topic 2: Probability 0.015456059947609901\n",
            "Document 80, Topic 3: Probability 0.015320737846195698\n",
            "Document 80, Topic 4: Probability 0.17451408505439758\n",
            "Document 81, Topic 0: Probability 0.4524235427379608\n",
            "Document 81, Topic 1: Probability 0.014443553984165192\n",
            "Document 81, Topic 2: Probability 0.014856155030429363\n",
            "Document 81, Topic 3: Probability 0.30863744020462036\n",
            "Document 81, Topic 4: Probability 0.20963932573795319\n",
            "Document 82, Topic 0: Probability 0.10907050967216492\n",
            "Document 82, Topic 1: Probability 0.07522891461849213\n",
            "Document 82, Topic 2: Probability 0.20061428844928741\n",
            "Document 82, Topic 3: Probability 0.09084980934858322\n",
            "Document 82, Topic 4: Probability 0.5242365002632141\n",
            "Document 83, Topic 0: Probability 0.619732677936554\n",
            "Document 83, Topic 1: Probability 0.23301976919174194\n",
            "Document 83, Topic 2: Probability 0.0106384651735425\n",
            "Document 83, Topic 3: Probability 0.06144862249493599\n",
            "Document 83, Topic 4: Probability 0.0751604363322258\n",
            "Document 84, Topic 0: Probability 0.3332284688949585\n",
            "Document 84, Topic 1: Probability 0.2699659466743469\n",
            "Document 84, Topic 2: Probability 0.017163600772619247\n",
            "Document 84, Topic 3: Probability 0.017108995467424393\n",
            "Document 84, Topic 4: Probability 0.36253300309181213\n",
            "Document 85, Topic 0: Probability 0.17270493507385254\n",
            "Document 85, Topic 1: Probability 0.12065952271223068\n",
            "Document 85, Topic 2: Probability 0.2735351324081421\n",
            "Document 85, Topic 3: Probability 0.24779529869556427\n",
            "Document 85, Topic 4: Probability 0.18530511856079102\n",
            "Document 86, Topic 0: Probability 0.00970110110938549\n",
            "Document 86, Topic 1: Probability 0.08280657976865768\n",
            "Document 86, Topic 2: Probability 0.15953688323497772\n",
            "Document 86, Topic 3: Probability 0.009466836228966713\n",
            "Document 86, Topic 4: Probability 0.7384885549545288\n",
            "Document 87, Topic 0: Probability 0.25917965173721313\n",
            "Document 87, Topic 1: Probability 0.11550040543079376\n",
            "Document 87, Topic 2: Probability 0.2023664116859436\n",
            "Document 87, Topic 3: Probability 0.038113247603178024\n",
            "Document 87, Topic 4: Probability 0.3848402798175812\n",
            "Document 88, Topic 0: Probability 0.20611344277858734\n",
            "Document 88, Topic 1: Probability 0.18728502094745636\n",
            "Document 88, Topic 2: Probability 0.2879560589790344\n",
            "Document 88, Topic 3: Probability 0.08159812539815903\n",
            "Document 88, Topic 4: Probability 0.23704735934734344\n",
            "Document 89, Topic 0: Probability 0.39563849568367004\n",
            "Document 89, Topic 1: Probability 0.09132106602191925\n",
            "Document 89, Topic 2: Probability 0.013447399251163006\n",
            "Document 89, Topic 3: Probability 0.20048972964286804\n",
            "Document 89, Topic 4: Probability 0.2991032898426056\n",
            "Document 90, Topic 0: Probability 0.40556782484054565\n",
            "Document 90, Topic 1: Probability 0.040093060582876205\n",
            "Document 90, Topic 2: Probability 0.04022243618965149\n",
            "Document 90, Topic 3: Probability 0.040058981627225876\n",
            "Document 90, Topic 4: Probability 0.474057674407959\n",
            "Document 91, Topic 0: Probability 0.12921923398971558\n",
            "Document 91, Topic 1: Probability 0.012947567738592625\n",
            "Document 91, Topic 2: Probability 0.24241192638874054\n",
            "Document 91, Topic 3: Probability 0.012364004738628864\n",
            "Document 91, Topic 4: Probability 0.6030572652816772\n",
            "Document 92, Topic 0: Probability 0.28469616174697876\n",
            "Document 92, Topic 1: Probability 0.34078162908554077\n",
            "Document 92, Topic 2: Probability 0.25376173853874207\n",
            "Document 92, Topic 3: Probability 0.012698475271463394\n",
            "Document 92, Topic 4: Probability 0.10806199163198471\n",
            "Document 93, Topic 0: Probability 0.3084327280521393\n",
            "Document 93, Topic 1: Probability 0.015283222310245037\n",
            "Document 93, Topic 2: Probability 0.6457066535949707\n",
            "Document 93, Topic 3: Probability 0.015144195407629013\n",
            "Document 93, Topic 4: Probability 0.015433198772370815\n",
            "Document 94, Topic 0: Probability 0.4367765486240387\n",
            "Document 94, Topic 1: Probability 0.27441704273223877\n",
            "Document 94, Topic 2: Probability 0.2283538281917572\n",
            "Document 94, Topic 3: Probability 0.050676554441452026\n",
            "Document 94, Topic 4: Probability 0.00977600459009409\n",
            "Document 95, Topic 0: Probability 0.6052079200744629\n",
            "Document 95, Topic 1: Probability 0.027290429919958115\n",
            "Document 95, Topic 2: Probability 0.02657245472073555\n",
            "Document 95, Topic 3: Probability 0.026345347985625267\n",
            "Document 95, Topic 4: Probability 0.31458383798599243\n",
            "Document 96, Topic 0: Probability 0.09581787884235382\n",
            "Document 96, Topic 1: Probability 0.377724289894104\n",
            "Document 96, Topic 2: Probability 0.23951098322868347\n",
            "Document 96, Topic 3: Probability 0.015099827200174332\n",
            "Document 96, Topic 4: Probability 0.2718470096588135\n",
            "Document 97, Topic 0: Probability 0.2071390151977539\n",
            "Document 97, Topic 1: Probability 0.09426134824752808\n",
            "Document 97, Topic 2: Probability 0.17966221272945404\n",
            "Document 97, Topic 3: Probability 0.06706088781356812\n",
            "Document 97, Topic 4: Probability 0.45187652111053467\n",
            "Document 98, Topic 0: Probability 0.5967643857002258\n",
            "Document 98, Topic 1: Probability 0.34251007437705994\n",
            "Document 98, Topic 2: Probability 0.02026190422475338\n",
            "Document 98, Topic 3: Probability 0.020203007385134697\n",
            "Document 98, Topic 4: Probability 0.020260697230696678\n"
          ]
        }
      ],
      "source": [
        "# Assuming that your DataFrame has a column named 'text' that contains the text data\n",
        "for index, row in df1.iterrows():\n",
        "    # Get the text from the 'text' column\n",
        "    text = row['Tweet']\n",
        "\n",
        "    # Preprocess the text\n",
        "    tokens = preprocess_text(text)\n",
        "    tweet_stem = stopword(tokens)\n",
        "\n",
        "    # Create a bag-of-words representation\n",
        "    bow = dictionaryx.doc2bow(tweet_stem)\n",
        "\n",
        "    # Predict topics for the document\n",
        "    topics = lda_model12.get_document_topics(bow)\n",
        "\n",
        "    # Print or store the topics and their probabilities\n",
        "    for topic, prob in topics:\n",
        "        print(f\"Document {index}, Topic {topic}: Probability {prob}\")\n"
      ]
    },
    {
      "cell_type": "code",
      "execution_count": null,
      "metadata": {
        "id": "HfxCm6R_nc-Z"
      },
      "outputs": [],
      "source": []
    }
  ],
  "metadata": {
    "accelerator": "GPU",
    "colab": {
      "machine_shape": "hm",
      "provenance": []
    },
    "kernelspec": {
      "display_name": "Python 3",
      "name": "python3"
    },
    "language_info": {
      "name": "python"
    }
  },
  "nbformat": 4,
  "nbformat_minor": 0
}